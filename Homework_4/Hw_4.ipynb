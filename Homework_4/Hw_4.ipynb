{
 "cells": [
  {
   "cell_type": "markdown",
   "metadata": {},
   "source": [
    "# Homework 04 - Applied ML"
   ]
  },
  {
   "cell_type": "markdown",
   "metadata": {},
   "source": [
    "*Remarks for the easy reading of the work*:\n",
    "The data in use are stored in the folder `Data`, the description is available [here](https://github.com/ADAEPFL/Homework/blob/master/04%20-%20Applied%20ML/DATA.md).\n",
    "All the functions that are mentioned are stored in separate libraries that are specified at each step. For some of them the reading of the documentation is required to understand how certain results are obtained. \n",
    "The *Notebook* organisation is specified in the *Table of contents*.\n",
    "\n",
    "__Important__: due to the precence of interactive plot, we suggest you to visualize the notebook using the following [link](http://nbviewer.jupyter.org/github/CriMenghini/ADA_Homeworks/blob/master/Homework_4/Hw_4.ipynb)."
   ]
  },
  {
   "cell_type": "markdown",
   "metadata": {},
   "source": [
    "### Table of contents\n",
    "1. [Predict the skin color of a soccer player](#task1)\n",
    "    1. [Exploratory Data Analysis, Feature Selection and Feature engineering](#EDA)\n",
    "     1. [Target variable](#target)\n",
    "    2. [Baseline model](#baseline)\n",
    "\t3. [Find the model](#tuning)\n",
    "\t4. [*BONUS*](#bonus)\n",
    "2. [Cluster players with dark and light skin colors](#task2)\n",
    "    1. [Sub paragraph](#subparagraph1)"
   ]
  },
  {
   "cell_type": "markdown",
   "metadata": {
    "collapsed": true
   },
   "source": [
    "## 1. Predict the skin color of a soccer player <a name=\"task1\"></a>\n",
    "\n",
    "In this first task we train a *Random forest* classifier to be able to predict the skin color of a soccer player using the player description. In order to do so, we proceed pre-processing the data as first step then moving toward the choice of the model (interpret as the choice of parameters controlling the possible issues i.e. the *overfitting*). As required, we then switch to the inspection of the `feature_importances_` attribute and the discussion of the obtained results."
   ]
  },
  {
   "cell_type": "code",
   "execution_count": 27,
   "metadata": {
    "collapsed": false
   },
   "outputs": [],
   "source": [
    "import os\n",
    "import plotly\n",
    "import numpy as np\n",
    "import pandas as pd\n",
    "import seaborn as sns  \n",
    "from plots import *\n",
    "import plotly.tools as tls\n",
    "from functools import partial\n",
    "import matplotlib.pyplot as plt \n",
    "from data_preprocessing import *\n",
    "from sklearn.utils import shuffle\n",
    "from sklearn.ensemble import RandomForestClassifier\n",
    "from sklearn.model_selection import train_test_split\n",
    "from sklearn.multioutput import MultiOutputClassifier\n",
    "from sklearn import preprocessing\n",
    "from sklearn.model_selection import KFold\n",
    "from sklearn.cluster import KMeans\n",
    "from sklearn.metrics import fbeta_score\n",
    "from tqdm import *\n",
    "plotly.tools.set_credentials_file(username='crimenghini', api_key='t5q05yuxzu')\n",
    "%matplotlib inline"
   ]
  },
  {
   "cell_type": "code",
   "execution_count": 28,
   "metadata": {
    "collapsed": false
   },
   "outputs": [
    {
     "data": {
      "text/html": [
       "<div>\n",
       "<table border=\"1\" class=\"dataframe\">\n",
       "  <thead>\n",
       "    <tr style=\"text-align: right;\">\n",
       "      <th></th>\n",
       "      <th>playerShort</th>\n",
       "      <th>player</th>\n",
       "      <th>club</th>\n",
       "      <th>leagueCountry</th>\n",
       "      <th>birthday</th>\n",
       "      <th>height</th>\n",
       "      <th>weight</th>\n",
       "      <th>position</th>\n",
       "      <th>games</th>\n",
       "      <th>victories</th>\n",
       "      <th>...</th>\n",
       "      <th>rater2</th>\n",
       "      <th>refNum</th>\n",
       "      <th>refCountry</th>\n",
       "      <th>Alpha_3</th>\n",
       "      <th>meanIAT</th>\n",
       "      <th>nIAT</th>\n",
       "      <th>seIAT</th>\n",
       "      <th>meanExp</th>\n",
       "      <th>nExp</th>\n",
       "      <th>seExp</th>\n",
       "    </tr>\n",
       "  </thead>\n",
       "  <tbody>\n",
       "    <tr>\n",
       "      <th>0</th>\n",
       "      <td>lucas-wilchez</td>\n",
       "      <td>Lucas Wilchez</td>\n",
       "      <td>Real Zaragoza</td>\n",
       "      <td>Spain</td>\n",
       "      <td>31.08.1983</td>\n",
       "      <td>177.0</td>\n",
       "      <td>72.0</td>\n",
       "      <td>Attacking Midfielder</td>\n",
       "      <td>1</td>\n",
       "      <td>0</td>\n",
       "      <td>...</td>\n",
       "      <td>0.50</td>\n",
       "      <td>1</td>\n",
       "      <td>1</td>\n",
       "      <td>GRC</td>\n",
       "      <td>0.326391</td>\n",
       "      <td>712.0</td>\n",
       "      <td>0.000564</td>\n",
       "      <td>0.396000</td>\n",
       "      <td>750.0</td>\n",
       "      <td>0.002696</td>\n",
       "    </tr>\n",
       "    <tr>\n",
       "      <th>1</th>\n",
       "      <td>john-utaka</td>\n",
       "      <td>John Utaka</td>\n",
       "      <td>Montpellier HSC</td>\n",
       "      <td>France</td>\n",
       "      <td>08.01.1982</td>\n",
       "      <td>179.0</td>\n",
       "      <td>82.0</td>\n",
       "      <td>Right Winger</td>\n",
       "      <td>1</td>\n",
       "      <td>0</td>\n",
       "      <td>...</td>\n",
       "      <td>0.75</td>\n",
       "      <td>2</td>\n",
       "      <td>2</td>\n",
       "      <td>ZMB</td>\n",
       "      <td>0.203375</td>\n",
       "      <td>40.0</td>\n",
       "      <td>0.010875</td>\n",
       "      <td>-0.204082</td>\n",
       "      <td>49.0</td>\n",
       "      <td>0.061504</td>\n",
       "    </tr>\n",
       "    <tr>\n",
       "      <th>2</th>\n",
       "      <td>abdon-prats</td>\n",
       "      <td>Abdón Prats</td>\n",
       "      <td>RCD Mallorca</td>\n",
       "      <td>Spain</td>\n",
       "      <td>17.12.1992</td>\n",
       "      <td>181.0</td>\n",
       "      <td>79.0</td>\n",
       "      <td>NaN</td>\n",
       "      <td>1</td>\n",
       "      <td>0</td>\n",
       "      <td>...</td>\n",
       "      <td>NaN</td>\n",
       "      <td>3</td>\n",
       "      <td>3</td>\n",
       "      <td>ESP</td>\n",
       "      <td>0.369894</td>\n",
       "      <td>1785.0</td>\n",
       "      <td>0.000229</td>\n",
       "      <td>0.588297</td>\n",
       "      <td>1897.0</td>\n",
       "      <td>0.001002</td>\n",
       "    </tr>\n",
       "    <tr>\n",
       "      <th>3</th>\n",
       "      <td>pablo-mari</td>\n",
       "      <td>Pablo Marí</td>\n",
       "      <td>RCD Mallorca</td>\n",
       "      <td>Spain</td>\n",
       "      <td>31.08.1993</td>\n",
       "      <td>191.0</td>\n",
       "      <td>87.0</td>\n",
       "      <td>Center Back</td>\n",
       "      <td>1</td>\n",
       "      <td>1</td>\n",
       "      <td>...</td>\n",
       "      <td>NaN</td>\n",
       "      <td>3</td>\n",
       "      <td>3</td>\n",
       "      <td>ESP</td>\n",
       "      <td>0.369894</td>\n",
       "      <td>1785.0</td>\n",
       "      <td>0.000229</td>\n",
       "      <td>0.588297</td>\n",
       "      <td>1897.0</td>\n",
       "      <td>0.001002</td>\n",
       "    </tr>\n",
       "    <tr>\n",
       "      <th>4</th>\n",
       "      <td>ruben-pena</td>\n",
       "      <td>Rubén Peña</td>\n",
       "      <td>Real Valladolid</td>\n",
       "      <td>Spain</td>\n",
       "      <td>18.07.1991</td>\n",
       "      <td>172.0</td>\n",
       "      <td>70.0</td>\n",
       "      <td>Right Midfielder</td>\n",
       "      <td>1</td>\n",
       "      <td>1</td>\n",
       "      <td>...</td>\n",
       "      <td>NaN</td>\n",
       "      <td>3</td>\n",
       "      <td>3</td>\n",
       "      <td>ESP</td>\n",
       "      <td>0.369894</td>\n",
       "      <td>1785.0</td>\n",
       "      <td>0.000229</td>\n",
       "      <td>0.588297</td>\n",
       "      <td>1897.0</td>\n",
       "      <td>0.001002</td>\n",
       "    </tr>\n",
       "  </tbody>\n",
       "</table>\n",
       "<p>5 rows × 28 columns</p>\n",
       "</div>"
      ],
      "text/plain": [
       "     playerShort         player             club leagueCountry    birthday  \\\n",
       "0  lucas-wilchez  Lucas Wilchez    Real Zaragoza         Spain  31.08.1983   \n",
       "1     john-utaka     John Utaka  Montpellier HSC        France  08.01.1982   \n",
       "2    abdon-prats    Abdón Prats     RCD Mallorca         Spain  17.12.1992   \n",
       "3     pablo-mari     Pablo Marí     RCD Mallorca         Spain  31.08.1993   \n",
       "4     ruben-pena     Rubén Peña  Real Valladolid         Spain  18.07.1991   \n",
       "\n",
       "   height  weight              position  games  victories    ...     rater2  \\\n",
       "0   177.0    72.0  Attacking Midfielder      1          0    ...       0.50   \n",
       "1   179.0    82.0          Right Winger      1          0    ...       0.75   \n",
       "2   181.0    79.0                   NaN      1          0    ...        NaN   \n",
       "3   191.0    87.0           Center Back      1          1    ...        NaN   \n",
       "4   172.0    70.0      Right Midfielder      1          1    ...        NaN   \n",
       "\n",
       "   refNum  refCountry  Alpha_3   meanIAT    nIAT     seIAT   meanExp    nExp  \\\n",
       "0       1           1      GRC  0.326391   712.0  0.000564  0.396000   750.0   \n",
       "1       2           2      ZMB  0.203375    40.0  0.010875 -0.204082    49.0   \n",
       "2       3           3      ESP  0.369894  1785.0  0.000229  0.588297  1897.0   \n",
       "3       3           3      ESP  0.369894  1785.0  0.000229  0.588297  1897.0   \n",
       "4       3           3      ESP  0.369894  1785.0  0.000229  0.588297  1897.0   \n",
       "\n",
       "      seExp  \n",
       "0  0.002696  \n",
       "1  0.061504  \n",
       "2  0.001002  \n",
       "3  0.001002  \n",
       "4  0.001002  \n",
       "\n",
       "[5 rows x 28 columns]"
      ]
     },
     "execution_count": 28,
     "metadata": {},
     "output_type": "execute_result"
    }
   ],
   "source": [
    "# Import data \n",
    "data = pd.read_csv('Data/CrowdstormingDataJuly1st.csv', sep = ',')\n",
    "# Take a look at the data head\n",
    "data.head()"
   ]
  },
  {
   "cell_type": "markdown",
   "metadata": {},
   "source": [
    "### A. Exploratory Data Analysis, Feature Selection and Feature engineering <a name=\"EDA\"></a>"
   ]
  },
  {
   "cell_type": "markdown",
   "metadata": {
    "collapsed": true
   },
   "source": [
    "### a. Target variable <a name=\"target\"></a>\n",
    "\n",
    "Before proceeding with the exploration of the features, we focuse our attention on the target variable (`rater1`, `rater2`). In this case we face the folliwing issues:\n",
    "1. [*Absence of labels*](#absence): Not all the players have an `IDphoto`, thus the *raters* can not label the skin color. It results in a bunch of player not labeled. Since in this first task we work using the *Supervised* learning we drop out all the *dyads* that correspond to players whose picture is not available.\n",
    "\n",
    "2. [*Inconsistency of labels*](#inconsistency): The labels assigned by the two raters for some players disagree. In order to control this inconsistency we think about different approaches. \n",
    "    - Compute the mean of the assigned scores. Whether the classification problem is set up as a *multiclassification* problem (five classes according to the `data description` - 0, 0.25, 0.5, 0.75, 1), if the disagreement of the two classes is greater than 0.25 (absolute value) the computation of the average implies the creation of new classes. Otherwise, whether the classification problem is simplified to the *binary* classification (all those players that have been labeled with $0 < values \\leq 0.5$ belong to class 0, all those whose $0.5 < values \\leq 1$) the values obtained computing the average can be easily assigned to one of the two classes.\n",
    "    - Use the two scores vectors to train the model, defining a *multi target* model whether the problem is set up both as *multiclass* or *binary*.\n",
    "        \n",
    "3. [*Unbalanced sample*](#unbalance): the sample that we analyse turns to be *unbalanced*. It means that there are classes that are more present in the population. This verification leads to the necessity of using different metrics, rather the *simple* accuracy, to evaluate the model, and can be in some way faced using some tecniques to *rebalance* the sample."
   ]
  },
  {
   "cell_type": "markdown",
   "metadata": {},
   "source": [
    "#### 1. Absence of labels  <a name=\"absence\"></a>"
   ]
  },
  {
   "cell_type": "code",
   "execution_count": 29,
   "metadata": {
    "collapsed": false
   },
   "outputs": [],
   "source": [
    "# Drop out the unlabeled players\n",
    "data_clean = data[(data.photoID.notnull())]"
   ]
  },
  {
   "cell_type": "markdown",
   "metadata": {},
   "source": [
    "Now we are left with the data for the players that have a picture. We want to check whether given the picture both of the raters assuigned the label."
   ]
  },
  {
   "cell_type": "code",
   "execution_count": 30,
   "metadata": {
    "collapsed": false
   },
   "outputs": [
    {
     "name": "stdout",
     "output_type": "stream",
     "text": [
      "('Rater 1 does not label', 0, 'players')\n",
      "('Rater 2 does not label', 0, 'players')\n"
     ]
    }
   ],
   "source": [
    "# How many players the rater 1 don't label?\n",
    "miss_rater_1 = sum(data_clean.rater1.isnull())\n",
    "# How many the rater 2?\n",
    "miss_rater_2 = sum(data_clean.rater2.isnull())\n",
    "\n",
    "print ('Rater 1 does not label', miss_rater_1, 'players')\n",
    "print ('Rater 2 does not label', miss_rater_2, 'players')"
   ]
  },
  {
   "cell_type": "markdown",
   "metadata": {},
   "source": [
    "We see that both of them label all the players with a picture."
   ]
  },
  {
   "cell_type": "markdown",
   "metadata": {},
   "source": [
    "#### 2. Inconsistency of labels <a name=\"inconsistency\"></a>\n",
    "\n",
    "##### 2.1. Handle `NaNs`\n",
    "Before analysing the *target* we should control whether there is the precence of `NaN` values, that can eventually lead to the elimitation of players, in the dataset, then we *aggregate* by the player. It is important to check the precence of null values before the aggregation for two reasons:\n",
    "* It is possible that some dyads do not contain certain values, it does not imply that in the dataset we can not find other dyads that contain the information. Hence, we remove the dyads or, if possible, assign the value (according to the kind of attribute) so that we don't loose the player.\n",
    "* The precence of `NaN` can cause problems whether an aggregation function is applied. That's because they may propagate."
   ]
  },
  {
   "cell_type": "code",
   "execution_count": 31,
   "metadata": {
    "collapsed": false
   },
   "outputs": [],
   "source": [
    "# Initialize the dictionary {key:value} whose key is the attributed with NaNs and value are the indices\n",
    "variables_with_nan = {}\n",
    "\n",
    "# For each attribute\n",
    "for attribute in data_clean.columns:\n",
    "    # Check if there are nans\n",
    "    index_nan = data_clean[attribute].isnull()\n",
    "    presence_nan = sum(index_nan)\n",
    "    \n",
    "    if presence_nan != 0:\n",
    "        variables_with_nan[attribute] = index_nan"
   ]
  },
  {
   "cell_type": "markdown",
   "metadata": {},
   "source": [
    "Here the variables with `NaNs` is listed. "
   ]
  },
  {
   "cell_type": "code",
   "execution_count": 32,
   "metadata": {
    "collapsed": false
   },
   "outputs": [
    {
     "name": "stdout",
     "output_type": "stream",
     "text": [
      "['weight', 'meanIAT', 'nExp', 'height', 'nIAT', 'seIAT', 'seExp', 'Alpha_3', 'position', 'meanExp']\n"
     ]
    }
   ],
   "source": [
    "print(variables_with_nan.keys())"
   ]
  },
  {
   "cell_type": "markdown",
   "metadata": {},
   "source": [
    "We proceed considering the attributes related to the players: `weight`, `height`, `position`."
   ]
  },
  {
   "cell_type": "code",
   "execution_count": 33,
   "metadata": {
    "collapsed": true
   },
   "outputs": [],
   "source": [
    "players_attributes = ['weight', 'height', 'position']"
   ]
  },
  {
   "cell_type": "markdown",
   "metadata": {},
   "source": [
    "Thus, we clean the dataframe, the documentation related to the function [`remove_nans`](data_preprocessing.py) provides the explanation related to the procedure used to remove `NaNs`."
   ]
  },
  {
   "cell_type": "code",
   "execution_count": 34,
   "metadata": {
    "collapsed": true
   },
   "outputs": [],
   "source": [
    "data_clean = remove_nans(data_clean, variables_with_nan, players_attributes)"
   ]
  },
  {
   "cell_type": "markdown",
   "metadata": {},
   "source": [
    "We remove ~21% of the dyads, but the number of drop player is controlled by the approach used to remove the `NaNs`. In fact we remove just those player whose important description feature are missing."
   ]
  },
  {
   "cell_type": "code",
   "execution_count": 35,
   "metadata": {
    "collapsed": false
   },
   "outputs": [
    {
     "name": "stdout",
     "output_type": "stream",
     "text": [
      "('Number of removed dyads: ', 30425)\n",
      "('Percentage of the removed dyads: ', 20.84, '%')\n"
     ]
    }
   ],
   "source": [
    "print('Number of removed dyads: ', data.shape[0] - data_clean.shape[0])\n",
    "print('Percentage of the removed dyads: ',round((data.shape[0] - data_clean.shape[0])/(1.0*len(data))*100,2),'%')"
   ]
  },
  {
   "cell_type": "markdown",
   "metadata": {},
   "source": [
    "Then, we aggregate by player and we observe that we proceed the analysis taking into account ~90% of the players."
   ]
  },
  {
   "cell_type": "code",
   "execution_count": 36,
   "metadata": {
    "collapsed": true
   },
   "outputs": [],
   "source": [
    "# Group by the player\n",
    "player_data = data_clean.groupby('playerShort')"
   ]
  },
  {
   "cell_type": "code",
   "execution_count": 37,
   "metadata": {
    "collapsed": false
   },
   "outputs": [
    {
     "name": "stdout",
     "output_type": "stream",
     "text": [
      "('Number of players: ', 1419)\n",
      "('Percentage of analysed players: ', 89.47, '%')\n"
     ]
    }
   ],
   "source": [
    "print ('Number of players: ', len(player_data))\n",
    "print ('Percentage of analysed players: ', round(len(player_data)/(1.0 * 1586)*100, 2), '%')"
   ]
  },
  {
   "cell_type": "markdown",
   "metadata": {},
   "source": [
    "Before using the aggregation functions for some attributes we check whether aggregating we risk to loose some information."
   ]
  },
  {
   "cell_type": "code",
   "execution_count": 38,
   "metadata": {
    "collapsed": false
   },
   "outputs": [
    {
     "name": "stdout",
     "output_type": "stream",
     "text": [
      "('Each player belongs to: ', 1, 'club.')\n",
      "('Each player registers:', 1, 'position.')\n",
      "('Each player registers: ', 1.0, 'weight.')\n",
      "('Each player registers: ', 1.0, 'height.')\n"
     ]
    }
   ],
   "source": [
    "# Check that each player belongs to one club\n",
    "print ('Each player belongs to: ', player_data.agg({'club' : lambda x: len(set(x))})['club'].unique()[0], 'club.')\n",
    "# Check that each player registers one position\n",
    "print ('Each player registers:', player_data.agg({'position' : lambda x: len(set(x))})['position'].unique()[0], 'position.')\n",
    "# Check that each player registers one weight\n",
    "print ('Each player registers: ', player_data.agg({'weight' : lambda x: len(set(x))})['weight'].unique()[0], 'weight.')\n",
    "# Check that each player registers one height\n",
    "print ('Each player registers: ', player_data.agg({'height' : lambda x: len(set(x))})['height'].unique()[0], 'height.')"
   ]
  },
  {
   "cell_type": "code",
   "execution_count": 39,
   "metadata": {
    "collapsed": true
   },
   "outputs": [],
   "source": [
    "# Define the aggregation function\n",
    "players = player_data.agg({'club' : 'first',\n",
    "                           'leagueCountry' : 'first',\n",
    "                           'birthday' : 'first',\n",
    "                           'height' : 'first',\n",
    "                           'weight' : 'first',\n",
    "                           'position' : 'first',\n",
    "                           'games' : 'sum',\n",
    "                           'victories' : 'sum',\n",
    "                           'ties' : 'sum',\n",
    "                           'defeats' : 'sum',\n",
    "                           'goals' : 'sum',\n",
    "                           'yellowCards': 'sum',\n",
    "                           'yellowReds': 'sum',\n",
    "                           'redCards' : 'sum',\n",
    "                           'rater1' : 'mean',\n",
    "                           'rater2' : 'mean',\n",
    "                           #'refNum' : 'count',\n",
    "                           #'refCountry' : 'count',\n",
    "                           #'meanIAT' : 'mean',\n",
    "                           #'meanExp' : 'mean'\n",
    "                          })"
   ]
  },
  {
   "cell_type": "code",
   "execution_count": 40,
   "metadata": {
    "collapsed": false
   },
   "outputs": [
    {
     "data": {
      "text/html": [
       "<div>\n",
       "<table border=\"1\" class=\"dataframe\">\n",
       "  <thead>\n",
       "    <tr style=\"text-align: right;\">\n",
       "      <th></th>\n",
       "      <th>rater2</th>\n",
       "      <th>weight</th>\n",
       "      <th>leagueCountry</th>\n",
       "      <th>defeats</th>\n",
       "      <th>club</th>\n",
       "      <th>rater1</th>\n",
       "      <th>height</th>\n",
       "      <th>victories</th>\n",
       "      <th>yellowReds</th>\n",
       "      <th>birthday</th>\n",
       "      <th>games</th>\n",
       "      <th>goals</th>\n",
       "      <th>ties</th>\n",
       "      <th>position</th>\n",
       "      <th>redCards</th>\n",
       "      <th>yellowCards</th>\n",
       "    </tr>\n",
       "    <tr>\n",
       "      <th>playerShort</th>\n",
       "      <th></th>\n",
       "      <th></th>\n",
       "      <th></th>\n",
       "      <th></th>\n",
       "      <th></th>\n",
       "      <th></th>\n",
       "      <th></th>\n",
       "      <th></th>\n",
       "      <th></th>\n",
       "      <th></th>\n",
       "      <th></th>\n",
       "      <th></th>\n",
       "      <th></th>\n",
       "      <th></th>\n",
       "      <th></th>\n",
       "      <th></th>\n",
       "    </tr>\n",
       "  </thead>\n",
       "  <tbody>\n",
       "    <tr>\n",
       "      <th>aaron-hughes</th>\n",
       "      <td>0.00</td>\n",
       "      <td>71.0</td>\n",
       "      <td>England</td>\n",
       "      <td>228</td>\n",
       "      <td>Fulham FC</td>\n",
       "      <td>0.25</td>\n",
       "      <td>182.0</td>\n",
       "      <td>247</td>\n",
       "      <td>0</td>\n",
       "      <td>08.11.1979</td>\n",
       "      <td>654</td>\n",
       "      <td>9</td>\n",
       "      <td>179</td>\n",
       "      <td>Center Back</td>\n",
       "      <td>0</td>\n",
       "      <td>19</td>\n",
       "    </tr>\n",
       "    <tr>\n",
       "      <th>aaron-hunt</th>\n",
       "      <td>0.25</td>\n",
       "      <td>73.0</td>\n",
       "      <td>Germany</td>\n",
       "      <td>122</td>\n",
       "      <td>Werder Bremen</td>\n",
       "      <td>0.00</td>\n",
       "      <td>183.0</td>\n",
       "      <td>141</td>\n",
       "      <td>0</td>\n",
       "      <td>04.09.1986</td>\n",
       "      <td>336</td>\n",
       "      <td>62</td>\n",
       "      <td>73</td>\n",
       "      <td>Attacking Midfielder</td>\n",
       "      <td>1</td>\n",
       "      <td>42</td>\n",
       "    </tr>\n",
       "    <tr>\n",
       "      <th>aaron-lennon</th>\n",
       "      <td>0.25</td>\n",
       "      <td>63.0</td>\n",
       "      <td>England</td>\n",
       "      <td>115</td>\n",
       "      <td>Tottenham Hotspur</td>\n",
       "      <td>0.25</td>\n",
       "      <td>165.0</td>\n",
       "      <td>200</td>\n",
       "      <td>0</td>\n",
       "      <td>16.04.1987</td>\n",
       "      <td>412</td>\n",
       "      <td>31</td>\n",
       "      <td>97</td>\n",
       "      <td>Right Midfielder</td>\n",
       "      <td>0</td>\n",
       "      <td>11</td>\n",
       "    </tr>\n",
       "    <tr>\n",
       "      <th>aaron-ramsey</th>\n",
       "      <td>0.00</td>\n",
       "      <td>76.0</td>\n",
       "      <td>England</td>\n",
       "      <td>68</td>\n",
       "      <td>Arsenal FC</td>\n",
       "      <td>0.00</td>\n",
       "      <td>178.0</td>\n",
       "      <td>150</td>\n",
       "      <td>0</td>\n",
       "      <td>26.12.1990</td>\n",
       "      <td>260</td>\n",
       "      <td>39</td>\n",
       "      <td>42</td>\n",
       "      <td>Center Midfielder</td>\n",
       "      <td>1</td>\n",
       "      <td>31</td>\n",
       "    </tr>\n",
       "    <tr>\n",
       "      <th>abdelhamid-el-kaoutari</th>\n",
       "      <td>0.25</td>\n",
       "      <td>73.0</td>\n",
       "      <td>France</td>\n",
       "      <td>43</td>\n",
       "      <td>Montpellier HSC</td>\n",
       "      <td>0.25</td>\n",
       "      <td>180.0</td>\n",
       "      <td>41</td>\n",
       "      <td>4</td>\n",
       "      <td>17.03.1990</td>\n",
       "      <td>124</td>\n",
       "      <td>1</td>\n",
       "      <td>40</td>\n",
       "      <td>Center Back</td>\n",
       "      <td>2</td>\n",
       "      <td>8</td>\n",
       "    </tr>\n",
       "  </tbody>\n",
       "</table>\n",
       "</div>"
      ],
      "text/plain": [
       "                        rater2  weight leagueCountry  defeats  \\\n",
       "playerShort                                                     \n",
       "aaron-hughes              0.00    71.0       England      228   \n",
       "aaron-hunt                0.25    73.0       Germany      122   \n",
       "aaron-lennon              0.25    63.0       England      115   \n",
       "aaron-ramsey              0.00    76.0       England       68   \n",
       "abdelhamid-el-kaoutari    0.25    73.0        France       43   \n",
       "\n",
       "                                     club  rater1  height  victories  \\\n",
       "playerShort                                                            \n",
       "aaron-hughes                    Fulham FC    0.25   182.0        247   \n",
       "aaron-hunt                  Werder Bremen    0.00   183.0        141   \n",
       "aaron-lennon            Tottenham Hotspur    0.25   165.0        200   \n",
       "aaron-ramsey                   Arsenal FC    0.00   178.0        150   \n",
       "abdelhamid-el-kaoutari    Montpellier HSC    0.25   180.0         41   \n",
       "\n",
       "                        yellowReds    birthday  games  goals  ties  \\\n",
       "playerShort                                                          \n",
       "aaron-hughes                     0  08.11.1979    654      9   179   \n",
       "aaron-hunt                       0  04.09.1986    336     62    73   \n",
       "aaron-lennon                     0  16.04.1987    412     31    97   \n",
       "aaron-ramsey                     0  26.12.1990    260     39    42   \n",
       "abdelhamid-el-kaoutari           4  17.03.1990    124      1    40   \n",
       "\n",
       "                                    position  redCards  yellowCards  \n",
       "playerShort                                                          \n",
       "aaron-hughes                     Center Back         0           19  \n",
       "aaron-hunt              Attacking Midfielder         1           42  \n",
       "aaron-lennon                Right Midfielder         0           11  \n",
       "aaron-ramsey               Center Midfielder         1           31  \n",
       "abdelhamid-el-kaoutari           Center Back         2            8  "
      ]
     },
     "execution_count": 40,
     "metadata": {},
     "output_type": "execute_result"
    }
   ],
   "source": [
    "players.head()"
   ]
  },
  {
   "cell_type": "markdown",
   "metadata": {},
   "source": [
    "##### 2.2. Analyse the target  <a name=\"rater12\"></a>"
   ]
  },
  {
   "cell_type": "markdown",
   "metadata": {},
   "source": [
    "From the new dataframe we extract the two variables that correspond to the labels."
   ]
  },
  {
   "cell_type": "code",
   "execution_count": 41,
   "metadata": {
    "collapsed": true
   },
   "outputs": [],
   "source": [
    "# Extract labels\n",
    "label_1 = players['rater1']\n",
    "label_2 = players['rater2']"
   ]
  },
  {
   "cell_type": "markdown",
   "metadata": {},
   "source": [
    "We observe that the distribution of the labels related to the two raters are different. It shows the disagreement aforementioned. In particular, the first classifies the 75% of the players as *very light skin*, *light skin*, the number of players classified as *dark skin* or *very dark skin* is so low that the are outside the *Inter-Quartile Range*. The second rated evidence the tendency of giving higher scores. Since we do not have another rater to compare, we can't make an assumption on the reliability of the two."
   ]
  },
  {
   "cell_type": "markdown",
   "metadata": {},
   "source": [
    "### INSERT TITLE"
   ]
  },
  {
   "cell_type": "code",
   "execution_count": 42,
   "metadata": {
    "collapsed": false
   },
   "outputs": [
    {
     "data": {
      "image/png": "[encoded data removed]",
      "text/plain": [
       "<matplotlib.figure.Figure at 0x7fdbd0e70bd0>"
      ]
     },
     "metadata": {},
     "output_type": "display_data"
    }
   ],
   "source": [
    "label_boxplot(label_1, label_2)"
   ]
  },
  {
   "cell_type": "markdown",
   "metadata": {},
   "source": [
    "#### 3. Unbalanced sample <a name=\"unbalance\"></a>"
   ]
  },
  {
   "cell_type": "markdown",
   "metadata": {},
   "source": [
    "In the view of what we observed in the [previous](#rater12) section, we see that our sample suffers of the lack of samples that are recognized as *dark skin* or *very dark skin*. We show more clearly with the following plot the unbalancement. In particular we see that both the *Rater 1* and *Rater 2* classify in the first three classes more than the 50%."
   ]
  },
  {
   "cell_type": "code",
   "execution_count": 43,
   "metadata": {
    "collapsed": false
   },
   "outputs": [
    {
     "name": "stdout",
     "output_type": "stream",
     "text": [
      "High five! You successfuly sent some data to your account on plotly. View your plot in your browser at https://plot.ly/~crimenghini/0 or inside your plot.ly account where it is named 'stacked-bar'\n"
     ]
    },
    {
     "data": {
      "text/html": [
       "<iframe id=\"igraph\" scrolling=\"no\" style=\"border:none;\" seamless=\"seamless\" src=\"https://plot.ly/~crimenghini/0.embed\" height=\"525\" width=\"100%\"></iframe>"
      ],
      "text/plain": [
       "<plotly.tools.PlotlyDisplay object>"
      ]
     },
     "execution_count": 43,
     "metadata": {},
     "output_type": "execute_result"
    }
   ],
   "source": [
    "stacked_plot(label_1,label_2)\n",
    "tls.embed(\"https://plot.ly/~crimenghini/0\")"
   ]
  },
  {
   "cell_type": "markdown",
   "metadata": {},
   "source": [
    "This verification implies important consideration for the further analysis. \n",
    "1. We redifine the goal of our analysis as a *Binary Classification* problem. We consider it enough to distinguish a \"light skin\" player from a \"dark skin\". In particular the Labels are encoded according to the intervals defined [above](#target). This choice can help us in facing the *unbalancement* of our sample and reduce the complexity of our classification problem. \n",
    "2. So far we used the *Accuracy* metric in order to evaluate the accuracy of the model. We will replace it with some other metric. The reason behind it comes from the definition of the accuracy. It is a ratio of the correct prediction over the total sample to predict. Due to the presence of a class (*light skin*) that represents the majority in the sample, the classifier is able to classify this class well. In particular it tends to classify all the observation as that class (we will look at the confusion matrices later). Thus, the accuracy results to be very good just because of the high precence of the class in the data."
   ]
  },
  {
   "cell_type": "markdown",
   "metadata": {},
   "source": [
    "Thus, we encode the labels according to the binary classification problem. Before encoding the labels we merge the rates given by the two raters by averaging the scores. The function is stored in [`data_preprocessing`](data_preprocessing.py) library."
   ]
  },
  {
   "cell_type": "code",
   "execution_count": 44,
   "metadata": {
    "collapsed": true
   },
   "outputs": [],
   "source": [
    "label_merged = (label_1 + label_2)/2\n",
    "labels = label_merged.apply(binary_labels)"
   ]
  },
  {
   "cell_type": "code",
   "execution_count": 45,
   "metadata": {
    "collapsed": true
   },
   "outputs": [],
   "source": [
    "players.drop('rater1', axis = 1, inplace = True)"
   ]
  },
  {
   "cell_type": "code",
   "execution_count": 46,
   "metadata": {
    "collapsed": false
   },
   "outputs": [],
   "source": [
    "players.drop('rater2', axis= 1, inplace = True)"
   ]
  },
  {
   "cell_type": "markdown",
   "metadata": {},
   "source": [
    "### Baseline model  <a name=\"baseline\"></a>"
   ]
  },
  {
   "cell_type": "markdown",
   "metadata": {},
   "source": [
    "1. Use only the variables related to the player.\n",
    "2. How do we treat the different features:\n",
    " 1. B-day: just keep the year\n",
    " 2. Categorization of numerical features when they present more than 12 different values\n",
    " 3. Encoding of the 'object' attributes according to what is required by the `sklearn`'s `RandomForest` classifier."
   ]
  },
  {
   "cell_type": "markdown",
   "metadata": {},
   "source": [
    "#### Preprocess variable to be used as input for the classifier"
   ]
  },
  {
   "cell_type": "code",
   "execution_count": 47,
   "metadata": {
    "collapsed": true
   },
   "outputs": [],
   "source": [
    "players['birthday'] = players['birthday'].apply(lambda x: float(x.split('.')[-1]))"
   ]
  },
  {
   "cell_type": "code",
   "execution_count": 48,
   "metadata": {
    "collapsed": false
   },
   "outputs": [],
   "source": [
    "# Get the string variables\n",
    "object_features = [i for i in players.columns if players[i].dtypes == 'object']\n",
    "numerical_features = [i for i in players.columns if (players[i].dtypes == 'int64' or players[i].dtypes == 'float64') and len(players[i].unique()) > 12]"
   ]
  },
  {
   "cell_type": "code",
   "execution_count": 49,
   "metadata": {
    "collapsed": true
   },
   "outputs": [],
   "source": [
    "# Encode strings\n",
    "for feature in object_features:\n",
    "    encode_string_variable(players, feature)"
   ]
  },
  {
   "cell_type": "code",
   "execution_count": 50,
   "metadata": {
    "collapsed": false
   },
   "outputs": [],
   "source": [
    "# Categorise the numerical features\n",
    "for i in range(len(numerical_features)):\n",
    "    players[numerical_features[i]] = players[numerical_features[i]].apply(partial(categorisation, create_bins(players, numerical_features[i])))"
   ]
  },
  {
   "cell_type": "markdown",
   "metadata": {
    "collapsed": true
   },
   "source": [
    "#### Split train and test"
   ]
  },
  {
   "cell_type": "code",
   "execution_count": 51,
   "metadata": {
    "collapsed": false
   },
   "outputs": [],
   "source": [
    "X_train, X_test, y_train, y_test = train_test_split(players, labels, test_size=0.20, random_state=42)"
   ]
  },
  {
   "cell_type": "code",
   "execution_count": 52,
   "metadata": {
    "collapsed": false
   },
   "outputs": [],
   "source": [
    "weight_class = y_train.value_counts()/len(y_train)"
   ]
  },
  {
   "cell_type": "code",
   "execution_count": 53,
   "metadata": {
    "collapsed": false
   },
   "outputs": [
    {
     "data": {
      "text/plain": [
       "0    0.839648\n",
       "1    0.160352\n",
       "dtype: float64"
      ]
     },
     "execution_count": 53,
     "metadata": {},
     "output_type": "execute_result"
    }
   ],
   "source": [
    "weight_class"
   ]
  },
  {
   "cell_type": "code",
   "execution_count": 54,
   "metadata": {
    "collapsed": false
   },
   "outputs": [],
   "source": [
    "sample_weights = []\n",
    "for i in y_train:\n",
    "    sample_weights += [weight_class[i]]"
   ]
  },
  {
   "cell_type": "code",
   "execution_count": 55,
   "metadata": {
    "collapsed": true
   },
   "outputs": [],
   "source": [
    "forest = RandomForestClassifier(n_estimators=100, random_state=1, class_weight='balanced')"
   ]
  },
  {
   "cell_type": "code",
   "execution_count": 56,
   "metadata": {
    "collapsed": false
   },
   "outputs": [],
   "source": [
    "train_forest = forest.fit(X_train, y_train, sample_weight= sample_weights)"
   ]
  },
  {
   "cell_type": "code",
   "execution_count": 57,
   "metadata": {
    "collapsed": false
   },
   "outputs": [],
   "source": [
    "predict = train_forest.predict(X_test)"
   ]
  },
  {
   "cell_type": "code",
   "execution_count": 58,
   "metadata": {
    "collapsed": false
   },
   "outputs": [
    {
     "data": {
      "text/plain": [
       "0.83450704225352113"
      ]
     },
     "execution_count": 58,
     "metadata": {},
     "output_type": "execute_result"
    }
   ],
   "source": [
    "train_forest.score(X_test, y_test)"
   ]
  },
  {
   "cell_type": "code",
   "execution_count": null,
   "metadata": {
    "collapsed": true
   },
   "outputs": [],
   "source": []
  },
  {
   "cell_type": "markdown",
   "metadata": {
    "collapsed": true
   },
   "source": [
    "### Find the model <a name=\"tuning\"></a>"
   ]
  },
  {
   "cell_type": "markdown",
   "metadata": {},
   "source": [
    "#### Cross-validation"
   ]
  },
  {
   "cell_type": "markdown",
   "metadata": {},
   "source": [
    "We need to check our model in terms of overfitting. In order to do that we perform cross-validation. We will use KFold algorithm."
   ]
  },
  {
   "cell_type": "code",
   "execution_count": 59,
   "metadata": {
    "collapsed": false
   },
   "outputs": [
    {
     "data": {
      "text/plain": [
       "1135"
      ]
     },
     "execution_count": 59,
     "metadata": {},
     "output_type": "execute_result"
    }
   ],
   "source": [
    "len(sample_weights)"
   ]
  },
  {
   "cell_type": "code",
   "execution_count": 60,
   "metadata": {
    "collapsed": false
   },
   "outputs": [
    {
     "ename": "NameError",
     "evalue": "name 'train_index' is not defined",
     "output_type": "error",
     "traceback": [
      "\u001b[0;31m---------------------------------------------------------------------------\u001b[0m",
      "\u001b[0;31mNameError\u001b[0m                                 Traceback (most recent call last)",
      "\u001b[0;32m<ipython-input-60-4b18694934a4>\u001b[0m in \u001b[0;36m<module>\u001b[0;34m()\u001b[0m\n\u001b[0;32m----> 1\u001b[0;31m \u001b[0mlen\u001b[0m\u001b[0;34m(\u001b[0m\u001b[0mplayers\u001b[0m\u001b[0;34m.\u001b[0m\u001b[0miloc\u001b[0m\u001b[0;34m[\u001b[0m\u001b[0mtrain_index\u001b[0m\u001b[0;34m]\u001b[0m\u001b[0;34m)\u001b[0m\u001b[0;34m\u001b[0m\u001b[0m\n\u001b[0m",
      "\u001b[0;31mNameError\u001b[0m: name 'train_index' is not defined"
     ]
    }
   ],
   "source": [
    "len(players.iloc[train_index])"
   ]
  },
  {
   "cell_type": "code",
   "execution_count": null,
   "metadata": {
    "collapsed": false
   },
   "outputs": [],
   "source": [
    "len(labels.iloc[train_index])"
   ]
  },
  {
   "cell_type": "code",
   "execution_count": null,
   "metadata": {
    "collapsed": false
   },
   "outputs": [],
   "source": [
    "np.array(players.iloc[test_index])"
   ]
  },
  {
   "cell_type": "markdown",
   "metadata": {
    "collapsed": true
   },
   "source": [
    "### *BONUS* <a name=\"bonus\"></a>"
   ]
  },
  {
   "cell_type": "markdown",
   "metadata": {},
   "source": [
    "## Cluster players with dark and light skin colors <a name=\"task2\"></a>"
   ]
  },
  {
   "cell_type": "markdown",
   "metadata": {},
   "source": [
    "In this part, we start with the cleaned and grouped player_data used in the previous part, we define the following aggregation function for the features that we categorise as referee information, namely :\n",
    "\n",
    "* leagueCountry : Where the matche(s) have been refered.\n",
    "* games : The number of games is close from the number of referees a player has been in contact with.\n",
    "* victories : Can be highly correlated with a favourable referee.\n",
    "* defeats : Can be highly correlated with an unfavourable referee.\n",
    "* goals : An unfavourable referee can result in a lower goal output.\n",
    "* yellowCards, yellowReds, redCards : Can be highly correlated to an unfavorable referee.\n",
    "* meanIAT, meanExp: The aggregated data can potientially show how \"racist\" the referees may have been according to where they come from. "
   ]
  },
  {
   "cell_type": "code",
   "execution_count": 281,
   "metadata": {
    "collapsed": true
   },
   "outputs": [],
   "source": [
    "# Define the aggregation function on the grouped data\n",
    "ref_agg = player_data.agg({\n",
    "                           'leagueCountry' : 'first',\n",
    "                           'games' : 'sum',\n",
    "                           'victories' : 'sum',\n",
    "                           'defeats' : 'sum',\n",
    "                           'goals' : 'sum',\n",
    "                           'yellowCards': 'sum',\n",
    "                           'yellowReds': 'sum',\n",
    "                           'redCards' : 'sum',\n",
    "                           'rater1' : 'mean',\n",
    "                           'rater2' : 'mean',\n",
    "                           'meanIAT' : 'mean',\n",
    "                           'meanExp' : 'mean',\n",
    "                          })"
   ]
  },
  {
   "cell_type": "markdown",
   "metadata": {},
   "source": [
    "Checking the aggregated data:"
   ]
  },
  {
   "cell_type": "code",
   "execution_count": 284,
   "metadata": {
    "collapsed": false
   },
   "outputs": [
    {
     "data": {
      "text/html": [
       "<div>\n",
       "<table border=\"1\" class=\"dataframe\">\n",
       "  <thead>\n",
       "    <tr style=\"text-align: right;\">\n",
       "      <th></th>\n",
       "      <th>yellowReds</th>\n",
       "      <th>goals</th>\n",
       "      <th>meanExp</th>\n",
       "      <th>rater2</th>\n",
       "      <th>leagueCountry</th>\n",
       "      <th>defeats</th>\n",
       "      <th>meanIAT</th>\n",
       "      <th>rater1</th>\n",
       "      <th>victories</th>\n",
       "      <th>games</th>\n",
       "      <th>redCards</th>\n",
       "      <th>yellowCards</th>\n",
       "    </tr>\n",
       "    <tr>\n",
       "      <th>playerShort</th>\n",
       "      <th></th>\n",
       "      <th></th>\n",
       "      <th></th>\n",
       "      <th></th>\n",
       "      <th></th>\n",
       "      <th></th>\n",
       "      <th></th>\n",
       "      <th></th>\n",
       "      <th></th>\n",
       "      <th></th>\n",
       "      <th></th>\n",
       "      <th></th>\n",
       "    </tr>\n",
       "  </thead>\n",
       "  <tbody>\n",
       "    <tr>\n",
       "      <th>chahir-belghazouani</th>\n",
       "      <td>0</td>\n",
       "      <td>12</td>\n",
       "      <td>0.366080</td>\n",
       "      <td>0.50</td>\n",
       "      <td>France</td>\n",
       "      <td>39</td>\n",
       "      <td>0.331207</td>\n",
       "      <td>0.50</td>\n",
       "      <td>32</td>\n",
       "      <td>104</td>\n",
       "      <td>0</td>\n",
       "      <td>28</td>\n",
       "    </tr>\n",
       "    <tr>\n",
       "      <th>bodipo</th>\n",
       "      <td>1</td>\n",
       "      <td>41</td>\n",
       "      <td>0.509340</td>\n",
       "      <td>0.25</td>\n",
       "      <td>Spain</td>\n",
       "      <td>100</td>\n",
       "      <td>0.354025</td>\n",
       "      <td>0.50</td>\n",
       "      <td>67</td>\n",
       "      <td>220</td>\n",
       "      <td>3</td>\n",
       "      <td>28</td>\n",
       "    </tr>\n",
       "    <tr>\n",
       "      <th>martin-kelly</th>\n",
       "      <td>0</td>\n",
       "      <td>3</td>\n",
       "      <td>0.479849</td>\n",
       "      <td>0.25</td>\n",
       "      <td>England</td>\n",
       "      <td>17</td>\n",
       "      <td>0.347450</td>\n",
       "      <td>0.00</td>\n",
       "      <td>41</td>\n",
       "      <td>73</td>\n",
       "      <td>0</td>\n",
       "      <td>6</td>\n",
       "    </tr>\n",
       "    <tr>\n",
       "      <th>niclas-fuellkrug</th>\n",
       "      <td>0</td>\n",
       "      <td>36</td>\n",
       "      <td>0.354456</td>\n",
       "      <td>0.25</td>\n",
       "      <td>Germany</td>\n",
       "      <td>44</td>\n",
       "      <td>0.338289</td>\n",
       "      <td>0.00</td>\n",
       "      <td>38</td>\n",
       "      <td>106</td>\n",
       "      <td>0</td>\n",
       "      <td>4</td>\n",
       "    </tr>\n",
       "    <tr>\n",
       "      <th>adrian_7</th>\n",
       "      <td>0</td>\n",
       "      <td>0</td>\n",
       "      <td>0.588297</td>\n",
       "      <td>0.25</td>\n",
       "      <td>Spain</td>\n",
       "      <td>8</td>\n",
       "      <td>0.369894</td>\n",
       "      <td>0.25</td>\n",
       "      <td>10</td>\n",
       "      <td>29</td>\n",
       "      <td>0</td>\n",
       "      <td>3</td>\n",
       "    </tr>\n",
       "  </tbody>\n",
       "</table>\n",
       "</div>"
      ],
      "text/plain": [
       "                     yellowReds  goals   meanExp  rater2 leagueCountry  \\\n",
       "playerShort                                                              \n",
       "chahir-belghazouani           0     12  0.366080    0.50        France   \n",
       "bodipo                        1     41  0.509340    0.25         Spain   \n",
       "martin-kelly                  0      3  0.479849    0.25       England   \n",
       "niclas-fuellkrug              0     36  0.354456    0.25       Germany   \n",
       "adrian_7                      0      0  0.588297    0.25         Spain   \n",
       "\n",
       "                     defeats   meanIAT  rater1  victories  games  redCards  \\\n",
       "playerShort                                                                  \n",
       "chahir-belghazouani       39  0.331207    0.50         32    104         0   \n",
       "bodipo                   100  0.354025    0.50         67    220         3   \n",
       "martin-kelly              17  0.347450    0.00         41     73         0   \n",
       "niclas-fuellkrug          44  0.338289    0.00         38    106         0   \n",
       "adrian_7                   8  0.369894    0.25         10     29         0   \n",
       "\n",
       "                     yellowCards  \n",
       "playerShort                       \n",
       "chahir-belghazouani           28  \n",
       "bodipo                        28  \n",
       "martin-kelly                   6  \n",
       "niclas-fuellkrug               4  \n",
       "adrian_7                       3  "
      ]
     },
     "execution_count": 284,
     "metadata": {},
     "output_type": "execute_result"
    }
   ],
   "source": [
    "ref_agg.sample(5)"
   ]
  },
  {
   "cell_type": "markdown",
   "metadata": {},
   "source": [
    "Reorder the columns for preprocessing :"
   ]
  },
  {
   "cell_type": "code",
   "execution_count": 286,
   "metadata": {
    "collapsed": true
   },
   "outputs": [],
   "source": [
    "cols = ['rater1', 'rater2','leagueCountry', 'games', 'victories', 'defeats','goals', 'yellowCards', 'yellowReds', 'redCards', 'meanIAT', 'meanExp']\n",
    "ref_agg = ref_agg[cols]"
   ]
  },
  {
   "cell_type": "markdown",
   "metadata": {
    "collapsed": false
   },
   "source": [
    "Encode the string features :"
   ]
  },
  {
   "cell_type": "code",
   "execution_count": 287,
   "metadata": {
    "collapsed": false
   },
   "outputs": [],
   "source": [
    "# Encode strings\n",
    "encode_string_variable(ref_agg, 'leagueCountry')"
   ]
  },
  {
   "cell_type": "markdown",
   "metadata": {},
   "source": [
    "Drop the labels of the data :"
   ]
  },
  {
   "cell_type": "code",
   "execution_count": 288,
   "metadata": {
    "collapsed": false
   },
   "outputs": [],
   "source": [
    "ref_nolabels = ref_agg.drop(['rater1', 'rater2'], axis=1)"
   ]
  },
  {
   "cell_type": "code",
   "execution_count": 289,
   "metadata": {
    "collapsed": false
   },
   "outputs": [
    {
     "data": {
      "text/html": [
       "<div>\n",
       "<table border=\"1\" class=\"dataframe\">\n",
       "  <thead>\n",
       "    <tr style=\"text-align: right;\">\n",
       "      <th></th>\n",
       "      <th>leagueCountry</th>\n",
       "      <th>games</th>\n",
       "      <th>victories</th>\n",
       "      <th>defeats</th>\n",
       "      <th>goals</th>\n",
       "      <th>yellowCards</th>\n",
       "      <th>yellowReds</th>\n",
       "      <th>redCards</th>\n",
       "      <th>meanIAT</th>\n",
       "      <th>meanExp</th>\n",
       "    </tr>\n",
       "    <tr>\n",
       "      <th>playerShort</th>\n",
       "      <th></th>\n",
       "      <th></th>\n",
       "      <th></th>\n",
       "      <th></th>\n",
       "      <th></th>\n",
       "      <th></th>\n",
       "      <th></th>\n",
       "      <th></th>\n",
       "      <th></th>\n",
       "      <th></th>\n",
       "    </tr>\n",
       "  </thead>\n",
       "  <tbody>\n",
       "    <tr>\n",
       "      <th>eren-derdiyok</th>\n",
       "      <td>2</td>\n",
       "      <td>288</td>\n",
       "      <td>133</td>\n",
       "      <td>84</td>\n",
       "      <td>70</td>\n",
       "      <td>27</td>\n",
       "      <td>1</td>\n",
       "      <td>0</td>\n",
       "      <td>0.345404</td>\n",
       "      <td>0.456015</td>\n",
       "    </tr>\n",
       "    <tr>\n",
       "      <th>jack-wilshere</th>\n",
       "      <td>0</td>\n",
       "      <td>165</td>\n",
       "      <td>93</td>\n",
       "      <td>44</td>\n",
       "      <td>11</td>\n",
       "      <td>25</td>\n",
       "      <td>1</td>\n",
       "      <td>1</td>\n",
       "      <td>0.343584</td>\n",
       "      <td>0.446713</td>\n",
       "    </tr>\n",
       "    <tr>\n",
       "      <th>kevin-mirallas</th>\n",
       "      <td>0</td>\n",
       "      <td>335</td>\n",
       "      <td>154</td>\n",
       "      <td>92</td>\n",
       "      <td>79</td>\n",
       "      <td>36</td>\n",
       "      <td>0</td>\n",
       "      <td>2</td>\n",
       "      <td>0.342654</td>\n",
       "      <td>0.466444</td>\n",
       "    </tr>\n",
       "    <tr>\n",
       "      <th>pedro-leon</th>\n",
       "      <td>3</td>\n",
       "      <td>198</td>\n",
       "      <td>71</td>\n",
       "      <td>87</td>\n",
       "      <td>30</td>\n",
       "      <td>35</td>\n",
       "      <td>1</td>\n",
       "      <td>1</td>\n",
       "      <td>0.361431</td>\n",
       "      <td>0.558427</td>\n",
       "    </tr>\n",
       "    <tr>\n",
       "      <th>jamel-saihi</th>\n",
       "      <td>1</td>\n",
       "      <td>120</td>\n",
       "      <td>59</td>\n",
       "      <td>32</td>\n",
       "      <td>2</td>\n",
       "      <td>26</td>\n",
       "      <td>0</td>\n",
       "      <td>2</td>\n",
       "      <td>0.320057</td>\n",
       "      <td>0.287033</td>\n",
       "    </tr>\n",
       "  </tbody>\n",
       "</table>\n",
       "</div>"
      ],
      "text/plain": [
       "                leagueCountry  games  victories  defeats  goals  yellowCards  \\\n",
       "playerShort                                                                    \n",
       "eren-derdiyok               2    288        133       84     70           27   \n",
       "jack-wilshere               0    165         93       44     11           25   \n",
       "kevin-mirallas              0    335        154       92     79           36   \n",
       "pedro-leon                  3    198         71       87     30           35   \n",
       "jamel-saihi                 1    120         59       32      2           26   \n",
       "\n",
       "                yellowReds  redCards   meanIAT   meanExp  \n",
       "playerShort                                               \n",
       "eren-derdiyok            1         0  0.345404  0.456015  \n",
       "jack-wilshere            1         1  0.343584  0.446713  \n",
       "kevin-mirallas           0         2  0.342654  0.466444  \n",
       "pedro-leon               1         1  0.361431  0.558427  \n",
       "jamel-saihi              0         2  0.320057  0.287033  "
      ]
     },
     "execution_count": 289,
     "metadata": {},
     "output_type": "execute_result"
    }
   ],
   "source": [
    "ref_nolabels.sample(5)"
   ]
  },
  {
   "cell_type": "markdown",
   "metadata": {},
   "source": [
    "Standardize the data :"
   ]
  },
  {
   "cell_type": "code",
   "execution_count": 263,
   "metadata": {
    "collapsed": false
   },
   "outputs": [],
   "source": [
    "ref_std = np.array(preprocessing.scale(ref_nolabels))"
   ]
  },
  {
   "cell_type": "markdown",
   "metadata": {},
   "source": [
    "Create better labels by taking the mean of the two raters and then apply a binarisation function :"
   ]
  },
  {
   "cell_type": "code",
   "execution_count": 292,
   "metadata": {
    "collapsed": false
   },
   "outputs": [],
   "source": [
    "ref_agg['meanRaters'] = (ref_agg['rater1'] + ref_agg['rater2'])/2\n",
    "ref_agg['meanRaters'] = ref_agg['meanRaters'].apply(binary_labels)\n",
    "labels = ref_agg['meanRaters']"
   ]
  },
  {
   "cell_type": "markdown",
   "metadata": {},
   "source": [
    "Definition of a helper function for label inversion and vectorize it for use on numpy arrays :"
   ]
  },
  {
   "cell_type": "code",
   "execution_count": 293,
   "metadata": {
    "collapsed": true
   },
   "outputs": [],
   "source": [
    "def invert_labels(x):\n",
    "    if(x==1):\n",
    "        return 0\n",
    "    else:\n",
    "        return 1\n",
    "v = np.vectorize(invert_labels)"
   ]
  },
  {
   "cell_type": "markdown",
   "metadata": {},
   "source": [
    "# Baseline clustering\n",
    "A first try at clustering using all the features of the referee information."
   ]
  },
  {
   "cell_type": "code",
   "execution_count": 296,
   "metadata": {
    "collapsed": false
   },
   "outputs": [],
   "source": [
    "#first clustering with all columns\n",
    "kmeans = KMeans(n_clusters=2).fit(ref_std)\n",
    "#predictions:\n",
    "pred = kmeans.labels_"
   ]
  },
  {
   "cell_type": "markdown",
   "metadata": {},
   "source": [
    "We then compute the f-beta score of the clustering with an inclination for recall."
   ]
  },
  {
   "cell_type": "code",
   "execution_count": 299,
   "metadata": {
    "collapsed": true
   },
   "outputs": [],
   "source": [
    "#f-beta score import\n",
    "from sklearn import metrics"
   ]
  },
  {
   "cell_type": "code",
   "execution_count": 300,
   "metadata": {
    "collapsed": false
   },
   "outputs": [
    {
     "data": {
      "text/plain": [
       "0.28944428959313273"
      ]
     },
     "execution_count": 300,
     "metadata": {},
     "output_type": "execute_result"
    }
   ],
   "source": [
    "#f-beta score for the predictions\n",
    "metrics.silhouette_score(ref_std, pred, metric='euclidean')"
   ]
  },
  {
   "cell_type": "markdown",
   "metadata": {},
   "source": [
    "We also look at the f-beta score of the inverted predictions because they do not represent the belonging to a skin color cluster but to a cluster."
   ]
  },
  {
   "cell_type": "code",
   "execution_count": 301,
   "metadata": {
    "collapsed": false
   },
   "outputs": [
    {
     "data": {
      "text/plain": [
       "0.28944428959313273"
      ]
     },
     "execution_count": 301,
     "metadata": {},
     "output_type": "execute_result"
    }
   ],
   "source": [
    "#f-beta score for the inverted predictions\n",
    "metrics.silhouette_score(ref_std, v(pred), metric='euclidean')"
   ]
  },
  {
   "cell_type": "markdown",
   "metadata": {},
   "source": [
    "Here we have a really low f-score, let's try to improve the clusterisation by trying different features combinations."
   ]
  },
  {
   "cell_type": "code",
   "execution_count": 302,
   "metadata": {
    "collapsed": true
   },
   "outputs": [],
   "source": [
    "#Importing itertool to create combinatorics\n",
    "import itertools as iter"
   ]
  },
  {
   "cell_type": "markdown",
   "metadata": {},
   "source": [
    "Create an array of column indexes for the feature selection."
   ]
  },
  {
   "cell_type": "code",
   "execution_count": 303,
   "metadata": {
    "collapsed": false
   },
   "outputs": [],
   "source": [
    "columns = [i for i in range(0,ref_std.shape[1])]"
   ]
  },
  {
   "cell_type": "markdown",
   "metadata": {},
   "source": [
    "Initialise storage variables for the future iterative process."
   ]
  },
  {
   "cell_type": "code",
   "execution_count": 304,
   "metadata": {
    "collapsed": true
   },
   "outputs": [],
   "source": [
    "features = []\n",
    "silhouettes = []\n",
    "silhouettes_inv = []\n",
    "f_scores = []\n",
    "f_scores_inv = []"
   ]
  },
  {
   "cell_type": "markdown",
   "metadata": {},
   "source": [
    "# Trying features combinations:\n",
    "\n",
    "In the next cell we try every possible combination of 2-8 features for the clutering. We allow ourselves to perform this heavy computation because our dataset is of reasonable size. At each iteration, we perform the clustering and then store the silhouette score, the f-beta score, the inverted f-beta score (with inverted predictions) and the feature combination used to obtain the clustering. While waiting for the computation, you can enjoy the nice looking and informative progress bars."
   ]
  },
  {
   "cell_type": "code",
   "execution_count": 305,
   "metadata": {
    "collapsed": false
   },
   "outputs": [
    {
     "name": "stdout",
     "output_type": "stream",
     "text": [
      "\n"
     ]
    }
   ],
   "source": [
    "for i in tqdm_notebook(range(1, ref_std.shape[1]-1), desc='Global'):\n",
    "    #generate combination of features \n",
    "    combinations = list(iter.combinations(columns, len(columns)-i))\n",
    "    #Iterate over every combination\n",
    "    for comb in tqdm_notebook(combinations, desc='Combining', leave=False) :\n",
    "        #Clustering\n",
    "        kmeans = KMeans(n_clusters=2, random_state=1).fit(ref_std[:, comb])\n",
    "        #Extract labels\n",
    "        pred = kmeans.labels_\n",
    "        #Silhouette and f-beta score for predictions\n",
    "        silhouettes.append(metrics.silhouette_score(ref_std[:, comb], pred, metric='euclidean'))\n",
    "        f_scores.append(fbeta_score(labels, pred, beta=1.9)) \n",
    "        #Silhouette and f-beta score for inverted predictions\n",
    "        inv_pred = v(pred)\n",
    "        silhouettes_inv.append(metrics.silhouette_score(ref_std[:, comb], inv_pred, metric='euclidean'))\n",
    "        f_scores_inv.append(fbeta_score(labels, inv_pred, beta=1.9))\n",
    "        #Store feature combination\n",
    "        features.append(comb)"
   ]
  },
  {
   "cell_type": "markdown",
   "metadata": {},
   "source": [
    "In the next part we will analize the data obtained previously, let's take a look at the scatterplot of f-score and silhouette."
   ]
  },
  {
   "cell_type": "code",
   "execution_count": 401,
   "metadata": {
    "collapsed": false
   },
   "outputs": [],
   "source": [
    "triples = zip(silhouettes,f_scores, features)\n",
    "points = np.array(zip(silhouettes, f_scores))"
   ]
  },
  {
   "cell_type": "code",
   "execution_count": 402,
   "metadata": {
    "collapsed": false
   },
   "outputs": [
    {
     "data": {
      "text/plain": [
       "<matplotlib.text.Text at 0x7fdbc319da50>"
      ]
     },
     "execution_count": 402,
     "metadata": {},
     "output_type": "execute_result"
    },
    {
     "data": {
      "image/png": "[encoded data removed]",
      "text/plain": [
       "<matplotlib.figure.Figure at 0x7fdbc3a8d590>"
      ]
     },
     "metadata": {},
     "output_type": "display_data"
    }
   ],
   "source": [
    "fig1 = plt.figure()\n",
    "plt.plot(points[:,0], points[:,1], '.')\n",
    "fig1.suptitle('Clustering scores')\n",
    "plt.xlabel('silhouette_score')\n",
    "plt.ylabel('f-beta_score')"
   ]
  },
  {
   "cell_type": "markdown",
   "metadata": {},
   "source": [
    "After a quick glance at the plot we can see that the f-beta score doesn't go above 0.6, meaning that there is no combination of referee related features that yield a good White/Black clustering. But we still want to see what are the best feature combinations possible regarding clustering, we also want to visualise the accuracy/silhouette tradeoff."
   ]
  },
  {
   "cell_type": "code",
   "execution_count": 403,
   "metadata": {
    "collapsed": false
   },
   "outputs": [
    {
     "data": {
      "text/plain": [
       "<matplotlib.text.Text at 0x7fdbc2f2a710>"
      ]
     },
     "execution_count": 403,
     "metadata": {},
     "output_type": "execute_result"
    },
    {
     "data": {
      "image/png": "[encoded data removed]",
      "text/plain": [
       "<matplotlib.figure.Figure at 0x7fdbc2f6f3d0>"
      ]
     },
     "metadata": {},
     "output_type": "display_data"
    }
   ],
   "source": [
    "from scipy.stats import norm\n",
    "import pylab as P\n",
    "import matplotlib.mlab as mlab\n",
    "\n",
    "\n",
    "colors = ['green', 'blue']\n",
    "labels = ['f_scores', 'silhouettes']\n",
    "n, bins, patches = P.hist([f_scores, silhouettes], 75,histtype='bar',\n",
    "                            color=colors,\n",
    "                            label=labels)\n",
    "P.legend()\n",
    "plt.xlabel('Values')\n",
    "plt.ylabel('Number of points')\n",
    "plt.title('F-beta scores vs. Silhouette scores distributions')"
   ]
  },
  {
   "cell_type": "markdown",
   "metadata": {},
   "source": [
    "Here we see that indeed there is a clear tradeoff between f-beta scores and silhouette scores. We would like now to find the best points in terms of f-beta score and silhouette score."
   ]
  },
  {
   "cell_type": "markdown",
   "metadata": {},
   "source": [
    "First we select only the points above 0.4 both for f-beta score and silhouette score."
   ]
  },
  {
   "cell_type": "code",
   "execution_count": 404,
   "metadata": {
    "collapsed": false
   },
   "outputs": [
    {
     "data": {
      "text/plain": [
       "<matplotlib.text.Text at 0x7fdbc2c25650>"
      ]
     },
     "execution_count": 404,
     "metadata": {},
     "output_type": "execute_result"
    },
    {
     "data": {
      "image/png": "[encoded data removed]",
      "text/plain": [
       "<matplotlib.figure.Figure at 0x7fdbc2bb36d0>"
      ]
     },
     "metadata": {},
     "output_type": "display_data"
    }
   ],
   "source": [
    "bestpoints = points[(points[:,0] > 0.4) & (points[:,1] > 0.4)]\n",
    "plt.plot(bestpoints[:,0], bestpoints[:,1], '.')\n",
    "fig1.suptitle('Clustering scores')\n",
    "plt.xlabel('silhouette_score')\n",
    "plt.ylabel('f-beta_score')"
   ]
  },
  {
   "cell_type": "markdown",
   "metadata": {},
   "source": [
    "Then, in order to select the best points, we compute the convex hull :"
   ]
  },
  {
   "cell_type": "code",
   "execution_count": 405,
   "metadata": {
    "collapsed": true
   },
   "outputs": [],
   "source": [
    "from scipy.spatial import ConvexHull\n",
    "hull = ConvexHull(bestpoints)"
   ]
  },
  {
   "cell_type": "code",
   "execution_count": 406,
   "metadata": {
    "collapsed": false
   },
   "outputs": [
    {
     "data": {
      "image/png": "[encoded data removed]",
      "text/plain": [
       "<matplotlib.figure.Figure at 0x7fdbc2f9be50>"
      ]
     },
     "metadata": {},
     "output_type": "display_data"
    }
   ],
   "source": [
    "fig2 = plt.figure()\n",
    "fig1.suptitle('Convex Hull')\n",
    "plt.xlabel('silhouette_score')\n",
    "plt.ylabel('f-beta_score')\n",
    "plt.plot(bestpoints[:,0], bestpoints[:,1], '.')\n",
    "for vertex in hull.vertices:\n",
    "    plt.plot(bestpoints[vertex, 0], bestpoints[vertex, 1], 'o')\n",
    "for simplex in hull.simplices:\n",
    "    plt.plot(bestpoints[simplex, 0], bestpoints[simplex, 1], 'k-')"
   ]
  },
  {
   "cell_type": "code",
   "execution_count": 407,
   "metadata": {
    "collapsed": false
   },
   "outputs": [],
   "source": [
    "sel = []\n",
    "for vertex in hull.vertices:\n",
    "    sel.append([bestpoints[vertex, 0], bestpoints[vertex, 1]])\n",
    "sel = np.array(sel)\n",
    "sel = sel[sel[:,1]>0.48]"
   ]
  },
  {
   "cell_type": "code",
   "execution_count": 408,
   "metadata": {
    "collapsed": false
   },
   "outputs": [
    {
     "data": {
      "text/plain": [
       "[(0.4007228631008366, 0.50416554535720626, (0, 4, 9, 10)),\n",
       " (0.43774736400046965, 0.50915323295965009, (0, 5, 9, 10)),\n",
       " (0.4099916501918256, 0.5109006216557862, (0, 6, 9, 10)),\n",
       " (0.50851982245175953, 0.5013509150537816, (0, 9)),\n",
       " (0.57546600233498424, 0.49308708150254937, (9, 10))]"
      ]
     },
     "execution_count": 408,
     "metadata": {},
     "output_type": "execute_result"
    }
   ],
   "source": [
    "coordinates = zip(silhouettes, f_scores, features)\n",
    "results = [r for r in coordinates if np.array(r[0], r[1]) in sel]\n",
    "results"
   ]
  },
  {
   "cell_type": "code",
   "execution_count": 409,
   "metadata": {
    "collapsed": false
   },
   "outputs": [],
   "source": [
    "col_names = np.array(ref_nolabels.columns)"
   ]
  },
  {
   "cell_type": "code",
   "execution_count": 418,
   "metadata": {
    "collapsed": false
   },
   "outputs": [
    {
     "ename": "IndexError",
     "evalue": "index 10 is out of bounds for axis 1 with size 10",
     "output_type": "error",
     "traceback": [
      "\u001b[0;31m---------------------------------------------------------------------------\u001b[0m",
      "\u001b[0;31mIndexError\u001b[0m                                Traceback (most recent call last)",
      "\u001b[0;32m<ipython-input-418-6545ab5fea80>\u001b[0m in \u001b[0;36m<module>\u001b[0;34m()\u001b[0m\n\u001b[1;32m      1\u001b[0m \u001b[0;32mfor\u001b[0m \u001b[0mi\u001b[0m \u001b[0;32min\u001b[0m \u001b[0mresults\u001b[0m\u001b[0;34m:\u001b[0m\u001b[0;34m\u001b[0m\u001b[0m\n\u001b[0;32m----> 2\u001b[0;31m     \u001b[0;32mprint\u001b[0m\u001b[0;34m(\u001b[0m\u001b[0mcol_names\u001b[0m\u001b[0;34m[\u001b[0m\u001b[0mnp\u001b[0m\u001b[0;34m.\u001b[0m\u001b[0marray\u001b[0m\u001b[0;34m(\u001b[0m\u001b[0mi\u001b[0m\u001b[0;34m[\u001b[0m\u001b[0;36m2\u001b[0m\u001b[0;34m]\u001b[0m\u001b[0;34m)\u001b[0m\u001b[0;34m]\u001b[0m\u001b[0;34m)\u001b[0m\u001b[0;34m\u001b[0m\u001b[0m\n\u001b[0m",
      "\u001b[0;31mIndexError\u001b[0m: index 10 is out of bounds for axis 1 with size 10"
     ]
    }
   ],
   "source": [
    "for i in results:\n",
    "    print(col_names[np.array(i[2])])"
   ]
  },
  {
   "cell_type": "code",
   "execution_count": null,
   "metadata": {
    "collapsed": true
   },
   "outputs": [],
   "source": []
  }
 ],
 "metadata": {
  "anaconda-cloud": {},
  "kernelspec": {
   "display_name": "Python [conda root]",
   "language": "python",
   "name": "conda-root-py"
  },
  "language_info": {
   "codemirror_mode": {
    "name": "ipython",
    "version": 2
   },
   "file_extension": ".py",
   "mimetype": "text/x-python",
   "name": "python",
   "nbconvert_exporter": "python",
   "pygments_lexer": "ipython2",
   "version": "2.7.12"
  },
  "widgets": {
   "state": {
    "026223b49b24435f9381255f8ad17bfb": {
     "views": [
      {
       "cell_index": 87
      }
     ]
    },
    "03aa494a4b34473190f4060926df66ef": {
     "views": [
      {
       "cell_index": 87
      }
     ]
    },
    "073da42302a04f93a0be72a8e53478eb": {
     "views": [
      {
       "cell_index": 87
      }
     ]
    },
    "0979d1a6497e4abca942255cdb21acb7": {
     "views": [
      {
       "cell_index": 87
      }
     ]
    },
    "0cef3cea5cc14c8d9de3790044fc47ec": {
     "views": [
      {
       "cell_index": 87
      }
     ]
    },
    "0e2ad9ffc938409cb94d204b11b3bcd8": {
     "views": [
      {
       "cell_index": 86
      }
     ]
    },
    "13ee30ff845d4c9cbc48bf41158f8489": {
     "views": [
      {
       "cell_index": 87
      }
     ]
    },
    "1a08678f528444c0b7cb9caf94d6ccb0": {
     "views": [
      {
       "cell_index": 86
      }
     ]
    },
    "1da9f060afee4509834a63603190a7bc": {
     "views": [
      {
       "cell_index": 86
      }
     ]
    },
    "219c79a5f60f48b9a7251830c43e6db6": {
     "views": [
      {
       "cell_index": 87
      }
     ]
    },
    "22fd5eb3ca7b4ba0a47ec56934025513": {
     "views": [
      {
       "cell_index": 87
      }
     ]
    },
    "28a528daa41c4082b4d210e3629292e4": {
     "views": [
      {
       "cell_index": 86
      }
     ]
    },
    "29ea7fe6d948479281322724fe30f758": {
     "views": [
      {
       "cell_index": 87
      }
     ]
    },
    "2c593d9143154ac19f5be2c173a9b683": {
     "views": [
      {
       "cell_index": 87
      }
     ]
    },
    "2f03f94552b34060a44e335f6e83c40e": {
     "views": [
      {
       "cell_index": 87
      }
     ]
    },
    "3200ce5aa7064ddb8bd1831385c28dcc": {
     "views": [
      {
       "cell_index": 86
      }
     ]
    },
    "326558cc1abb47cbadf2ee21fecc72b6": {
     "views": [
      {
       "cell_index": 86
      }
     ]
    },
    "33f680919b244214b813c7f54a5511cc": {
     "views": [
      {
       "cell_index": 87
      }
     ]
    },
    "34b1b18bd316492caaac2b79579e9153": {
     "views": [
      {
       "cell_index": 86
      }
     ]
    },
    "368e15b3a8314f278e914787823a4945": {
     "views": [
      {
       "cell_index": 86
      }
     ]
    },
    "3908038ccb934705a3def363dbfaf9a5": {
     "views": [
      {
       "cell_index": 87
      }
     ]
    },
    "3a774d7a1ba04d0198e85d393feeb012": {
     "views": [
      {
       "cell_index": 87
      }
     ]
    },
    "3deb29b5df1245e6af819a316b1fb8a9": {
     "views": [
      {
       "cell_index": 101
      }
     ]
    },
    "3e4e97bdc09d47d69e61854f4def853f": {
     "views": [
      {
       "cell_index": 87
      }
     ]
    },
    "43714789751f46068ad25c554637cf8d": {
     "views": [
      {
       "cell_index": 101
      }
     ]
    },
    "443ffee71c3e4ac4b9ec6cb3c3dc0b61": {
     "views": [
      {
       "cell_index": 87
      }
     ]
    },
    "4a070a43d2d547c88b4d29815b9dcc90": {
     "views": [
      {
       "cell_index": 87
      }
     ]
    },
    "4c2b318dee3349df834109577bf392e1": {
     "views": [
      {
       "cell_index": 86
      }
     ]
    },
    "4f33f42c7d3141a7b3c6cb0639967da2": {
     "views": [
      {
       "cell_index": 87
      }
     ]
    },
    "4f5689d495654cd08537b02f43e2925d": {
     "views": [
      {
       "cell_index": 86
      }
     ]
    },
    "5f2287e4875543438ef7c02766689dd7": {
     "views": [
      {
       "cell_index": 86
      }
     ]
    },
    "60c3906dafb943c99638f7e616fea620": {
     "views": [
      {
       "cell_index": 101
      }
     ]
    },
    "6587720dfb194adeb4347eb7b13401b8": {
     "views": [
      {
       "cell_index": 87
      }
     ]
    },
    "687ff870fd8c49b89ea59d2511e8e198": {
     "views": [
      {
       "cell_index": 86
      }
     ]
    },
    "68aca0e5bece4275be9ecd1a64a4844f": {
     "views": [
      {
       "cell_index": 87
      }
     ]
    },
    "69b83c1ce290452eb11ec923d567a50d": {
     "views": [
      {
       "cell_index": 87
      }
     ]
    },
    "6b320d302e814a56b6e05e5f68012aa1": {
     "views": [
      {
       "cell_index": 86
      }
     ]
    },
    "6ca037c77ad54622a81e9c5cb11fd1fe": {
     "views": [
      {
       "cell_index": 86
      }
     ]
    },
    "71b213f59d844163a173780416b48aed": {
     "views": [
      {
       "cell_index": 86
      }
     ]
    },
    "72152f46d7e24efe882ccfda9f3b5536": {
     "views": [
      {
       "cell_index": 86
      }
     ]
    },
    "757302a6a93240dab10e1c6805849a88": {
     "views": [
      {
       "cell_index": 86
      }
     ]
    },
    "7776ee82a5f541a69db7af11126b5716": {
     "views": [
      {
       "cell_index": 87
      }
     ]
    },
    "7a3aa5dafa91413eaafeb062a80729b7": {
     "views": [
      {
       "cell_index": 86
      }
     ]
    },
    "7d40e829c9c5481caf55c4ed5736483c": {
     "views": [
      {
       "cell_index": 87
      }
     ]
    },
    "8241d438a764438493076de75492fea8": {
     "views": [
      {
       "cell_index": 86
      }
     ]
    },
    "82d96dfc13554ac3a3b322b8630e0582": {
     "views": [
      {
       "cell_index": 86
      }
     ]
    },
    "89222b5ffd7e4a61902e64c3b2b3ebae": {
     "views": [
      {
       "cell_index": 101
      }
     ]
    },
    "90b2231b531b4dfa8a6a85cdec5b4e39": {
     "views": [
      {
       "cell_index": 86
      }
     ]
    },
    "9245d2266a5544ec8fcc493271d95094": {
     "views": [
      {
       "cell_index": 87
      }
     ]
    },
    "9675f69cf216411e9bb822fa3f40a5de": {
     "views": [
      {
       "cell_index": 101
      }
     ]
    },
    "96ff7d8d0da74e6aa1f622115c10174f": {
     "views": [
      {
       "cell_index": 86
      }
     ]
    },
    "9b53b3f0e1364875bc92198a3a9a069c": {
     "views": [
      {
       "cell_index": 87
      }
     ]
    },
    "9bf8221c299a4975aa27e63fe7fee060": {
     "views": [
      {
       "cell_index": 87
      }
     ]
    },
    "9c7ca130014643ca84c348cee050b6d8": {
     "views": [
      {
       "cell_index": 87
      }
     ]
    },
    "9e30bed1bfdc4a348435147750a9b84d": {
     "views": [
      {
       "cell_index": 101
      }
     ]
    },
    "9f58fc7910804112845fa554c62aec64": {
     "views": [
      {
       "cell_index": 87
      }
     ]
    },
    "a5e1b8dabab24431ac5ddfd1fda40f45": {
     "views": [
      {
       "cell_index": 101
      }
     ]
    },
    "a73c1eac3d6140d5bcdd9b98d5368233": {
     "views": [
      {
       "cell_index": 86
      }
     ]
    },
    "a7fe258cdd78409ebb7003a7bdb2eedb": {
     "views": [
      {
       "cell_index": 86
      }
     ]
    },
    "a8183ca244eb46f39252a1414aa41eb0": {
     "views": [
      {
       "cell_index": 86
      }
     ]
    },
    "ac5c6d9aaf9e43d48dcf76abca1d189e": {
     "views": [
      {
       "cell_index": 86
      }
     ]
    },
    "add02e2bc6f0417c829b39f7ee3a8e76": {
     "views": [
      {
       "cell_index": 87
      }
     ]
    },
    "ae1c2a2bd80b48b1bd67fb9b0a65945a": {
     "views": [
      {
       "cell_index": 87
      }
     ]
    },
    "b5e9d8aeeeed4c05a8fe8f540bcb135c": {
     "views": [
      {
       "cell_index": 86
      }
     ]
    },
    "bb278813cd5b48268734d1e8739ea986": {
     "views": [
      {
       "cell_index": 86
      }
     ]
    },
    "bcb0b03e10c14d43a16fc2051f4f79c1": {
     "views": [
      {
       "cell_index": 87
      }
     ]
    },
    "c12e71363fcd482890b4f37f02038ecf": {
     "views": [
      {
       "cell_index": 87
      }
     ]
    },
    "c3c13eef822642e1bc3f28c0e3b455e9": {
     "views": [
      {
       "cell_index": 87
      }
     ]
    },
    "c5096a3599ab4a06bf1f0a932dd08064": {
     "views": [
      {
       "cell_index": 86
      }
     ]
    },
    "c733c2e8804d4e83ae7d5bc32d9b739e": {
     "views": [
      {
       "cell_index": 87
      }
     ]
    },
    "cac4801d08c9434b89245f1448332c5b": {
     "views": [
      {
       "cell_index": 87
      }
     ]
    },
    "cad0b1290fbd4711a59c6b4875f6db86": {
     "views": [
      {
       "cell_index": 86
      }
     ]
    },
    "d867ec3447e04e8d8bf79f9e1a06931e": {
     "views": [
      {
       "cell_index": 86
      }
     ]
    },
    "e09e7169eb9e4cb4829bc94cddb46e48": {
     "views": [
      {
       "cell_index": 87
      }
     ]
    },
    "e53ba60957aa48afa5eb4e8090533b47": {
     "views": [
      {
       "cell_index": 101
      }
     ]
    },
    "e706ab4cd7214b1587afee108017e965": {
     "views": [
      {
       "cell_index": 101
      }
     ]
    },
    "edaf4e82dffc4b9fa33105c92207f002": {
     "views": [
      {
       "cell_index": 86
      }
     ]
    },
    "ee0e4859a93f4899b1300405f0e7a1a7": {
     "views": [
      {
       "cell_index": 87
      }
     ]
    },
    "f75100b16b1c4fd7b04e0a9f5e8358f8": {
     "views": [
      {
       "cell_index": 86
      }
     ]
    },
    "f9d113f4f5cb43cabf3e098395054bad": {
     "views": [
      {
       "cell_index": 86
      }
     ]
    },
    "fd090e56f81d42b8a1a4fd561532de44": {
     "views": [
      {
       "cell_index": 87
      }
     ]
    },
    "fde75ab8e5164d2dadc0d8350778bffb": {
     "views": [
      {
       "cell_index": 86
      }
     ]
    },
    "ff30cdc78e6d4cd0a819317b9d06f80d": {
     "views": [
      {
       "cell_index": 101
      }
     ]
    },
    "ff35b57c424e4f399c013879c6d572f6": {
     "views": [
      {
       "cell_index": 86
      }
     ]
    }
   },
   "version": "1.2.0"
  }
 },
 "nbformat": 4,
 "nbformat_minor": 0
}
