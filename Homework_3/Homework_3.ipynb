{
 "cells": [
  {
   "cell_type": "markdown",
   "metadata": {
    "collapsed": true
   },
   "source": [
    "## Homework 3 - Interactive viz"
   ]
  },
  {
   "cell_type": "code",
   "execution_count": 1,
   "metadata": {
    "collapsed": true
   },
   "outputs": [],
   "source": [
    "from handle_data import *\n",
    "from overlay_map import * \n",
    "import pandas as pd\n",
    "import numpy as np\n",
    "import folium"
   ]
  },
  {
   "cell_type": "markdown",
   "metadata": {},
   "source": [
    "### 1) Choropleth map\n",
    "\n",
    "The goal of the exercise is to build a Choropleth map which shows how much grant money goes to each Swiss canton. In order to do that we work with  P3 database of the SNSF (Swiss National Science Foundation).\n",
    "\n",
    "\n",
    "To do so we proceed in this direction:\n",
    "\n",
    "__a__. Create the Choropleth map\n",
    " * Go through the `.json` to get some information about cantons\n",
    " * Create a \"*fake*\" `DataFrame` and use it to overlay the map with the colored one\n",
    " \n",
    " \n",
    "__b__. Fill in the map with the correct values\n",
    " * Extract and filter data\n",
    " * Use `GoogleMaps` API to get the canton of each *University*\n",
    " * Fill the correct data into the already created `DataFrame`\n",
    " * Obtain the Choropleth map"
   ]
  },
  {
   "cell_type": "markdown",
   "metadata": {},
   "source": [
    "#### a) Create the Choropleth map"
   ]
  },
  {
   "cell_type": "markdown",
   "metadata": {},
   "source": [
    "The first thing we do is to parse the provided `ch-cantons.topojson.json` (stored in `TopoJSON` dir). It would be useful to get the `Ids` of the cantons. The used function is stored in the [library](parse_topojson.py)."
   ]
  },
  {
   "cell_type": "code",
   "execution_count": 2,
   "metadata": {
    "collapsed": true
   },
   "outputs": [],
   "source": [
    "# Declare the file's path\n",
    "topo_path = 'TopoJSON/ch-cantons.topojson.json'\n",
    "\n",
    "# Get sorted list of cantons' ids\n",
    "list_cantons = parse_topojson(topo_path)"
   ]
  },
  {
   "cell_type": "markdown",
   "metadata": {},
   "source": [
    "Once we get the list of the all cantons, we create the *fake* `DataFrame` that will be used to create our beloved map. \n",
    "According to what the `.choropleth()` method of `Folium` requires, we setup the `df` as follows:\n",
    "\n",
    "| Canton | Total grants |\n",
    "|:------:|:------------:|\n",
    "|   AG   |      19      |\n",
    "|   AI   |      39      |\n",
    "|   ...  |      ...     |\n",
    "|   ...  |      ...     |\n",
    "|   ZH   |      100     |\n",
    "\n",
    "*Remark*: for this first step, the data contained in the `Total grants` column are not the true one.\n"
   ]
  },
  {
   "cell_type": "code",
   "execution_count": 3,
   "metadata": {
    "collapsed": false
   },
   "outputs": [],
   "source": [
    "# Create the fake 'Total grants' column \n",
    "total_grants = list(range(26))\n",
    "\n",
    "# Create dataframe\n",
    "df_cantons = create_map_df(list_cantons, total_grants)"
   ]
  },
  {
   "cell_type": "markdown",
   "metadata": {},
   "source": [
    "Hence, we proceed putting on the top of the map of Switzerland the cantons one. To do so we use `Folium` library and this [function](overlay_map.py)."
   ]
  },
  {
   "cell_type": "code",
   "execution_count": 4,
   "metadata": {
    "collapsed": false
   },
   "outputs": [
    {
     "name": "stderr",
     "output_type": "stream",
     "text": [
      "/Users/cristinamenghini/Desktop/EPFL/Fall semester/Applied data analysis - ADA/Team work/ADA_Homeworks/Homework_3/overlay_map.py:34: FutureWarning: 'threshold_scale' default behavior has changed. Now you get a linear scale between the 'min' and the 'max' of your data. To get former behavior, use folium.utilities.split_six.\n",
      "  topojson = 'objects.cantons')\n"
     ]
    }
   ],
   "source": [
    "overlay_map(df_cantons, 'OrRd', topo_path)"
   ]
  },
  {
   "cell_type": "code",
   "execution_count": null,
   "metadata": {
    "collapsed": true
   },
   "outputs": [],
   "source": []
  },
  {
   "cell_type": "code",
   "execution_count": null,
   "metadata": {
    "collapsed": true
   },
   "outputs": [],
   "source": []
  },
  {
   "cell_type": "code",
   "execution_count": null,
   "metadata": {
    "collapsed": false
   },
   "outputs": [],
   "source": [
    "data = pd.read_csv('Data/P3_GrantExport.csv', sep = ';')"
   ]
  },
  {
   "cell_type": "code",
   "execution_count": null,
   "metadata": {
    "collapsed": false
   },
   "outputs": [],
   "source": [
    "data.head()"
   ]
  },
  {
   "cell_type": "code",
   "execution_count": null,
   "metadata": {
    "collapsed": false
   },
   "outputs": [],
   "source": [
    "# Get the df that contains those projects for which the research is carried out at a swiss institution\n",
    "data_filtered = data[data['University'] != ]"
   ]
  },
  {
   "cell_type": "code",
   "execution_count": null,
   "metadata": {
    "collapsed": false
   },
   "outputs": [],
   "source": [
    "len(data_filtered)"
   ]
  },
  {
   "cell_type": "code",
   "execution_count": null,
   "metadata": {
    "collapsed": true
   },
   "outputs": [],
   "source": [
    "def split_date(x):\n",
    "    x = x.split('.')\n",
    "    return x[-1]"
   ]
  },
  {
   "cell_type": "code",
   "execution_count": null,
   "metadata": {
    "collapsed": false
   },
   "outputs": [],
   "source": [
    "data_filtered['Start Date'].apply(split_date)#[0].split('.')"
   ]
  },
  {
   "cell_type": "code",
   "execution_count": null,
   "metadata": {
    "collapsed": true
   },
   "outputs": [],
   "source": [
    "api.geonames.org/search?q=Facoltà_di_Teologia_di_Lugano&max_row=10&username=patk"
   ]
  }
 ],
 "metadata": {
  "anaconda-cloud": {},
  "kernelspec": {
   "display_name": "Python [Root]",
   "language": "python",
   "name": "Python [Root]"
  },
  "language_info": {
   "codemirror_mode": {
    "name": "ipython",
    "version": 3
   },
   "file_extension": ".py",
   "mimetype": "text/x-python",
   "name": "python",
   "nbconvert_exporter": "python",
   "pygments_lexer": "ipython3",
   "version": "3.5.2"
  }
 },
 "nbformat": 4,
 "nbformat_minor": 0
}
