{
 "cells": [
  {
   "cell_type": "markdown",
   "metadata": {},
   "source": [
    "# Homework 5 - Taming text"
   ]
  },
  {
   "cell_type": "markdown",
   "metadata": {},
   "source": [
    "## Introduction"
   ]
  },
  {
   "cell_type": "markdown",
   "metadata": {},
   "source": [
    "In this homework, a large corpus of emails released in public during the Hillary Clinton email controversy will be explored. The corpus is stored in `Data` directory. More informtion of the schema is available [here](https://www.kaggle.com/kaggle/hillary-clinton-emails)."
   ]
  },
  {
   "cell_type": "code",
   "execution_count": 1,
   "metadata": {
    "collapsed": true
   },
   "outputs": [],
   "source": [
    "from os import path\n",
    "import pandas as pd\n",
    "from wordcloud import WordCloud\n",
    "import matplotlib.pyplot as plt\n",
    "import nltk\n",
    "import string\n",
    "import re\n",
    "from nltk.corpus import stopwords\n",
    "%matplotlib inline"
   ]
  },
  {
   "cell_type": "markdown",
   "metadata": {},
   "source": [
    "## 1. Word clouds\n",
    "Generate two word clouds:\n",
    "* One based on the raw corpus\n",
    "* One based on the corpus pre-processed using the standard text pipeline. \n",
    "\n",
    "### a. __Raw text__\n",
    "#### @TODO: choose the text to take into account\n",
    "The data we are going to use for producing the clouds is taken from the file `Emails.csv` and refers to the column `RawText`. Hence, before proceeding to build up a unique cloud, we sould concatenate all the `RawText` of the emails. In particular, we do the following:\n",
    "* Import the data related to the Emails."
   ]
  },
  {
   "cell_type": "code",
   "execution_count": 2,
   "metadata": {
    "collapsed": false
   },
   "outputs": [
    {
     "data": {
      "text/html": [
       "<div>\n",
       "<table border=\"1\" class=\"dataframe\">\n",
       "  <thead>\n",
       "    <tr style=\"text-align: right;\">\n",
       "      <th></th>\n",
       "      <th>Id</th>\n",
       "      <th>DocNumber</th>\n",
       "      <th>MetadataSubject</th>\n",
       "      <th>MetadataTo</th>\n",
       "      <th>MetadataFrom</th>\n",
       "      <th>SenderPersonId</th>\n",
       "      <th>MetadataDateSent</th>\n",
       "      <th>MetadataDateReleased</th>\n",
       "      <th>MetadataPdfLink</th>\n",
       "      <th>MetadataCaseNumber</th>\n",
       "      <th>...</th>\n",
       "      <th>ExtractedTo</th>\n",
       "      <th>ExtractedFrom</th>\n",
       "      <th>ExtractedCc</th>\n",
       "      <th>ExtractedDateSent</th>\n",
       "      <th>ExtractedCaseNumber</th>\n",
       "      <th>ExtractedDocNumber</th>\n",
       "      <th>ExtractedDateReleased</th>\n",
       "      <th>ExtractedReleaseInPartOrFull</th>\n",
       "      <th>ExtractedBodyText</th>\n",
       "      <th>RawText</th>\n",
       "    </tr>\n",
       "  </thead>\n",
       "  <tbody>\n",
       "    <tr>\n",
       "      <th>1195</th>\n",
       "      <td>1196</td>\n",
       "      <td>C05760496</td>\n",
       "      <td>OPRAH</td>\n",
       "      <td>abedinh@state.gov</td>\n",
       "      <td>H</td>\n",
       "      <td>80.0</td>\n",
       "      <td>2009-08-29T04:00:00+00:00</td>\n",
       "      <td>2015-06-30T04:00:00+00:00</td>\n",
       "      <td>DOCUMENTS/HRCAll_1_1-29_JuneWEB/6_7_8/DOC_0C05...</td>\n",
       "      <td>F-2014-20439</td>\n",
       "      <td>...</td>\n",
       "      <td>'abedinh@state.gov'</td>\n",
       "      <td>H &lt;hrod17@clintonemail.com &gt;</td>\n",
       "      <td>Oscar Flores</td>\n",
       "      <td>Saturday, August 29, 2009 8:39 PM</td>\n",
       "      <td>F-2014-20439</td>\n",
       "      <td>C05760496</td>\n",
       "      <td>06/30/2015</td>\n",
       "      <td>RELEASE IN FULL</td>\n",
       "      <td>But I'm leaving here on Wed and I'll be at hom...</td>\n",
       "      <td>UNCLASSIFIED U.S. Department of State Case No....</td>\n",
       "    </tr>\n",
       "    <tr>\n",
       "      <th>1154</th>\n",
       "      <td>1155</td>\n",
       "      <td>C05760420</td>\n",
       "      <td>CHECKING IN</td>\n",
       "      <td>millscd@state.gov</td>\n",
       "      <td>H</td>\n",
       "      <td>80.0</td>\n",
       "      <td>2009-12-08T05:00:00+00:00</td>\n",
       "      <td>2015-06-30T04:00:00+00:00</td>\n",
       "      <td>DOCUMENTS/HRCAll_1_1-29_JuneWEB/10_11_15_16/DO...</td>\n",
       "      <td>F-2014-20439</td>\n",
       "      <td>...</td>\n",
       "      <td>NaN</td>\n",
       "      <td>NaN</td>\n",
       "      <td>NaN</td>\n",
       "      <td>NaN</td>\n",
       "      <td>F-2014-20439</td>\n",
       "      <td>C05760420</td>\n",
       "      <td>06/30/2015</td>\n",
       "      <td>RELEASE IN PART</td>\n",
       "      <td>Ok.\\nH &lt;hrod17@clintonemail.com&gt;\\nTuesday, Dec...</td>\n",
       "      <td>UNCLASSIFIED U.S. Department of State Case No....</td>\n",
       "    </tr>\n",
       "    <tr>\n",
       "      <th>6848</th>\n",
       "      <td>6849</td>\n",
       "      <td>C05773249</td>\n",
       "      <td>BRAVO! BRAVA! ISSUE YOUR STATEMENT! SID</td>\n",
       "      <td>sbwhoeop</td>\n",
       "      <td>H</td>\n",
       "      <td>80.0</td>\n",
       "      <td>2010-02-05T05:00:00+00:00</td>\n",
       "      <td>2015-08-31T04:00:00+00:00</td>\n",
       "      <td>DOCUMENTS/HRCEmail_August_Web/IPS-0119/DOC_0C0...</td>\n",
       "      <td>F-2014-20439</td>\n",
       "      <td>...</td>\n",
       "      <td>'sbwhoeo</td>\n",
       "      <td>H &lt;hrod17@clintonemail.com&gt;</td>\n",
       "      <td>MillsCD@state.gov &lt;MillsCD@state.gov&gt;; Sulliva...</td>\n",
       "      <td>Friday, Februa 2110 7:07 AM</td>\n",
       "      <td>F-2014-20439</td>\n",
       "      <td>C05773249</td>\n",
       "      <td>08/31/2015</td>\n",
       "      <td>RELEASE IN PART</td>\n",
       "      <td>I will be doing a press event at 8:30. Do you ...</td>\n",
       "      <td>UNCLASSIFIED U.S. Department of State Case No....</td>\n",
       "    </tr>\n",
       "    <tr>\n",
       "      <th>2496</th>\n",
       "      <td>2497</td>\n",
       "      <td>C05763875</td>\n",
       "      <td>HOLBROOKE CALLED FOR YOU LATE LAST NIGHT.</td>\n",
       "      <td>H</td>\n",
       "      <td>Abedin, Huma</td>\n",
       "      <td>81.0</td>\n",
       "      <td>2009-07-25T04:00:00+00:00</td>\n",
       "      <td>2015-07-31T04:00:00+00:00</td>\n",
       "      <td>DOCUMENTS/HRCEmail_JulyWeb/Web_030/DOC_0C05763...</td>\n",
       "      <td>F-2014-20439</td>\n",
       "      <td>...</td>\n",
       "      <td>NaN</td>\n",
       "      <td>Abedin, Huma &lt;AbedinH@state.gov&gt;</td>\n",
       "      <td>NaN</td>\n",
       "      <td>Saturday, July 25, 2009 8:08 AM</td>\n",
       "      <td>F-2014-20439</td>\n",
       "      <td>C05763875</td>\n",
       "      <td>07/31/2015</td>\n",
       "      <td>RELEASE IN PART</td>\n",
       "      <td>didn't call me back yesterday.\\nWill call her ...</td>\n",
       "      <td>UNCLASSIFIED U.S. Department of State Case No....</td>\n",
       "    </tr>\n",
       "    <tr>\n",
       "      <th>2551</th>\n",
       "      <td>2552</td>\n",
       "      <td>C05764006</td>\n",
       "      <td>OUT OF OFFICE AUTOREPLY: SUPERB</td>\n",
       "      <td>H</td>\n",
       "      <td>Sherman, Wendy</td>\n",
       "      <td>213.0</td>\n",
       "      <td>2009-07-31T04:00:00+00:00</td>\n",
       "      <td>2015-07-31T04:00:00+00:00</td>\n",
       "      <td>DOCUMENTS/HRCEmail_JulyWeb/Web_030/DOC_0C05764...</td>\n",
       "      <td>F-2014-20439</td>\n",
       "      <td>...</td>\n",
       "      <td>NaN</td>\n",
       "      <td>Wendy Sherman</td>\n",
       "      <td>NaN</td>\n",
       "      <td>Friday, July 31, 2009 6:16 PM</td>\n",
       "      <td>F-2014-20439</td>\n",
       "      <td>C05764006</td>\n",
       "      <td>07/31/2015</td>\n",
       "      <td>RELEASE IN PART</td>\n",
       "      <td>I am traveling and will be out of the office f...</td>\n",
       "      <td>UNCLASSIFIED U.S. Department of State Case No....</td>\n",
       "    </tr>\n",
       "    <tr>\n",
       "      <th>6377</th>\n",
       "      <td>6378</td>\n",
       "      <td>C05772025</td>\n",
       "      <td>FW:</td>\n",
       "      <td>H</td>\n",
       "      <td>Mills, Cheryl D</td>\n",
       "      <td>32.0</td>\n",
       "      <td>2010-11-05T04:00:00+00:00</td>\n",
       "      <td>2015-08-31T04:00:00+00:00</td>\n",
       "      <td>DOCUMENTS/HRCEmail_August_Web/IPS-0106/DOC_0C0...</td>\n",
       "      <td>F-2014-20439</td>\n",
       "      <td>...</td>\n",
       "      <td>NaN</td>\n",
       "      <td>NaN</td>\n",
       "      <td>NaN</td>\n",
       "      <td>NaN</td>\n",
       "      <td>F-2014-20439</td>\n",
       "      <td>C05772025</td>\n",
       "      <td>08/31/2015</td>\n",
       "      <td>RELEASE IN PART</td>\n",
       "      <td>See WI\\nMills, Cheryl D &lt;MillsCD@state.gov&gt;\\nF...</td>\n",
       "      <td>UNCLASSIFIED U.S. Department of State Case No....</td>\n",
       "    </tr>\n",
       "    <tr>\n",
       "      <th>5206</th>\n",
       "      <td>5207</td>\n",
       "      <td>C05769821</td>\n",
       "      <td>FLOTUS RE XFLOTUS</td>\n",
       "      <td>H</td>\n",
       "      <td>PIR</td>\n",
       "      <td>170.0</td>\n",
       "      <td>2010-03-10T05:00:00+00:00</td>\n",
       "      <td>2015-08-31T04:00:00+00:00</td>\n",
       "      <td>DOCUMENTS/HRCEmail_August_Web/IPS-0064/DOC_0C0...</td>\n",
       "      <td>F-2014-20439</td>\n",
       "      <td>...</td>\n",
       "      <td>NaN</td>\n",
       "      <td>NaN</td>\n",
       "      <td>NaN</td>\n",
       "      <td>NaN</td>\n",
       "      <td>F-2014-20439</td>\n",
       "      <td>C05769821</td>\n",
       "      <td>08/31/2015</td>\n",
       "      <td>RELEASE IN PART</td>\n",
       "      <td>PIR &lt;preines(\\nWednesday, February 10, 2010 1:...</td>\n",
       "      <td>UNCLASSIFIED U.S. Department of State Case No....</td>\n",
       "    </tr>\n",
       "    <tr>\n",
       "      <th>5364</th>\n",
       "      <td>5365</td>\n",
       "      <td>C05770087</td>\n",
       "      <td>H: MEMO ON UK POLITICS/BUDGET/ECONOMY SID</td>\n",
       "      <td>H</td>\n",
       "      <td>sbwhoeop</td>\n",
       "      <td>194.0</td>\n",
       "      <td>2010-06-27T04:00:00+00:00</td>\n",
       "      <td>2015-08-31T04:00:00+00:00</td>\n",
       "      <td>DOCUMENTS/HRCEmail_August_Web/IPS-0085/DOC_0C0...</td>\n",
       "      <td>F-2014-20439</td>\n",
       "      <td>...</td>\n",
       "      <td>NaN</td>\n",
       "      <td>NaN</td>\n",
       "      <td>NaN</td>\n",
       "      <td>NaN</td>\n",
       "      <td>F-2014-20439</td>\n",
       "      <td>C05770087</td>\n",
       "      <td>08/31/2015</td>\n",
       "      <td>RELEASE IN PART</td>\n",
       "      <td>sbwhoeop\\nSunday, June 27, 2010 10:35 AM\\nH: m...</td>\n",
       "      <td>UNCLASSIFIED U.S. Department of State Case No....</td>\n",
       "    </tr>\n",
       "    <tr>\n",
       "      <th>6653</th>\n",
       "      <td>6654</td>\n",
       "      <td>C05772700</td>\n",
       "      <td>(REUTERS) KOSOVO-SERBIA TALKS LIKELY DELAYED T...</td>\n",
       "      <td>H</td>\n",
       "      <td>Abedin, Huma</td>\n",
       "      <td>81.0</td>\n",
       "      <td>2010-10-11T04:00:00+00:00</td>\n",
       "      <td>2015-08-31T04:00:00+00:00</td>\n",
       "      <td>DOCUMENTS/HRCEmail_August_Web/IPS-0102/DOC_0C0...</td>\n",
       "      <td>F-2014-20439</td>\n",
       "      <td>...</td>\n",
       "      <td>NaN</td>\n",
       "      <td>Abedin, Huma &lt;AbedinH@state.gov&gt;</td>\n",
       "      <td>Shaker, Joan P</td>\n",
       "      <td>Monday, October 11,2010 12:27 PM</td>\n",
       "      <td>F-2014-20439</td>\n",
       "      <td>C05772700</td>\n",
       "      <td>08/31/2015</td>\n",
       "      <td>RELEASE IN FULL</td>\n",
       "      <td>NaN</td>\n",
       "      <td>UNCLASSIFIED U.S. Department of State Case No....</td>\n",
       "    </tr>\n",
       "    <tr>\n",
       "      <th>6932</th>\n",
       "      <td>6933</td>\n",
       "      <td>C05773496</td>\n",
       "      <td>UNDELIVERABLE: FOLLOWUP W SEC NAPOLITANO</td>\n",
       "      <td>Abedin, Huma</td>\n",
       "      <td>H</td>\n",
       "      <td>80.0</td>\n",
       "      <td>2010-01-24T05:00:00+00:00</td>\n",
       "      <td>2015-08-31T04:00:00+00:00</td>\n",
       "      <td>DOCUMENTS/HRCEmail_August_Web/IPS-0117/DOC_0C0...</td>\n",
       "      <td>F-2014-20439</td>\n",
       "      <td>...</td>\n",
       "      <td>'JilotyLC@state.gov'; Huma Abedin</td>\n",
       "      <td>H &lt;hrod17@clintonemail.com&gt;</td>\n",
       "      <td>NaN</td>\n",
       "      <td>Sunday, January 24, 2010 4:13 PM</td>\n",
       "      <td>F-2014-20439</td>\n",
       "      <td>C05773496</td>\n",
       "      <td>08/31/2015</td>\n",
       "      <td>RELEASE IN PART</td>\n",
       "      <td>What is Eric Scwarz's email?</td>\n",
       "      <td>UNCLASSIFIED U.S. Department of State Case No....</td>\n",
       "    </tr>\n",
       "  </tbody>\n",
       "</table>\n",
       "<p>10 rows × 22 columns</p>\n",
       "</div>"
      ],
      "text/plain": [
       "        Id  DocNumber                                    MetadataSubject  \\\n",
       "1195  1196  C05760496                                              OPRAH   \n",
       "1154  1155  C05760420                                        CHECKING IN   \n",
       "6848  6849  C05773249            BRAVO! BRAVA! ISSUE YOUR STATEMENT! SID   \n",
       "2496  2497  C05763875          HOLBROOKE CALLED FOR YOU LATE LAST NIGHT.   \n",
       "2551  2552  C05764006                    OUT OF OFFICE AUTOREPLY: SUPERB   \n",
       "6377  6378  C05772025                                                FW:   \n",
       "5206  5207  C05769821                                  FLOTUS RE XFLOTUS   \n",
       "5364  5365  C05770087          H: MEMO ON UK POLITICS/BUDGET/ECONOMY SID   \n",
       "6653  6654  C05772700  (REUTERS) KOSOVO-SERBIA TALKS LIKELY DELAYED T...   \n",
       "6932  6933  C05773496           UNDELIVERABLE: FOLLOWUP W SEC NAPOLITANO   \n",
       "\n",
       "             MetadataTo     MetadataFrom  SenderPersonId  \\\n",
       "1195  abedinh@state.gov                H            80.0   \n",
       "1154  millscd@state.gov                H            80.0   \n",
       "6848           sbwhoeop                H            80.0   \n",
       "2496                  H     Abedin, Huma            81.0   \n",
       "2551                  H   Sherman, Wendy           213.0   \n",
       "6377                  H  Mills, Cheryl D            32.0   \n",
       "5206                  H              PIR           170.0   \n",
       "5364                  H         sbwhoeop           194.0   \n",
       "6653                  H     Abedin, Huma            81.0   \n",
       "6932       Abedin, Huma                H            80.0   \n",
       "\n",
       "               MetadataDateSent       MetadataDateReleased  \\\n",
       "1195  2009-08-29T04:00:00+00:00  2015-06-30T04:00:00+00:00   \n",
       "1154  2009-12-08T05:00:00+00:00  2015-06-30T04:00:00+00:00   \n",
       "6848  2010-02-05T05:00:00+00:00  2015-08-31T04:00:00+00:00   \n",
       "2496  2009-07-25T04:00:00+00:00  2015-07-31T04:00:00+00:00   \n",
       "2551  2009-07-31T04:00:00+00:00  2015-07-31T04:00:00+00:00   \n",
       "6377  2010-11-05T04:00:00+00:00  2015-08-31T04:00:00+00:00   \n",
       "5206  2010-03-10T05:00:00+00:00  2015-08-31T04:00:00+00:00   \n",
       "5364  2010-06-27T04:00:00+00:00  2015-08-31T04:00:00+00:00   \n",
       "6653  2010-10-11T04:00:00+00:00  2015-08-31T04:00:00+00:00   \n",
       "6932  2010-01-24T05:00:00+00:00  2015-08-31T04:00:00+00:00   \n",
       "\n",
       "                                        MetadataPdfLink MetadataCaseNumber  \\\n",
       "1195  DOCUMENTS/HRCAll_1_1-29_JuneWEB/6_7_8/DOC_0C05...       F-2014-20439   \n",
       "1154  DOCUMENTS/HRCAll_1_1-29_JuneWEB/10_11_15_16/DO...       F-2014-20439   \n",
       "6848  DOCUMENTS/HRCEmail_August_Web/IPS-0119/DOC_0C0...       F-2014-20439   \n",
       "2496  DOCUMENTS/HRCEmail_JulyWeb/Web_030/DOC_0C05763...       F-2014-20439   \n",
       "2551  DOCUMENTS/HRCEmail_JulyWeb/Web_030/DOC_0C05764...       F-2014-20439   \n",
       "6377  DOCUMENTS/HRCEmail_August_Web/IPS-0106/DOC_0C0...       F-2014-20439   \n",
       "5206  DOCUMENTS/HRCEmail_August_Web/IPS-0064/DOC_0C0...       F-2014-20439   \n",
       "5364  DOCUMENTS/HRCEmail_August_Web/IPS-0085/DOC_0C0...       F-2014-20439   \n",
       "6653  DOCUMENTS/HRCEmail_August_Web/IPS-0102/DOC_0C0...       F-2014-20439   \n",
       "6932  DOCUMENTS/HRCEmail_August_Web/IPS-0117/DOC_0C0...       F-2014-20439   \n",
       "\n",
       "                            ...                          \\\n",
       "1195                        ...                           \n",
       "1154                        ...                           \n",
       "6848                        ...                           \n",
       "2496                        ...                           \n",
       "2551                        ...                           \n",
       "6377                        ...                           \n",
       "5206                        ...                           \n",
       "5364                        ...                           \n",
       "6653                        ...                           \n",
       "6932                        ...                           \n",
       "\n",
       "                            ExtractedTo                     ExtractedFrom  \\\n",
       "1195                'abedinh@state.gov'      H <hrod17@clintonemail.com >   \n",
       "1154                                NaN                               NaN   \n",
       "6848                           'sbwhoeo       H <hrod17@clintonemail.com>   \n",
       "2496                                NaN  Abedin, Huma <AbedinH@state.gov>   \n",
       "2551                                NaN                     Wendy Sherman   \n",
       "6377                                NaN                               NaN   \n",
       "5206                                NaN                               NaN   \n",
       "5364                                NaN                               NaN   \n",
       "6653                                NaN  Abedin, Huma <AbedinH@state.gov>   \n",
       "6932  'JilotyLC@state.gov'; Huma Abedin       H <hrod17@clintonemail.com>   \n",
       "\n",
       "                                            ExtractedCc  \\\n",
       "1195                                       Oscar Flores   \n",
       "1154                                                NaN   \n",
       "6848  MillsCD@state.gov <MillsCD@state.gov>; Sulliva...   \n",
       "2496                                                NaN   \n",
       "2551                                                NaN   \n",
       "6377                                                NaN   \n",
       "5206                                                NaN   \n",
       "5364                                                NaN   \n",
       "6653                                     Shaker, Joan P   \n",
       "6932                                                NaN   \n",
       "\n",
       "                      ExtractedDateSent ExtractedCaseNumber  \\\n",
       "1195  Saturday, August 29, 2009 8:39 PM        F-2014-20439   \n",
       "1154                                NaN        F-2014-20439   \n",
       "6848        Friday, Februa 2110 7:07 AM        F-2014-20439   \n",
       "2496    Saturday, July 25, 2009 8:08 AM        F-2014-20439   \n",
       "2551      Friday, July 31, 2009 6:16 PM        F-2014-20439   \n",
       "6377                                NaN        F-2014-20439   \n",
       "5206                                NaN        F-2014-20439   \n",
       "5364                                NaN        F-2014-20439   \n",
       "6653   Monday, October 11,2010 12:27 PM        F-2014-20439   \n",
       "6932   Sunday, January 24, 2010 4:13 PM        F-2014-20439   \n",
       "\n",
       "     ExtractedDocNumber ExtractedDateReleased ExtractedReleaseInPartOrFull  \\\n",
       "1195          C05760496            06/30/2015              RELEASE IN FULL   \n",
       "1154          C05760420            06/30/2015              RELEASE IN PART   \n",
       "6848          C05773249            08/31/2015              RELEASE IN PART   \n",
       "2496          C05763875            07/31/2015              RELEASE IN PART   \n",
       "2551          C05764006            07/31/2015              RELEASE IN PART   \n",
       "6377          C05772025            08/31/2015              RELEASE IN PART   \n",
       "5206          C05769821            08/31/2015              RELEASE IN PART   \n",
       "5364          C05770087            08/31/2015              RELEASE IN PART   \n",
       "6653          C05772700            08/31/2015              RELEASE IN FULL   \n",
       "6932          C05773496            08/31/2015              RELEASE IN PART   \n",
       "\n",
       "                                      ExtractedBodyText  \\\n",
       "1195  But I'm leaving here on Wed and I'll be at hom...   \n",
       "1154  Ok.\\nH <hrod17@clintonemail.com>\\nTuesday, Dec...   \n",
       "6848  I will be doing a press event at 8:30. Do you ...   \n",
       "2496  didn't call me back yesterday.\\nWill call her ...   \n",
       "2551  I am traveling and will be out of the office f...   \n",
       "6377  See WI\\nMills, Cheryl D <MillsCD@state.gov>\\nF...   \n",
       "5206  PIR <preines(\\nWednesday, February 10, 2010 1:...   \n",
       "5364  sbwhoeop\\nSunday, June 27, 2010 10:35 AM\\nH: m...   \n",
       "6653                                                NaN   \n",
       "6932                       What is Eric Scwarz's email?   \n",
       "\n",
       "                                                RawText  \n",
       "1195  UNCLASSIFIED U.S. Department of State Case No....  \n",
       "1154  UNCLASSIFIED U.S. Department of State Case No....  \n",
       "6848  UNCLASSIFIED U.S. Department of State Case No....  \n",
       "2496  UNCLASSIFIED U.S. Department of State Case No....  \n",
       "2551  UNCLASSIFIED U.S. Department of State Case No....  \n",
       "6377  UNCLASSIFIED U.S. Department of State Case No....  \n",
       "5206  UNCLASSIFIED U.S. Department of State Case No....  \n",
       "5364  UNCLASSIFIED U.S. Department of State Case No....  \n",
       "6653  UNCLASSIFIED U.S. Department of State Case No....  \n",
       "6932  UNCLASSIFIED U.S. Department of State Case No....  \n",
       "\n",
       "[10 rows x 22 columns]"
      ]
     },
     "execution_count": 2,
     "metadata": {},
     "output_type": "execute_result"
    }
   ],
   "source": [
    "# Read data\n",
    "emails = pd.read_csv('Data/Emails.csv', sep = ',')\n",
    "emails.sample(10)\n",
    "# MetadataSubject; "
   ]
  },
  {
   "cell_type": "code",
   "execution_count": 3,
   "metadata": {
    "collapsed": false
   },
   "outputs": [],
   "source": [
    "index_null = emails[emails['MetadataSubject'].isnull()].index\n",
    "index_null_extracted = emails[emails['ExtractedSubject'].isnull()].index#, 'ExtractedSubject']]"
   ]
  },
  {
   "cell_type": "code",
   "execution_count": 4,
   "metadata": {
    "collapsed": false
   },
   "outputs": [
    {
     "data": {
      "text/plain": [
       "250"
      ]
     },
     "execution_count": 4,
     "metadata": {},
     "output_type": "execute_result"
    }
   ],
   "source": [
    "# Number that should remain null\n",
    "len(set(index_null).intersection(set(index_null_extracted)))"
   ]
  },
  {
   "cell_type": "code",
   "execution_count": 5,
   "metadata": {
    "collapsed": false
   },
   "outputs": [],
   "source": [
    "for i in index_null:\n",
    "    emails.loc[i,'MetadataSubject'] = emails.loc[i, 'ExtractedSubject']"
   ]
  },
  {
   "cell_type": "code",
   "execution_count": 6,
   "metadata": {
    "collapsed": false
   },
   "outputs": [],
   "source": [
    "# Get the subject (replacing na)\n",
    "emails['MetadataSubject'].fillna('No title', inplace = True)"
   ]
  },
  {
   "cell_type": "code",
   "execution_count": 7,
   "metadata": {
    "collapsed": false
   },
   "outputs": [],
   "source": [
    "# Get bodies\n",
    "emails['ExtractedBodyText'].fillna('No body text', inplace = True)"
   ]
  },
  {
   "cell_type": "markdown",
   "metadata": {},
   "source": [
    "* Extract the column relates to the `RawText`."
   ]
  },
  {
   "cell_type": "code",
   "execution_count": 8,
   "metadata": {
    "collapsed": false
   },
   "outputs": [],
   "source": [
    "# Useful data\n",
    "email_corpus = emails[['MetadataSubject', 'ExtractedBodyText']]"
   ]
  },
  {
   "cell_type": "markdown",
   "metadata": {},
   "source": [
    "* Create a *unique* corpus."
   ]
  },
  {
   "cell_type": "markdown",
   "metadata": {},
   "source": [
    "We choose the columns of the data that provide some useful information - merged columns for subject of the email and also body text."
   ]
  },
  {
   "cell_type": "code",
   "execution_count": 9,
   "metadata": {
    "collapsed": false
   },
   "outputs": [],
   "source": [
    "# Create the corpus\n",
    "unique_corpus_1 = ' '.join([email_corpus['MetadataSubject'][i] for i in range(len(email_corpus))])\n",
    "unique_corpus_2 = ' '.join([email_corpus['ExtractedBodyText'][i] for i in range(len(email_corpus))])\n",
    "corpus = [unique_corpus_1] + [unique_corpus_2]"
   ]
  },
  {
   "cell_type": "code",
   "execution_count": 10,
   "metadata": {
    "collapsed": false
   },
   "outputs": [],
   "source": [
    "unique_corpus = ' '.join(corpus)"
   ]
  },
  {
   "cell_type": "markdown",
   "metadata": {},
   "source": [
    "At first we remove all the characters that contain punctuation."
   ]
  },
  {
   "cell_type": "code",
   "execution_count": 11,
   "metadata": {
    "collapsed": false
   },
   "outputs": [],
   "source": [
    "for c in string.punctuation:\n",
    "    unique_corpus = unique_corpus.replace(c,\" \")"
   ]
  },
  {
   "cell_type": "markdown",
   "metadata": {},
   "source": [
    "Thus, we generate the word cloud. For the moment, in order to indentify the most frequent words, we decide not to fix the maximum font size."
   ]
  },
  {
   "cell_type": "code",
   "execution_count": 12,
   "metadata": {
    "collapsed": false
   },
   "outputs": [],
   "source": [
    "# Generate the word cloud \n",
    "wordcloud = WordCloud().generate(unique_corpus)"
   ]
  },
  {
   "cell_type": "markdown",
   "metadata": {},
   "source": [
    "Visualize the output cloud!"
   ]
  },
  {
   "cell_type": "code",
   "execution_count": 13,
   "metadata": {
    "collapsed": false
   },
   "outputs": [
    {
     "data": {
      "text/plain": [
       "(-0.5, 399.5, 199.5, -0.5)"
      ]
     },
     "execution_count": 13,
     "metadata": {},
     "output_type": "execute_result"
    },
    {
     "data": {
      "image/png": "[encoded data removed]",
      "text/plain": [
       "<matplotlib.figure.Figure at 0x118909390>"
      ]
     },
     "metadata": {},
     "output_type": "display_data"
    }
   ],
   "source": [
    "# Display the generated cloud\n",
    "plt.imshow(wordcloud)\n",
    "plt.axis(\"off\")"
   ]
  },
  {
   "cell_type": "markdown",
   "metadata": {},
   "source": [
    "### b. Pre-processed text\n",
    "\n",
    "To preprocess the text we proceed applying the standard pipeline that includes:\n",
    "* Tokenization\n",
    "* Stop-words\n",
    "* Stemming"
   ]
  },
  {
   "cell_type": "markdown",
   "metadata": {},
   "source": [
    "We tokenize the corpus and we receive the list of words to further procedure."
   ]
  },
  {
   "cell_type": "code",
   "execution_count": 14,
   "metadata": {
    "collapsed": false
   },
   "outputs": [],
   "source": [
    "text = nltk.word_tokenize(unique_corpus)"
   ]
  },
  {
   "cell_type": "code",
   "execution_count": 15,
   "metadata": {
    "collapsed": false
   },
   "outputs": [
    {
     "data": {
      "text/plain": [
       "667487"
      ]
     },
     "execution_count": 15,
     "metadata": {},
     "output_type": "execute_result"
    }
   ],
   "source": [
    "len(text)"
   ]
  },
  {
   "cell_type": "markdown",
   "metadata": {},
   "source": [
    "We remove meaningless, short tokens and we put the rest of them into lowercase."
   ]
  },
  {
   "cell_type": "code",
   "execution_count": 16,
   "metadata": {
    "collapsed": false
   },
   "outputs": [],
   "source": [
    "text_token = [i.lower() for i in text if len(i) > 2]"
   ]
  },
  {
   "cell_type": "code",
   "execution_count": 17,
   "metadata": {
    "collapsed": false
   },
   "outputs": [
    {
     "data": {
      "text/plain": [
       "505321"
      ]
     },
     "execution_count": 17,
     "metadata": {},
     "output_type": "execute_result"
    }
   ],
   "source": [
    "len(text_token)"
   ]
  },
  {
   "cell_type": "markdown",
   "metadata": {},
   "source": [
    "We use stopword list extended by the common words we found in the cloud above."
   ]
  },
  {
   "cell_type": "code",
   "execution_count": 18,
   "metadata": {
    "collapsed": false
   },
   "outputs": [],
   "source": [
    "stop_words = set(stopwords.words('english') + ['body', 'text', 'said', 'time','new', 'fyi', 'also', 'first', 'work', 'make', 'call', 'right',\n",
    "                                               \"n't\", 'say', 'talk', 'call', 'need', 'one', 'meet', 'today', 'see', 'two', 'year', 'would',\n",
    "                                               'know', 'would', 'get', 'time', 'morning', 'like', 'back', 'tomorrow', 'think', 'good', 'want',\n",
    "                                               'could', 'working', 'well', 'house', 'come', 'calling', 'day', 'ask', 'tell', 'states', 'gov',\n",
    "                                               'secretary', 'state', 'years', 'may', 'last', 'way', 'speech', 'party', 'week', 'thank',\n",
    "                                               'room', 'many', 'even', 'case', 'much', 'let', 'going', 'take', 'says', 'point', 'next',\n",
    "                                               'schedule', 'called', 'still', 'told', 'made', 'monday', 'news', 'another', 'long', 'best',\n",
    "                                               'date', 'tuesday', 'wednesday', 'thursday', 'friday', 'pls'])"
   ]
  },
  {
   "cell_type": "code",
   "execution_count": 19,
   "metadata": {
    "collapsed": true
   },
   "outputs": [],
   "source": [
    "filtered_words = [word for word in text_token if word not in stop_words]"
   ]
  },
  {
   "cell_type": "markdown",
   "metadata": {
    "collapsed": false
   },
   "source": [
    "We considered using stemming techniques but we abandoned this idea while it couldn't give us more descriptive view of the email content. Also we find not stemmed words easier to proceed."
   ]
  },
  {
   "cell_type": "code",
   "execution_count": 20,
   "metadata": {
    "collapsed": true
   },
   "outputs": [],
   "source": [
    "clean_corpus = ' '.join(filtered_words)"
   ]
  },
  {
   "cell_type": "code",
   "execution_count": 21,
   "metadata": {
    "collapsed": true
   },
   "outputs": [],
   "source": [
    "words_cloud = WordCloud().generate(clean_corpus)"
   ]
  },
  {
   "cell_type": "code",
   "execution_count": 22,
   "metadata": {
    "collapsed": false
   },
   "outputs": [
    {
     "data": {
      "text/plain": [
       "[('obama', 1.0),\n",
       " ('office', 0.9432950191570881),\n",
       " ('president', 0.9371647509578545),\n",
       " ('american', 0.7593869731800766),\n",
       " ('meeting', 0.7448275862068966),\n",
       " ('department', 0.6904214559386973),\n",
       " ('government', 0.6551724137931034),\n",
       " ('clinton', 0.6505747126436782),\n",
       " ('people', 0.6413793103448275),\n",
       " ('foreign', 0.5547892720306513),\n",
       " ('issue', 0.5088122605363985),\n",
       " ('republican', 0.4735632183908046),\n",
       " ('women', 0.4582375478927203),\n",
       " ('security', 0.4574712643678161),\n",
       " ('policy', 0.4528735632183908),\n",
       " ('sid', 0.4482758620689655),\n",
       " ('israel', 0.4467432950191571),\n",
       " ('world', 0.43524904214559385),\n",
       " ('support', 0.4329501915708812),\n",
       " ('united', 0.4306513409961686),\n",
       " ('group', 0.4298850574712644),\n",
       " ('political', 0.4191570881226054),\n",
       " ('leader', 0.4099616858237548),\n",
       " ('minister', 0.4091954022988506),\n",
       " ('official', 0.4),\n",
       " ('white', 0.3938697318007663),\n",
       " ('washington', 0.39080459770114945),\n",
       " ('report', 0.38084291187739466),\n",
       " ('national', 0.3685823754789272),\n",
       " ('bill', 0.3632183908045977),\n",
       " ('public', 0.3624521072796935),\n",
       " ('election', 0.36091954022988504),\n",
       " ('israeli', 0.35019157088122604),\n",
       " ('vote', 0.34942528735632183),\n",
       " ('administration', 0.34099616858237547),\n",
       " ('conference', 0.33946360153256705),\n",
       " ('staff', 0.3340996168582375),\n",
       " ('iran', 0.3302681992337165),\n",
       " ('afghanistan', 0.32950191570881227),\n",
       " ('part', 0.3264367816091954),\n",
       " ('statement', 0.3218390804597701),\n",
       " ('haiti', 0.3195402298850575),\n",
       " ('cheryl', 0.3195402298850575),\n",
       " ('private', 0.31340996168582375),\n",
       " ('international', 0.3065134099616858),\n",
       " ('china', 0.3065134099616858),\n",
       " ('agreement', 0.3049808429118774),\n",
       " ('effort', 0.30268199233716475),\n",
       " ('health', 0.30114942528735633),\n",
       " ('senate', 0.2942528735632184),\n",
       " ('military', 0.2896551724137931),\n",
       " ('help', 0.28812260536398465),\n",
       " ('peace', 0.28735632183908044),\n",
       " ('information', 0.28735632183908044),\n",
       " ('country', 0.28659003831417623),\n",
       " ('war', 0.2842911877394636),\n",
       " ('member', 0.281992337164751),\n",
       " ('hillary', 0.2789272030651341),\n",
       " ('percent', 0.275095785440613),\n",
       " ('benghazi', 0.2735632183908046),\n",
       " ('nation', 0.2727969348659004),\n",
       " ('former', 0.271264367816092),\n",
       " ('press', 0.271264367816092),\n",
       " ('change', 0.2681992337164751),\n",
       " ('question', 0.26666666666666666),\n",
       " ('force', 0.26666666666666666),\n",
       " ('power', 0.26590038314176245),\n",
       " ('since', 0.26513409961685824),\n",
       " ('thing', 0.26436781609195403),\n",
       " ('democrat', 0.2620689655172414),\n",
       " ('huma', 0.26053639846743293),\n",
       " ('great', 0.2574712643678161),\n",
       " ('arrive', 0.2574712643678161),\n",
       " ('subject', 0.2567049808429119),\n",
       " ('times', 0.2567049808429119),\n",
       " ('plan', 0.25287356321839083),\n",
       " ('email', 0.25287356321839083),\n",
       " ('general', 0.25134099616858235),\n",
       " ('route', 0.25057471264367814),\n",
       " ('update', 0.2482758620689655),\n",
       " ('month', 0.2475095785440613),\n",
       " ('depart', 0.2475095785440613),\n",
       " ('sent', 0.2467432950191571),\n",
       " ('job', 0.24597701149425288),\n",
       " ('end', 0.24521072796934865),\n",
       " ('deal', 0.24521072796934865),\n",
       " ('america', 0.24521072796934865),\n",
       " ('message', 0.24521072796934865),\n",
       " ('around', 0.24367816091954023),\n",
       " ('mill', 0.2421455938697318),\n",
       " ('palestinian', 0.2413793103448276),\n",
       " ('david', 0.2413793103448276),\n",
       " ('care', 0.24061302681992336),\n",
       " ('including', 0.23601532567049807),\n",
       " ('economic', 0.23524904214559386),\n",
       " ('doc', 0.23524904214559386),\n",
       " ('pakistan', 0.23065134099616857),\n",
       " ('asked', 0.22758620689655173),\n",
       " ('campaign', 0.2260536398467433),\n",
       " ('ambassador', 0.22452107279693487),\n",
       " ('right', 0.22452107279693487),\n",
       " ('number', 0.22375478927203066),\n",
       " ('sunday', 0.22375478927203066),\n",
       " ('term', 0.22298850574712645),\n",
       " ('home', 0.2222222222222222),\n",
       " ('team', 0.221455938697318),\n",
       " ('attack', 0.2206896551724138),\n",
       " ('afghan', 0.21915708812260537),\n",
       " ('development', 0.21839080459770116),\n",
       " ('put', 0.21762452107279692),\n",
       " ('draft', 0.2168582375478927),\n",
       " ('give', 0.2160919540229885),\n",
       " ('yes', 0.2160919540229885),\n",
       " ('senior', 0.2153256704980843),\n",
       " ('might', 0.21455938697318008),\n",
       " ('democratic', 0.21226053639846743),\n",
       " ('hrc', 0.21226053639846743),\n",
       " ('senator', 0.21149425287356322),\n",
       " ('call', 0.210727969348659),\n",
       " ('sure', 0.2099616858237548),\n",
       " ('thank', 0.2099616858237548),\n",
       " ('thought', 0.20613026819923372),\n",
       " ('hope', 0.2053639846743295),\n",
       " ('post', 0.20229885057471264),\n",
       " ('title', 0.20076628352490422),\n",
       " ('global', 0.20076628352490422),\n",
       " ('east', 0.20076628352490422),\n",
       " ('note', 0.2),\n",
       " ('among', 0.19846743295019156),\n",
       " ('memo', 0.19846743295019156),\n",
       " ('book', 0.19846743295019156),\n",
       " ('law', 0.19770114942528735),\n",
       " ('place', 0.19770114942528735),\n",
       " ('letter', 0.19616858237547893),\n",
       " ('york', 0.19616858237547893),\n",
       " ('far', 0.19616858237547893),\n",
       " ('list', 0.19540229885057472),\n",
       " ('got', 0.1946360153256705),\n",
       " ('send', 0.19386973180076628),\n",
       " ('believe', 0.19386973180076628),\n",
       " ('look', 0.19310344827586207),\n",
       " ('must', 0.19233716475095786),\n",
       " ('residence', 0.19157088122605365),\n",
       " ('media', 0.19157088122605365),\n",
       " ('sensitive', 0.19157088122605365),\n",
       " ('trip', 0.19080459770114944),\n",
       " ('million', 0.19080459770114944),\n",
       " ('print', 0.1900383141762452),\n",
       " ('daily', 0.1900383141762452),\n",
       " ('idea', 0.189272030651341),\n",
       " ('conservative', 0.189272030651341),\n",
       " ('clintonemail', 0.189272030651341),\n",
       " ('interest', 0.18773946360153257),\n",
       " ('special', 0.18620689655172415),\n",
       " ('produced', 0.18620689655172415),\n",
       " ('yet', 0.1854406130268199),\n",
       " ('countries', 0.1854406130268199),\n",
       " ('set', 0.1846743295019157),\n",
       " ('september', 0.1846743295019157),\n",
       " ('settlement', 0.1846743295019157),\n",
       " ('done', 0.1846743295019157),\n",
       " ('human', 0.1839080459770115),\n",
       " ('dept', 0.1839080459770115),\n",
       " ('process', 0.1839080459770115),\n",
       " ('service', 0.1839080459770115),\n",
       " ('center', 0.18314176245210728),\n",
       " ('thx', 0.18314176245210728),\n",
       " ('middle', 0.18314176245210728),\n",
       " ('june', 0.18237547892720307),\n",
       " ('libya', 0.18160919540229886),\n",
       " ('three', 0.18007662835249041),\n",
       " ('problem', 0.178544061302682),\n",
       " ('start', 0.178544061302682),\n",
       " ('diplomacy', 0.178544061302682),\n",
       " ('top', 0.178544061302682),\n",
       " ('arab', 0.17701149425287357),\n",
       " ('follow', 0.17701149425287357),\n",
       " ('night', 0.17624521072796934),\n",
       " ('poll', 0.17624521072796934),\n",
       " ('voter', 0.17624521072796934),\n",
       " ('important', 0.17547892720306513),\n",
       " ('high', 0.17547892720306513),\n",
       " ('better', 0.17471264367816092),\n",
       " ('clear', 0.17471264367816092),\n",
       " ('abedin', 0.17471264367816092),\n",
       " ('presidential', 0.1724137931034483),\n",
       " ('discuss', 0.1724137931034483),\n",
       " ('friend', 0.17164750957854405),\n",
       " ('comm', 0.17164750957854405),\n",
       " ('john', 0.17164750957854405),\n",
       " ('strategy', 0.17164750957854405),\n",
       " ('cdm', 0.17088122605363984),\n",
       " ('holbrooke', 0.17088122605363984),\n",
       " ('show', 0.17011494252873563),\n",
       " ('later', 0.16934865900383142),\n",
       " ('select', 0.16934865900383142),\n",
       " ('release', 0.16934865900383142),\n",
       " ('building', 0.16934865900383142),\n",
       " ('role', 0.16934865900383142),\n",
       " ('saturday', 0.1685823754789272)]"
      ]
     },
     "execution_count": 22,
     "metadata": {},
     "output_type": "execute_result"
    }
   ],
   "source": [
    "words_cloud.words_"
   ]
  },
  {
   "cell_type": "code",
   "execution_count": 23,
   "metadata": {
    "collapsed": false
   },
   "outputs": [
    {
     "data": {
      "text/plain": [
       "(-0.5, 399.5, 199.5, -0.5)"
      ]
     },
     "execution_count": 23,
     "metadata": {},
     "output_type": "execute_result"
    },
    {
     "data": {
      "image/png": "[encoded data removed]",
      "text/plain": [
       "<matplotlib.figure.Figure at 0x1248a3358>"
      ]
     },
     "metadata": {},
     "output_type": "display_data"
    }
   ],
   "source": [
    "plt.imshow(WordCloud().generate(clean_corpus))\n",
    "plt.axis(\"off\")"
   ]
  },
  {
   "cell_type": "markdown",
   "metadata": {},
   "source": [
    "## 2.\n",
    "Find all the mentions of world countries in the whole corpus, using the pycountry utility (HINT: remember that there will be different surface forms for the same country in the text, e.g., Switzerland, switzerland, CH, etc.) Perform sentiment analysis on every email message using the demo methods in the nltk.sentiment.util module. Aggregate the polarity information of all the emails by country, and plot a histogram (ordered and colored by polarity level) that summarizes the perception of the different countries. Repeat the aggregation + plotting steps using different demo methods from the sentiment analysis module -- can you find substantial differences?"
   ]
  },
  {
   "cell_type": "code",
   "execution_count": 27,
   "metadata": {
    "collapsed": false
   },
   "outputs": [],
   "source": [
    "def clean_body(x):\n",
    "    \n",
    "    # IMPORTANT STOPWORD IS A VARIABLE ALREADY DECLEARED OUTSIDE\n",
    "    \n",
    "    # Tokenize\n",
    "    text = nltk.word_tokenize(x)\n",
    "    \n",
    "    # Replace the comma adding space and go to lowercase\n",
    "    replace_comma = [(i.replace(',', ', ')).lower() for i in text]\n",
    "    \n",
    "    # Get rid of this list of two letters words\n",
    "    get_rid = list(stop_words) + [\"re\", \"fm\", \"tv\", \"al\", \"aq\", \"la\", \"ben\", 'no']\n",
    "    list_words = [i for i in replace_comma if i not in get_rid and len(i) > 1]\n",
    "       \n",
    "    # Get back to the string\n",
    "    join_list = \" \".join(list_words)\n",
    "    \n",
    "    # Remove all the punctuation\n",
    "    for c in string.punctuation:\n",
    "        join_list = join_list.replace(c,\" \")\n",
    "    \n",
    "    text_new = nltk.word_tokenize(join_list)\n",
    "            \n",
    "    return text_new"
   ]
  },
  {
   "cell_type": "code",
   "execution_count": 28,
   "metadata": {
    "collapsed": true
   },
   "outputs": [],
   "source": [
    "from functools import partial"
   ]
  },
  {
   "cell_type": "code",
   "execution_count": 29,
   "metadata": {
    "collapsed": false
   },
   "outputs": [],
   "source": [
    "emails['ExtractedBodyText'] = emails['ExtractedBodyText'].apply(clean_body)"
   ]
  },
  {
   "cell_type": "code",
   "execution_count": 30,
   "metadata": {
    "collapsed": true
   },
   "outputs": [],
   "source": [
    "import pycountry"
   ]
  },
  {
   "cell_type": "code",
   "execution_count": 31,
   "metadata": {
    "collapsed": false
   },
   "outputs": [],
   "source": [
    "list_country = list(pycountry.countries)\n",
    "country_dictionary = {}\n",
    "country_set = []\n",
    "for country in list_country:\n",
    "    country_dictionary[country.name] = [(country.alpha_2).lower(), (country.alpha_3).lower()]\n",
    "    country_set.append((country.alpha_2).lower())\n",
    "    country_set.append((country.alpha_3).lower())\n",
    "    country_set.append((country.name).lower())\n",
    "    \n",
    "country_set += ['syria', 'russia', 'uk', 'united kingdom', 'great britain']\n",
    "country_set = set(country_set)"
   ]
  },
  {
   "cell_type": "code",
   "execution_count": 32,
   "metadata": {
    "collapsed": true
   },
   "outputs": [],
   "source": [
    "prova = emails['ExtractedBodyText'].loc[1]"
   ]
  },
  {
   "cell_type": "code",
   "execution_count": 33,
   "metadata": {
    "collapsed": false
   },
   "outputs": [
    {
     "data": {
      "text/plain": [
       "['b6',\n",
       " 'march',\n",
       " '2011',\n",
       " '9',\n",
       " '45',\n",
       " 'pm',\n",
       " 'latest',\n",
       " 'syria',\n",
       " 'aiding',\n",
       " 'qaddafi',\n",
       " 'sid',\n",
       " 'hrc',\n",
       " 'memo',\n",
       " 'syria',\n",
       " 'aiding',\n",
       " 'libya',\n",
       " '030311',\n",
       " 'docx',\n",
       " 'hrc',\n",
       " 'memo',\n",
       " 'syria',\n",
       " 'aiding',\n",
       " 'libya',\n",
       " '030311',\n",
       " 'docx',\n",
       " 'march',\n",
       " '2011',\n",
       " 'hillary']"
      ]
     },
     "execution_count": 33,
     "metadata": {},
     "output_type": "execute_result"
    }
   ],
   "source": [
    "prova"
   ]
  },
  {
   "cell_type": "code",
   "execution_count": null,
   "metadata": {
    "collapsed": true
   },
   "outputs": [],
   "source": []
  },
  {
   "cell_type": "markdown",
   "metadata": {},
   "source": [
    "## 3."
   ]
  },
  {
   "cell_type": "markdown",
   "metadata": {},
   "source": [
    "## 4. *BONUS*"
   ]
  },
  {
   "cell_type": "code",
   "execution_count": null,
   "metadata": {
    "collapsed": true
   },
   "outputs": [],
   "source": []
  }
 ],
 "metadata": {
  "anaconda-cloud": {},
  "kernelspec": {
   "display_name": "Python [Root]",
   "language": "python",
   "name": "Python [Root]"
  },
  "language_info": {
   "codemirror_mode": {
    "name": "ipython",
    "version": 3
   },
   "file_extension": ".py",
   "mimetype": "text/x-python",
   "name": "python",
   "nbconvert_exporter": "python",
   "pygments_lexer": "ipython3",
   "version": "3.5.2"
  }
 },
 "nbformat": 4,
 "nbformat_minor": 0
}
