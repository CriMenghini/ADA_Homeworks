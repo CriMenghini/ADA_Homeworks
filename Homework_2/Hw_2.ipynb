{
 "cells": [
  {
   "cell_type": "markdown",
   "metadata": {},
   "source": [
    "## Homework 02 - Data from the Web\n",
    "\n",
    "*Remark:* whether you are interested in running all the cells (including the scraping) do that, otherwise, if you want just run the analysis, in the folder `Data_bachelor/` or `Data_master/` you find all the data used in the further analysis. For the tidiness of the notebook the functions used in the script are stored in the file `scraping_function.py`, `analysis_bachelor`."
   ]
  },
  {
   "cell_type": "code",
   "execution_count": 57,
   "metadata": {
    "collapsed": false
   },
   "outputs": [],
   "source": [
    "import scipy.stats as stats\n",
    "import matplotlib.pyplot as plt\n",
    "%matplotlib inline\n",
    "import pandas as pd\n",
    "import requests\n",
    "from bs4 import BeautifulSoup\n",
    "import time\n",
    "import glob\n",
    "from scraping_function import *\n",
    "from analysis_bachelor import *"
   ]
  },
  {
   "cell_type": "markdown",
   "metadata": {},
   "source": [
    "### Assignment 1\n",
    "\n",
    "The final goal of the task is to verify whether the difference between the number of months that girls took from the first to the sixth semester and the number of months taken by boys, in average, is statistically significant.\n",
    "\n",
    "Before accomplishing the task we need to pass through the following steps:\n",
    "\n",
    "1. Obtain all the data for the Bachelor students, starting from 2007.\n",
    "2. Keep only the students for which you have an entry for both Bachelor semestre 1 and Bachelor semestre 6.\n",
    "3. Compute how many months it took each student to go from the first to the sixth semester.\n",
    "\n",
    "\n"
   ]
  },
  {
   "cell_type": "markdown",
   "metadata": {},
   "source": [
    "#### Step 1"
   ]
  },
  {
   "cell_type": "markdown",
   "metadata": {},
   "source": [
    "The first thing we do, in order to retrieve the data of interest, is to parse the `html` source related to the `IS-Academia` web page (the one where you have to fill in the form to get the enrolled students). "
   ]
  },
  {
   "cell_type": "code",
   "execution_count": 2,
   "metadata": {
    "collapsed": true
   },
   "outputs": [],
   "source": [
    "# Request the html source for the URL\n",
    "r = requests.get('http://isa.epfl.ch/imoniteur_ISAP/!GEDPUBLICREPORTS.filter?ww_i_reportModel=133685247')\n",
    "html = r.content\n",
    "soup = BeautifulSoup(html, 'html.parser')"
   ]
  },
  {
   "cell_type": "markdown",
   "metadata": {},
   "source": [
    "With the help of *Postman* we identify the *parameters* useful to get the data. They result to be the following:\n",
    "\n",
    "* `ww_x_GPS`\n",
    "* `ww_i_reportmodel`\n",
    "* `ww_i_reportModelXsl`\n",
    "* `ww_x_UNITE_ACAD`\n",
    "* `ww_x_PERIODE_ACAD`\n",
    "* `ww_x_PERIODE_PEDAGO`\n",
    "* `ww_x_HIVERETE`"
   ]
  },
  {
   "cell_type": "markdown",
   "metadata": {},
   "source": [
    "We gather them into a dictionary of the following form:\n",
    "\n",
    "                 {'parameter_1' : {'name_1' : value_1, ..., 'name_n' : value_n},\n",
    "                  'parameter_2' : {'name_1' : value_1, ..., 'name_n' : value_n},\n",
    "                   ...........,\n",
    "                  'parameter_k' : {'name_1' : value_1, ..., 'name_n' : value_n}}\n",
    " \n",
    "Where `parameter_X` is the name the relavant parameter to retrieve, `name_X` and `value_X` are two possible expressions of the parameter (string and numerical respectively). The function to do that is `create_parameter_dict` and it's stored in the [file](Applied data analysis - ADA/scaping_function.py) aforementioned."
   ]
  },
  {
   "cell_type": "code",
   "execution_count": 3,
   "metadata": {
    "collapsed": false
   },
   "outputs": [],
   "source": [
    "# Create the dictionary of parameters\n",
    "par = [\"ww_x_UNITE_ACAD\", \"ww_x_PERIODE_ACAD\", 'ww_x_PERIODE_PEDAGO', 'ww_x_HIVERETE']\n",
    "dic_par = create_parameter_dict(par, soup)"
   ]
  },
  {
   "cell_type": "markdown",
   "metadata": {},
   "source": [
    "Thus, we choose and define the procedure to retrieve the information. After analyzing various `URLs`, with the help of *Postman*, we decide that we are going to make in total six requests, each of those consists of asking the list of the students for all the years related to a specific *pedagogic period*. The `URLs` have the following form:\n",
    "* `ww_x_GPS = -1` : in this way we gather all the data of the page\n",
    "* `ww_i_reportmodel = 133685247` : standard value of the parameter\n",
    "* `ww_i_reportModelXsl = dic_par['ww_i_reportModelXsl']['html']` : that specify the form of the data (`html`)\n",
    "* `ww_x_UNITE_ACAD = dic_par['ww_x_UNITE_ACAD']['Informatique']` : the value that corresponds to the students of Informatique\n",
    "* `ww_x_PERIODE_PEDAGO: dic_par['ww_x_PERIODE_PEDAGO'][semester]` : the code relative to a specific semester\n",
    "We don't specify anything about the season and the year beacause we decide to retrive everything related to a particular semester."
   ]
  },
  {
   "cell_type": "code",
   "execution_count": 4,
   "metadata": {
    "collapsed": false
   },
   "outputs": [],
   "source": [
    "# Create the list of the URLs we are making the request to\n",
    "urls = []\n",
    "\n",
    "# For each possible semester, \n",
    "for semester in dic_par['ww_x_PERIODE_PEDAGO']:\n",
    "    # Except for those known as semester 5b and 6b that DON'T contain data\n",
    "    if semester.startswith('Bachelor') and semester[-1] != 'b':  \n",
    "        # We define the link to append to our list\n",
    "        url_data = 'http://isa.epfl.ch/imoniteur_ISAP/!GEDPUBLICREPORTS.html?ww_x_GPS=-1&ww_i_reportModel=133685247&ww_i_reportModelXsl=' + dic_par['ww_i_reportModelXsl']['html'] + '&ww_x_UNITE_ACAD=' + dic_par['ww_x_UNITE_ACAD']['Informatique'] + '&ww_x_PERIODE_PEDAGO=' + dic_par['ww_x_PERIODE_PEDAGO'][semester]\n",
    "        urls.append(url_data)"
   ]
  },
  {
   "cell_type": "markdown",
   "metadata": {},
   "source": [
    "Once the list of links is ready, we proceed retrieving data. To do that we are going to use a function `retrieve_data` which does the following:\n",
    "- The gathered `html` source code is transformed in a `DataFrame`. \n",
    "Since the `html` contains more than one table..\n",
    "- We are going to split the frame (using the function `fun_rec`) \n",
    "Below an image which tries to explain the procedure used to split the big `DataFrame`."
   ]
  },
  {
   "cell_type": "code",
   "execution_count": 5,
   "metadata": {
    "collapsed": false
   },
   "outputs": [
    {
     "data": {
      "text/html": [
       "\n",
       "        <iframe\n",
       "            width=\"980\"\n",
       "            height=\"500\"\n",
       "            src=\"disegno_pdf.pdf\"\n",
       "            frameborder=\"0\"\n",
       "            allowfullscreen\n",
       "        ></iframe>\n",
       "        "
      ],
      "text/plain": [
       "<IPython.lib.display.IFrame at 0xb5044f4dd8>"
      ]
     },
     "execution_count": 5,
     "metadata": {},
     "output_type": "execute_result"
    }
   ],
   "source": [
    "from IPython.display import IFrame\n",
    "IFrame('disegno_pdf.pdf', width=980, height=500)"
   ]
  },
  {
   "cell_type": "markdown",
   "metadata": {},
   "source": [
    "- We clean the data using the `clean_df` function, in this step we keep the data of the years of interest \n",
    "- And finally save the cleaned `DFs` in `.csv` files (using the `save_data` function)"
   ]
  },
  {
   "cell_type": "code",
   "execution_count": 6,
   "metadata": {
    "collapsed": false
   },
   "outputs": [],
   "source": [
    "import os\n",
    "\n",
    "try:\n",
    "    os.mkdir('Data_bachelor', 777)\n",
    "    k = 0\n",
    "    for ur in urls:\n",
    "        k += 1\n",
    "        print ( k, ' request sent.')\n",
    "        save_data(ur, 'Data_bachelor/')\n",
    "        print ('Data collected from the ', k, ' request.')\n",
    "        print ('*****'*10)\n",
    "    print('Done')\n",
    "except:\n",
    "    pass # Data is already fetched"
   ]
  },
  {
   "cell_type": "markdown",
   "metadata": {},
   "source": [
    "#### Step 2\n",
    "Now that we have all the data stored, we import and start to analyze them!\n",
    "\n",
    "We read the `.csv` fies as `DataFrame`, thus we concatenate them on the axis 0. It's done by the `import_data` function."
   ]
  },
  {
   "cell_type": "code",
   "execution_count": 7,
   "metadata": {
    "collapsed": false
   },
   "outputs": [],
   "source": [
    "data = import_data('Data_bachelor/')"
   ]
  },
  {
   "cell_type": "markdown",
   "metadata": {},
   "source": [
    "Hence, we proceed accomplishing the task of this step, in fact we filter the df according to the required criteria. In particulare we `groupby` the frame according to the *Sciper number* that is unique for each enrolled student. Then we keep only the students (group) that have in the domain *Pedagogic period* at least one *Semester 1 & Semester 6*. A more technical procedure is explained inside the function `extract_students`."
   ]
  },
  {
   "cell_type": "code",
   "execution_count": 8,
   "metadata": {
    "collapsed": false
   },
   "outputs": [],
   "source": [
    "df_students = extract_students(data)"
   ]
  },
  {
   "cell_type": "code",
   "execution_count": 9,
   "metadata": {
    "collapsed": false
   },
   "outputs": [
    {
     "data": {
      "text/html": [
       "<div>\n",
       "<table border=\"1\" class=\"dataframe\">\n",
       "  <thead>\n",
       "    <tr style=\"text-align: right;\">\n",
       "      <th></th>\n",
       "      <th>Civilité</th>\n",
       "      <th>Nom Prénom</th>\n",
       "      <th>Orientation Bachelor</th>\n",
       "      <th>Orientation Master</th>\n",
       "      <th>Spécialisation</th>\n",
       "      <th>Filière opt.</th>\n",
       "      <th>Mineur</th>\n",
       "      <th>Statut</th>\n",
       "      <th>Type Echange</th>\n",
       "      <th>Ecole Echange</th>\n",
       "      <th>No_Sciper</th>\n",
       "      <th>Academic year</th>\n",
       "      <th>Pedagogic period</th>\n",
       "    </tr>\n",
       "  </thead>\n",
       "  <tbody>\n",
       "    <tr>\n",
       "      <th>0</th>\n",
       "      <td>Monsieur</td>\n",
       "      <td>Arévalo Christian</td>\n",
       "      <td>NaN</td>\n",
       "      <td>NaN</td>\n",
       "      <td>NaN</td>\n",
       "      <td>NaN</td>\n",
       "      <td>NaN</td>\n",
       "      <td>Présent</td>\n",
       "      <td>NaN</td>\n",
       "      <td>NaN</td>\n",
       "      <td>169569</td>\n",
       "      <td>2007-2008</td>\n",
       "      <td>Bachelor semestre 1</td>\n",
       "    </tr>\n",
       "    <tr>\n",
       "      <th>1</th>\n",
       "      <td>Monsieur</td>\n",
       "      <td>Aubelle Flavien</td>\n",
       "      <td>NaN</td>\n",
       "      <td>NaN</td>\n",
       "      <td>NaN</td>\n",
       "      <td>NaN</td>\n",
       "      <td>NaN</td>\n",
       "      <td>Présent</td>\n",
       "      <td>NaN</td>\n",
       "      <td>NaN</td>\n",
       "      <td>174905</td>\n",
       "      <td>2007-2008</td>\n",
       "      <td>Bachelor semestre 1</td>\n",
       "    </tr>\n",
       "    <tr>\n",
       "      <th>3</th>\n",
       "      <td>Monsieur</td>\n",
       "      <td>Baeriswyl Jonathan</td>\n",
       "      <td>NaN</td>\n",
       "      <td>NaN</td>\n",
       "      <td>NaN</td>\n",
       "      <td>NaN</td>\n",
       "      <td>NaN</td>\n",
       "      <td>Présent</td>\n",
       "      <td>NaN</td>\n",
       "      <td>NaN</td>\n",
       "      <td>179406</td>\n",
       "      <td>2007-2008</td>\n",
       "      <td>Bachelor semestre 1</td>\n",
       "    </tr>\n",
       "    <tr>\n",
       "      <th>4</th>\n",
       "      <td>Monsieur</td>\n",
       "      <td>Barroco Michael</td>\n",
       "      <td>NaN</td>\n",
       "      <td>NaN</td>\n",
       "      <td>NaN</td>\n",
       "      <td>NaN</td>\n",
       "      <td>NaN</td>\n",
       "      <td>Présent</td>\n",
       "      <td>NaN</td>\n",
       "      <td>NaN</td>\n",
       "      <td>179428</td>\n",
       "      <td>2007-2008</td>\n",
       "      <td>Bachelor semestre 1</td>\n",
       "    </tr>\n",
       "    <tr>\n",
       "      <th>7</th>\n",
       "      <td>Monsieur</td>\n",
       "      <td>Bindschaedler Vincent</td>\n",
       "      <td>NaN</td>\n",
       "      <td>NaN</td>\n",
       "      <td>NaN</td>\n",
       "      <td>NaN</td>\n",
       "      <td>NaN</td>\n",
       "      <td>Présent</td>\n",
       "      <td>NaN</td>\n",
       "      <td>NaN</td>\n",
       "      <td>179449</td>\n",
       "      <td>2007-2008</td>\n",
       "      <td>Bachelor semestre 1</td>\n",
       "    </tr>\n",
       "  </tbody>\n",
       "</table>\n",
       "</div>"
      ],
      "text/plain": [
       "   Civilité             Nom Prénom  Orientation Bachelor  Orientation Master  \\\n",
       "0  Monsieur      Arévalo Christian                   NaN                 NaN   \n",
       "1  Monsieur        Aubelle Flavien                   NaN                 NaN   \n",
       "3  Monsieur     Baeriswyl Jonathan                   NaN                 NaN   \n",
       "4  Monsieur        Barroco Michael                   NaN                 NaN   \n",
       "7  Monsieur  Bindschaedler Vincent                   NaN                 NaN   \n",
       "\n",
       "   Spécialisation Filière opt.  Mineur   Statut Type Echange Ecole Echange  \\\n",
       "0             NaN          NaN     NaN  Présent          NaN           NaN   \n",
       "1             NaN          NaN     NaN  Présent          NaN           NaN   \n",
       "3             NaN          NaN     NaN  Présent          NaN           NaN   \n",
       "4             NaN          NaN     NaN  Présent          NaN           NaN   \n",
       "7             NaN          NaN     NaN  Présent          NaN           NaN   \n",
       "\n",
       "   No_Sciper Academic year      Pedagogic period  \n",
       "0     169569     2007-2008   Bachelor semestre 1  \n",
       "1     174905     2007-2008   Bachelor semestre 1  \n",
       "3     179406     2007-2008   Bachelor semestre 1  \n",
       "4     179428     2007-2008   Bachelor semestre 1  \n",
       "7     179449     2007-2008   Bachelor semestre 1  "
      ]
     },
     "execution_count": 9,
     "metadata": {},
     "output_type": "execute_result"
    }
   ],
   "source": [
    "df_students.head()"
   ]
  },
  {
   "cell_type": "markdown",
   "metadata": {},
   "source": [
    "#### Step 3\n",
    "\n",
    "In this step we compute how many months each student spent to get from the 1st to the 6th semester. The assumptions we rely on are the following:\n",
    "- A student reach the *Semester 6* whether he doesn't have to sit again any other semester. We make this assumption because we think that the choice of the 6th semester is useful to compute the time an epfl student need to graduated at bachelor\n",
    "- Each semester lasts 6 months"
   ]
  },
  {
   "cell_type": "markdown",
   "metadata": {},
   "source": [
    "Before getting the duration of studies for each student, since we want to get their names, we check whether the name could be considered as an index. The way we do that is that the number of *names* should be equal to the number of *Scipers*."
   ]
  },
  {
   "cell_type": "code",
   "execution_count": 17,
   "metadata": {
    "collapsed": false
   },
   "outputs": [
    {
     "data": {
      "text/plain": [
       "True"
      ]
     },
     "execution_count": 17,
     "metadata": {},
     "output_type": "execute_result"
    }
   ],
   "source": [
    "len(df_students['Nom Prénom'].unique()) == len(df_students['No_Sciper'].unique())"
   ]
  },
  {
   "cell_type": "markdown",
   "metadata": {},
   "source": [
    "Thus, we `groupby` the *name* of the student and then we get the number of rows (`size`) of the group. It corresponds exactly to months needed by the student to reach the 6th semester."
   ]
  },
  {
   "cell_type": "code",
   "execution_count": 32,
   "metadata": {
    "collapsed": false
   },
   "outputs": [],
   "source": [
    "df_grouped = df_students.groupby(['Civilité' , 'Nom Prénom'])"
   ]
  },
  {
   "cell_type": "markdown",
   "metadata": {},
   "source": [
    "The number of semester which the student resulted to have been enrolled is multiplied by 6 that is the duration of a semester according to our assumption."
   ]
  },
  {
   "cell_type": "code",
   "execution_count": 40,
   "metadata": {
    "collapsed": false,
    "scrolled": true
   },
   "outputs": [],
   "source": [
    "df_male_aggregated = pd.DataFrame(df_students[df_students['Civilité'] == 'Monsieur'].groupby('Nom Prénom').size()*6)"
   ]
  },
  {
   "cell_type": "code",
   "execution_count": 54,
   "metadata": {
    "collapsed": false
   },
   "outputs": [
    {
     "data": {
      "text/html": [
       "<div>\n",
       "<table border=\"1\" class=\"dataframe\">\n",
       "  <thead>\n",
       "    <tr style=\"text-align: right;\">\n",
       "      <th></th>\n",
       "      <th>0</th>\n",
       "    </tr>\n",
       "  </thead>\n",
       "  <tbody>\n",
       "    <tr>\n",
       "      <th>count</th>\n",
       "      <td>368.000000</td>\n",
       "    </tr>\n",
       "    <tr>\n",
       "      <th>mean</th>\n",
       "      <td>42.635870</td>\n",
       "    </tr>\n",
       "    <tr>\n",
       "      <th>std</th>\n",
       "      <td>9.221348</td>\n",
       "    </tr>\n",
       "    <tr>\n",
       "      <th>min</th>\n",
       "      <td>24.000000</td>\n",
       "    </tr>\n",
       "    <tr>\n",
       "      <th>25%</th>\n",
       "      <td>36.000000</td>\n",
       "    </tr>\n",
       "    <tr>\n",
       "      <th>50%</th>\n",
       "      <td>36.000000</td>\n",
       "    </tr>\n",
       "    <tr>\n",
       "      <th>75%</th>\n",
       "      <td>48.000000</td>\n",
       "    </tr>\n",
       "    <tr>\n",
       "      <th>max</th>\n",
       "      <td>72.000000</td>\n",
       "    </tr>\n",
       "  </tbody>\n",
       "</table>\n",
       "</div>"
      ],
      "text/plain": [
       "                0\n",
       "count  368.000000\n",
       "mean    42.635870\n",
       "std      9.221348\n",
       "min     24.000000\n",
       "25%     36.000000\n",
       "50%     36.000000\n",
       "75%     48.000000\n",
       "max     72.000000"
      ]
     },
     "execution_count": 54,
     "metadata": {},
     "output_type": "execute_result"
    }
   ],
   "source": [
    "df_male_aggregated.describe()"
   ]
  },
  {
   "cell_type": "code",
   "execution_count": 49,
   "metadata": {
    "collapsed": false
   },
   "outputs": [
    {
     "data": {
      "text/plain": [
       "(array([   1.,    0.,    0.,    0.,    0.,    0.,    0.,    0.,    0.,\n",
       "           0.,    0.,    0.,  203.,    0.,    0.,    0.,    0.,    0.,\n",
       "          38.,    0.,    0.,    0.,    0.,    0.,    0.,   67.,    0.,\n",
       "           0.,    0.,    0.,    0.,   21.,    0.,    0.,    0.,    0.,\n",
       "           0.,   22.,    0.,    0.,    0.,    0.,    0.,   10.,    0.,\n",
       "           0.,    0.,    0.,    0.,    6.]),\n",
       " array([ 24.  ,  24.96,  25.92,  26.88,  27.84,  28.8 ,  29.76,  30.72,\n",
       "         31.68,  32.64,  33.6 ,  34.56,  35.52,  36.48,  37.44,  38.4 ,\n",
       "         39.36,  40.32,  41.28,  42.24,  43.2 ,  44.16,  45.12,  46.08,\n",
       "         47.04,  48.  ,  48.96,  49.92,  50.88,  51.84,  52.8 ,  53.76,\n",
       "         54.72,  55.68,  56.64,  57.6 ,  58.56,  59.52,  60.48,  61.44,\n",
       "         62.4 ,  63.36,  64.32,  65.28,  66.24,  67.2 ,  68.16,  69.12,\n",
       "         70.08,  71.04,  72.  ]),\n",
       " <a list of 50 Patch objects>)"
      ]
     },
     "execution_count": 49,
     "metadata": {},
     "output_type": "execute_result"
    },
    {
     "data": {
      "image/png": "[encoded data removed]",
      "text/plain": [
       "<matplotlib.figure.Figure at 0xb5049a80f0>"
      ]
     },
     "metadata": {},
     "output_type": "display_data"
    }
   ],
   "source": [
    "plt.hist(df_male_aggregated.values, bins = 50)"
   ]
  },
  {
   "cell_type": "code",
   "execution_count": 56,
   "metadata": {
    "collapsed": false
   },
   "outputs": [
    {
     "data": {
      "text/html": [
       "<div>\n",
       "<table border=\"1\" class=\"dataframe\">\n",
       "  <thead>\n",
       "    <tr style=\"text-align: right;\">\n",
       "      <th></th>\n",
       "      <th>0</th>\n",
       "    </tr>\n",
       "  </thead>\n",
       "  <tbody>\n",
       "    <tr>\n",
       "      <th>count</th>\n",
       "      <td>352.000000</td>\n",
       "    </tr>\n",
       "    <tr>\n",
       "      <th>mean</th>\n",
       "      <td>41.471591</td>\n",
       "    </tr>\n",
       "    <tr>\n",
       "      <th>std</th>\n",
       "      <td>7.566931</td>\n",
       "    </tr>\n",
       "    <tr>\n",
       "      <th>min</th>\n",
       "      <td>24.000000</td>\n",
       "    </tr>\n",
       "    <tr>\n",
       "      <th>25%</th>\n",
       "      <td>36.000000</td>\n",
       "    </tr>\n",
       "    <tr>\n",
       "      <th>50%</th>\n",
       "      <td>36.000000</td>\n",
       "    </tr>\n",
       "    <tr>\n",
       "      <th>75%</th>\n",
       "      <td>48.000000</td>\n",
       "    </tr>\n",
       "    <tr>\n",
       "      <th>max</th>\n",
       "      <td>60.000000</td>\n",
       "    </tr>\n",
       "  </tbody>\n",
       "</table>\n",
       "</div>"
      ],
      "text/plain": [
       "                0\n",
       "count  352.000000\n",
       "mean    41.471591\n",
       "std      7.566931\n",
       "min     24.000000\n",
       "25%     36.000000\n",
       "50%     36.000000\n",
       "75%     48.000000\n",
       "max     60.000000"
      ]
     },
     "execution_count": 56,
     "metadata": {},
     "output_type": "execute_result"
    }
   ],
   "source": [
    "df_male_aggregated[df_male_aggregated[0] <= 65].describe()"
   ]
  },
  {
   "cell_type": "code",
   "execution_count": 42,
   "metadata": {
    "collapsed": false
   },
   "outputs": [],
   "source": [
    "df_female_aggregated = pd.DataFrame(df_students[df_students['Civilité'] == 'Madame'].groupby('Nom Prénom').size()*6)"
   ]
  },
  {
   "cell_type": "code",
   "execution_count": 44,
   "metadata": {
    "collapsed": false
   },
   "outputs": [
    {
     "data": {
      "text/html": [
       "<div>\n",
       "<table border=\"1\" class=\"dataframe\">\n",
       "  <thead>\n",
       "    <tr style=\"text-align: right;\">\n",
       "      <th></th>\n",
       "      <th>0</th>\n",
       "    </tr>\n",
       "  </thead>\n",
       "  <tbody>\n",
       "    <tr>\n",
       "      <th>count</th>\n",
       "      <td>29.000000</td>\n",
       "    </tr>\n",
       "    <tr>\n",
       "      <th>mean</th>\n",
       "      <td>40.758621</td>\n",
       "    </tr>\n",
       "    <tr>\n",
       "      <th>std</th>\n",
       "      <td>8.078433</td>\n",
       "    </tr>\n",
       "    <tr>\n",
       "      <th>min</th>\n",
       "      <td>36.000000</td>\n",
       "    </tr>\n",
       "    <tr>\n",
       "      <th>25%</th>\n",
       "      <td>36.000000</td>\n",
       "    </tr>\n",
       "    <tr>\n",
       "      <th>50%</th>\n",
       "      <td>36.000000</td>\n",
       "    </tr>\n",
       "    <tr>\n",
       "      <th>75%</th>\n",
       "      <td>48.000000</td>\n",
       "    </tr>\n",
       "    <tr>\n",
       "      <th>max</th>\n",
       "      <td>66.000000</td>\n",
       "    </tr>\n",
       "  </tbody>\n",
       "</table>\n",
       "</div>"
      ],
      "text/plain": [
       "               0\n",
       "count  29.000000\n",
       "mean   40.758621\n",
       "std     8.078433\n",
       "min    36.000000\n",
       "25%    36.000000\n",
       "50%    36.000000\n",
       "75%    48.000000\n",
       "max    66.000000"
      ]
     },
     "execution_count": 44,
     "metadata": {},
     "output_type": "execute_result"
    }
   ],
   "source": [
    "df_female_aggregated.describe()"
   ]
  },
  {
   "cell_type": "code",
   "execution_count": 51,
   "metadata": {
    "collapsed": false
   },
   "outputs": [
    {
     "data": {
      "text/plain": [
       "(array([ 20.,   0.,   0.,   0.,   0.,   0.,   0.,   0.,   0.,   0.,   1.,\n",
       "          0.,   0.,   0.,   0.,   0.,   0.,   0.,   0.,   0.,   4.,   0.,\n",
       "          0.,   0.,   0.,   0.,   0.,   0.,   0.,   0.,   3.,   0.,   0.,\n",
       "          0.,   0.,   0.,   0.,   0.,   0.,   0.,   0.,   0.,   0.,   0.,\n",
       "          0.,   0.,   0.,   0.,   0.,   1.]),\n",
       " array([ 36. ,  36.6,  37.2,  37.8,  38.4,  39. ,  39.6,  40.2,  40.8,\n",
       "         41.4,  42. ,  42.6,  43.2,  43.8,  44.4,  45. ,  45.6,  46.2,\n",
       "         46.8,  47.4,  48. ,  48.6,  49.2,  49.8,  50.4,  51. ,  51.6,\n",
       "         52.2,  52.8,  53.4,  54. ,  54.6,  55.2,  55.8,  56.4,  57. ,\n",
       "         57.6,  58.2,  58.8,  59.4,  60. ,  60.6,  61.2,  61.8,  62.4,\n",
       "         63. ,  63.6,  64.2,  64.8,  65.4,  66. ]),\n",
       " <a list of 50 Patch objects>)"
      ]
     },
     "execution_count": 51,
     "metadata": {},
     "output_type": "execute_result"
    },
    {
     "data": {
      "image/png": "[encoded data removed]",
      "text/plain": [
       "<matplotlib.figure.Figure at 0xb506829cf8>"
      ]
     },
     "metadata": {},
     "output_type": "display_data"
    }
   ],
   "source": [
    "plt.hist(df_female_aggregated.values, bins = 50)"
   ]
  },
  {
   "cell_type": "code",
   "execution_count": 58,
   "metadata": {
    "collapsed": false
   },
   "outputs": [
    {
     "data": {
      "text/plain": [
       "Ttest_indResult(statistic=array([ 1.1917057]), pvalue=array([ 0.24162457]))"
      ]
     },
     "execution_count": 58,
     "metadata": {},
     "output_type": "execute_result"
    }
   ],
   "source": [
    "stats.ttest_ind(df_male_aggregated, df_female_aggregated, equal_var=False)"
   ]
  },
  {
   "cell_type": "code",
   "execution_count": null,
   "metadata": {
    "collapsed": true
   },
   "outputs": [],
   "source": []
  }
 ],
 "metadata": {
  "anaconda-cloud": {},
  "kernelspec": {
   "display_name": "Python [Root]",
   "language": "python",
   "name": "Python [Root]"
  },
  "language_info": {
   "codemirror_mode": {
    "name": "ipython",
    "version": 3
   },
   "file_extension": ".py",
   "mimetype": "text/x-python",
   "name": "python",
   "nbconvert_exporter": "python",
   "pygments_lexer": "ipython3",
   "version": "3.5.2"
  }
 },
 "nbformat": 4,
 "nbformat_minor": 0
}
