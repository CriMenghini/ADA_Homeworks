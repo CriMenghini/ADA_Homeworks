{
 "cells": [
  {
   "cell_type": "markdown",
   "metadata": {},
   "source": [
    "## Homework 02 - Data from the Web\n",
    "\n",
    "*Remark:* whether you are interested in running all the cells (including the scraping) do that, otherwise, if you want just run the analysis, in the folder `Data_bachelor/` or `Data_master/` you find all the data used in the further analysis. For the tidiness of the notebook the functions used in the script are stored in the file `scraping_function.py`, `analysis_bachelor`."
   ]
  },
  {
   "cell_type": "code",
   "execution_count": 80,
   "metadata": {
    "collapsed": false
   },
   "outputs": [],
   "source": [
    "import scipy.stats as stats\n",
    "import matplotlib.pyplot as plt\n",
    "%matplotlib inline\n",
    "import pandas as pd\n",
    "import requests\n",
    "from bs4 import BeautifulSoup\n",
    "import time\n",
    "import glob\n",
    "from scraping_function import *\n",
    "from analysis_bachelor import *\n",
    "import os\n",
    "import collections"
   ]
  },
  {
   "cell_type": "markdown",
   "metadata": {},
   "source": [
    "### Assignment 1\n",
    "\n",
    "The final goal of the task is to verify whether the difference between the number of months that girls took from the first to the sixth semester and the number of months taken by boys, in average, is statistically significant.\n",
    "\n",
    "Before accomplishing the task we need to pass through the following steps:\n",
    "\n",
    "1. Obtain all the data for the Bachelor students, starting from 2007.\n",
    "2. Keep only the students for which you have an entry for both Bachelor semestre 1 and Bachelor semestre 6.\n",
    "3. Compute how many months it took each student to go from the first to the sixth semester.\n",
    "\n",
    "\n"
   ]
  },
  {
   "cell_type": "markdown",
   "metadata": {},
   "source": [
    "#### Step 1"
   ]
  },
  {
   "cell_type": "markdown",
   "metadata": {},
   "source": [
    "The first thing we do, in order to retrieve the data of interest, is to parse the `html` source related to the `IS-Academia` web page (the one where you have to fill in the form to get the enrolled students). "
   ]
  },
  {
   "cell_type": "code",
   "execution_count": 25,
   "metadata": {
    "collapsed": true
   },
   "outputs": [],
   "source": [
    "# Request the html source for the URL\n",
    "r = requests.get('http://isa.epfl.ch/imoniteur_ISAP/!GEDPUBLICREPORTS.filter?ww_i_reportModel=133685247')\n",
    "html = r.content\n",
    "soup = BeautifulSoup(html, 'html.parser')"
   ]
  },
  {
   "cell_type": "markdown",
   "metadata": {},
   "source": [
    "With the help of *Postman* we identify the *parameters* useful to get the data. They result to be the following:\n",
    "\n",
    "* `ww_x_GPS`\n",
    "* `ww_i_reportmodel`\n",
    "* `ww_i_reportModelXsl`\n",
    "* `ww_x_UNITE_ACAD`\n",
    "* `ww_x_PERIODE_ACAD`\n",
    "* `ww_x_PERIODE_PEDAGO`\n",
    "* `ww_x_HIVERETE`"
   ]
  },
  {
   "cell_type": "markdown",
   "metadata": {},
   "source": [
    "We gather them into a dictionary of the following form:\n",
    "\n",
    "                 {'parameter_1' : {'name_1' : value_1, ..., 'name_n' : value_n},\n",
    "                  'parameter_2' : {'name_1' : value_1, ..., 'name_n' : value_n},\n",
    "                   ...........,\n",
    "                  'parameter_k' : {'name_1' : value_1, ..., 'name_n' : value_n}}\n",
    " \n",
    "Where `parameter_X` is the name the relavant parameter to retrieve, `name_X` and `value_X` are two possible expressions of the parameter (string and numerical respectively). The function to do that is `create_parameter_dict` and it's stored in the [file](Applied data analysis - ADA/scaping_function.py) aforementioned."
   ]
  },
  {
   "cell_type": "code",
   "execution_count": 26,
   "metadata": {
    "collapsed": false
   },
   "outputs": [],
   "source": [
    "# Create the dictionary of parameters\n",
    "par = [\"ww_x_UNITE_ACAD\", \"ww_x_PERIODE_ACAD\", 'ww_x_PERIODE_PEDAGO', 'ww_x_HIVERETE']\n",
    "dic_par = create_parameter_dict(par, soup)"
   ]
  },
  {
   "cell_type": "markdown",
   "metadata": {},
   "source": [
    "Thus, we choose and define the procedure to retrieve the information. After analyzing various `URLs`, with the help of *Postman*, we decide that we are going to make in total six requests, each of those consists of asking the list of the students for all the years related to a specific *pedagogic period*. The `URLs` have the following form:\n",
    "* `ww_x_GPS = -1` : in this way we gather all the data of the page\n",
    "* `ww_i_reportmodel = 133685247` : standard value of the parameter\n",
    "* `ww_i_reportModelXsl = dic_par['ww_i_reportModelXsl']['html']` : that specify the form of the data (`html`)\n",
    "* `ww_x_UNITE_ACAD = dic_par['ww_x_UNITE_ACAD']['Informatique']` : the value that corresponds to the students of Informatique\n",
    "* `ww_x_PERIODE_PEDAGO: dic_par['ww_x_PERIODE_PEDAGO'][semester]` : the code relative to a specific semester\n",
    "We don't specify anything about the season and the year beacause we decide to retrive everything related to a particular semester."
   ]
  },
  {
   "cell_type": "code",
   "execution_count": 27,
   "metadata": {
    "collapsed": false
   },
   "outputs": [],
   "source": [
    "# Create the list of the URLs we are making the request to\n",
    "urls = []\n",
    "\n",
    "# For each possible semester, \n",
    "for semester in dic_par['ww_x_PERIODE_PEDAGO']:\n",
    "    # Except for those known as semester 5b and 6b that DON'T contain data\n",
    "    if semester.startswith('Bachelor') and semester[-1] != 'b':  \n",
    "        # We define the link to append to our list\n",
    "        url_data = 'http://isa.epfl.ch/imoniteur_ISAP/!GEDPUBLICREPORTS.html?ww_x_GPS=-1&ww_i_reportModel=133685247&ww_i_reportModelXsl=' + dic_par['ww_i_reportModelXsl']['html'] + '&ww_x_UNITE_ACAD=' + dic_par['ww_x_UNITE_ACAD']['Informatique'] + '&ww_x_PERIODE_PEDAGO=' + dic_par['ww_x_PERIODE_PEDAGO'][semester]\n",
    "        urls.append(url_data)"
   ]
  },
  {
   "cell_type": "markdown",
   "metadata": {},
   "source": [
    "Once the list of links is ready, we proceed retrieving data. To do that we are going to use a function `retrieve_data` which does the following:\n",
    "- The gathered `html` source code is transformed in a `DataFrame`. \n",
    "Since the `html` contains more than one table..\n",
    "- We are going to split the frame (using the function `fun_rec`) \n",
    "Below an image which tries to explain the procedure used to split the big `DataFrame`."
   ]
  },
  {
   "cell_type": "code",
   "execution_count": 28,
   "metadata": {
    "collapsed": false
   },
   "outputs": [
    {
     "data": {
      "text/html": [
       "\n",
       "        <iframe\n",
       "            width=\"980\"\n",
       "            height=\"500\"\n",
       "            src=\"disegno_pdf.pdf\"\n",
       "            frameborder=\"0\"\n",
       "            allowfullscreen\n",
       "        ></iframe>\n",
       "        "
      ],
      "text/plain": [
       "<IPython.lib.display.IFrame at 0x117a2e6d8>"
      ]
     },
     "execution_count": 28,
     "metadata": {},
     "output_type": "execute_result"
    }
   ],
   "source": [
    "from IPython.display import IFrame\n",
    "IFrame('disegno_pdf.pdf', width=980, height=500)"
   ]
  },
  {
   "cell_type": "markdown",
   "metadata": {},
   "source": [
    "- We clean the data using the `clean_df` function, in this step we keep the data of the years of interest \n",
    "- And finally save the cleaned `DFs` in `.csv` files (using the `save_data` function)\n",
    "- The file Data_bachelor is emptied and the csv files are loaded each time we execute the cell, this was done for modularity and flexibility reasons, in order for example to further select the year, or the pedagogic period.\n",
    "- An Important note here is that we do not take in account the ongoing academic year (2016-2017) for the simple reason that we cannot know if a student will really finish the year."
   ]
  },
  {
   "cell_type": "code",
   "execution_count": 29,
   "metadata": {
    "collapsed": false
   },
   "outputs": [
    {
     "name": "stdout",
     "output_type": "stream",
     "text": [
      "1  request sent.\n",
      "Data collected from the  1  request.\n",
      "**************************************************\n",
      "2  request sent.\n",
      "Data collected from the  2  request.\n",
      "**************************************************\n",
      "3  request sent.\n",
      "Data collected from the  3  request.\n",
      "**************************************************\n",
      "4  request sent.\n",
      "Data collected from the  4  request.\n",
      "**************************************************\n",
      "5  request sent.\n",
      "Data collected from the  5  request.\n",
      "**************************************************\n",
      "6  request sent.\n",
      "Data collected from the  6  request.\n",
      "**************************************************\n",
      "Done\n"
     ]
    }
   ],
   "source": [
    "### TODO Pawel: wrap it in a function\n",
    "\n",
    "# Creating an empty directory if it doesn't exist\n",
    "try:\n",
    "    os.mkdir('Data_bachelor')\n",
    "except:\n",
    "    pass\n",
    "\n",
    "# Changing the permissions in order to avoid problems\n",
    "os.chmod('Data_bachelor', 0o777)\n",
    "\n",
    "# Remove old files from this directory\n",
    "files = glob.glob('Data_bachelor/*')\n",
    "for f in files:\n",
    "    os.remove(f)\n",
    "\n",
    "# Downloading the data into the 'Data_bachelor' directory\n",
    "k = 0\n",
    "for ur in urls:\n",
    "    k += 1\n",
    "    print ( k, ' request sent.')\n",
    "    save_data(ur, 'Data_bachelor/') # funtion defined in separate file\n",
    "    print ('Data collected from the ', k, ' request.')\n",
    "    print ('*****'*10)\n",
    "print('Done')"
   ]
  },
  {
   "cell_type": "markdown",
   "metadata": {},
   "source": [
    "#### Step 2\n",
    "Now that we have all the data stored, we import and start to analyze them!\n",
    "\n",
    "We read the `.csv` fies as `DataFrame`, thus we concatenate them on the axis 0. It's done by the `import_data` function."
   ]
  },
  {
   "cell_type": "code",
   "execution_count": 30,
   "metadata": {
    "collapsed": false
   },
   "outputs": [],
   "source": [
    "data = import_data('Data_bachelor/')"
   ]
  },
  {
   "cell_type": "markdown",
   "metadata": {},
   "source": [
    "Hence, we proceed accomplishing the task of this step, in fact we filter the df according to the required criteria. In particular we `groupby` the frame according to the *Sciper number* that is unique for each enrolled student. Then we keep only the students (group) that have in the domain *Pedagogic period* at least one *Semester 1 & Semester 6*. A more technical procedure is explained inside the function `extract_students` found in the library provided with the notebook."
   ]
  },
  {
   "cell_type": "code",
   "execution_count": 31,
   "metadata": {
    "collapsed": false
   },
   "outputs": [],
   "source": [
    "df_students = extract_students(data)"
   ]
  },
  {
   "cell_type": "code",
   "execution_count": 32,
   "metadata": {
    "collapsed": false
   },
   "outputs": [
    {
     "data": {
      "text/html": [
       "<div>\n",
       "<table border=\"1\" class=\"dataframe\">\n",
       "  <thead>\n",
       "    <tr style=\"text-align: right;\">\n",
       "      <th></th>\n",
       "      <th>Civilité</th>\n",
       "      <th>Nom Prénom</th>\n",
       "      <th>Orientation Bachelor</th>\n",
       "      <th>Orientation Master</th>\n",
       "      <th>Spécialisation</th>\n",
       "      <th>Filière opt.</th>\n",
       "      <th>Mineur</th>\n",
       "      <th>Statut</th>\n",
       "      <th>Type Echange</th>\n",
       "      <th>Ecole Echange</th>\n",
       "      <th>No_Sciper</th>\n",
       "      <th>Academic year</th>\n",
       "      <th>Pedagogic period</th>\n",
       "    </tr>\n",
       "  </thead>\n",
       "  <tbody>\n",
       "    <tr>\n",
       "      <th>0</th>\n",
       "      <td>Monsieur</td>\n",
       "      <td>Arévalo Christian</td>\n",
       "      <td>NaN</td>\n",
       "      <td>NaN</td>\n",
       "      <td>NaN</td>\n",
       "      <td>NaN</td>\n",
       "      <td>NaN</td>\n",
       "      <td>Présent</td>\n",
       "      <td>NaN</td>\n",
       "      <td>NaN</td>\n",
       "      <td>169569</td>\n",
       "      <td>2007-2008</td>\n",
       "      <td>Bachelor semestre 1</td>\n",
       "    </tr>\n",
       "    <tr>\n",
       "      <th>1</th>\n",
       "      <td>Monsieur</td>\n",
       "      <td>Aubelle Flavien</td>\n",
       "      <td>NaN</td>\n",
       "      <td>NaN</td>\n",
       "      <td>NaN</td>\n",
       "      <td>NaN</td>\n",
       "      <td>NaN</td>\n",
       "      <td>Présent</td>\n",
       "      <td>NaN</td>\n",
       "      <td>NaN</td>\n",
       "      <td>174905</td>\n",
       "      <td>2007-2008</td>\n",
       "      <td>Bachelor semestre 1</td>\n",
       "    </tr>\n",
       "    <tr>\n",
       "      <th>3</th>\n",
       "      <td>Monsieur</td>\n",
       "      <td>Baeriswyl Jonathan</td>\n",
       "      <td>NaN</td>\n",
       "      <td>NaN</td>\n",
       "      <td>NaN</td>\n",
       "      <td>NaN</td>\n",
       "      <td>NaN</td>\n",
       "      <td>Présent</td>\n",
       "      <td>NaN</td>\n",
       "      <td>NaN</td>\n",
       "      <td>179406</td>\n",
       "      <td>2007-2008</td>\n",
       "      <td>Bachelor semestre 1</td>\n",
       "    </tr>\n",
       "    <tr>\n",
       "      <th>4</th>\n",
       "      <td>Monsieur</td>\n",
       "      <td>Barroco Michael</td>\n",
       "      <td>NaN</td>\n",
       "      <td>NaN</td>\n",
       "      <td>NaN</td>\n",
       "      <td>NaN</td>\n",
       "      <td>NaN</td>\n",
       "      <td>Présent</td>\n",
       "      <td>NaN</td>\n",
       "      <td>NaN</td>\n",
       "      <td>179428</td>\n",
       "      <td>2007-2008</td>\n",
       "      <td>Bachelor semestre 1</td>\n",
       "    </tr>\n",
       "    <tr>\n",
       "      <th>7</th>\n",
       "      <td>Monsieur</td>\n",
       "      <td>Bindschaedler Vincent</td>\n",
       "      <td>NaN</td>\n",
       "      <td>NaN</td>\n",
       "      <td>NaN</td>\n",
       "      <td>NaN</td>\n",
       "      <td>NaN</td>\n",
       "      <td>Présent</td>\n",
       "      <td>NaN</td>\n",
       "      <td>NaN</td>\n",
       "      <td>179449</td>\n",
       "      <td>2007-2008</td>\n",
       "      <td>Bachelor semestre 1</td>\n",
       "    </tr>\n",
       "  </tbody>\n",
       "</table>\n",
       "</div>"
      ],
      "text/plain": [
       "   Civilité             Nom Prénom  Orientation Bachelor  Orientation Master  \\\n",
       "0  Monsieur      Arévalo Christian                   NaN                 NaN   \n",
       "1  Monsieur        Aubelle Flavien                   NaN                 NaN   \n",
       "3  Monsieur     Baeriswyl Jonathan                   NaN                 NaN   \n",
       "4  Monsieur        Barroco Michael                   NaN                 NaN   \n",
       "7  Monsieur  Bindschaedler Vincent                   NaN                 NaN   \n",
       "\n",
       "   Spécialisation Filière opt.  Mineur   Statut Type Echange Ecole Echange  \\\n",
       "0             NaN          NaN     NaN  Présent          NaN           NaN   \n",
       "1             NaN          NaN     NaN  Présent          NaN           NaN   \n",
       "3             NaN          NaN     NaN  Présent          NaN           NaN   \n",
       "4             NaN          NaN     NaN  Présent          NaN           NaN   \n",
       "7             NaN          NaN     NaN  Présent          NaN           NaN   \n",
       "\n",
       "   No_Sciper Academic year      Pedagogic period  \n",
       "0     169569     2007-2008   Bachelor semestre 1  \n",
       "1     174905     2007-2008   Bachelor semestre 1  \n",
       "3     179406     2007-2008   Bachelor semestre 1  \n",
       "4     179428     2007-2008   Bachelor semestre 1  \n",
       "7     179449     2007-2008   Bachelor semestre 1  "
      ]
     },
     "execution_count": 32,
     "metadata": {},
     "output_type": "execute_result"
    }
   ],
   "source": [
    "df_students.head()"
   ]
  },
  {
   "cell_type": "markdown",
   "metadata": {},
   "source": [
    "#### Step 3\n",
    "\n",
    "In this step we compute how many months each student spent to get from the 1st to the 6th semester. The assumptions we rely on are the following:\n",
    "- A student reach the *Semester 6* whether he doesn't have to sit again any other semester. We make this assumption because we think that the choice of the 6th semester is useful to compute the time an epfl student need to graduated at bachelor\n",
    "- Each semester lasts 6 months"
   ]
  },
  {
   "cell_type": "markdown",
   "metadata": {},
   "source": [
    "Before getting the duration of studies for each student, since we want to get their names, we check whether the name could be considered as an index. The way we do that is that the number of *names* should be equal to the number of *Scipers*."
   ]
  },
  {
   "cell_type": "code",
   "execution_count": 33,
   "metadata": {
    "collapsed": false
   },
   "outputs": [
    {
     "data": {
      "text/plain": [
       "True"
      ]
     },
     "execution_count": 33,
     "metadata": {},
     "output_type": "execute_result"
    }
   ],
   "source": [
    "len(df_students['Nom Prénom'].unique()) == len(df_students['No_Sciper'].unique())"
   ]
  },
  {
   "cell_type": "markdown",
   "metadata": {},
   "source": [
    "First, we're going to extract the male features. Thus, we `select` the *Civilité* to be *Monsieur* (male) and then `groupby` *Nom Prénom* which is an index, the last operation we operate is an aggregate function `size()*6` in order to get the number of pedagogic period attached to a person and multiply it by 6 in order to get the correspondant time duration in months to get from the first to the sixth semester."
   ]
  },
  {
   "cell_type": "code",
   "execution_count": 35,
   "metadata": {
    "collapsed": false,
    "scrolled": true
   },
   "outputs": [],
   "source": [
    "df_male_aggregated = pd.DataFrame(df_students[df_students['Civilité'] == 'Monsieur'].groupby('Nom Prénom').size()*6)"
   ]
  },
  {
   "cell_type": "markdown",
   "metadata": {},
   "source": [
    "We print some aggregated information to get a feeling of the data that may be useful later, and especially for choosing the right statistical test."
   ]
  },
  {
   "cell_type": "code",
   "execution_count": 36,
   "metadata": {
    "collapsed": false
   },
   "outputs": [
    {
     "data": {
      "text/html": [
       "<div>\n",
       "<table border=\"1\" class=\"dataframe\">\n",
       "  <thead>\n",
       "    <tr style=\"text-align: right;\">\n",
       "      <th></th>\n",
       "      <th>0</th>\n",
       "    </tr>\n",
       "  </thead>\n",
       "  <tbody>\n",
       "    <tr>\n",
       "      <th>count</th>\n",
       "      <td>347.000000</td>\n",
       "    </tr>\n",
       "    <tr>\n",
       "      <th>mean</th>\n",
       "      <td>42.622478</td>\n",
       "    </tr>\n",
       "    <tr>\n",
       "      <th>std</th>\n",
       "      <td>9.044774</td>\n",
       "    </tr>\n",
       "    <tr>\n",
       "      <th>min</th>\n",
       "      <td>24.000000</td>\n",
       "    </tr>\n",
       "    <tr>\n",
       "      <th>25%</th>\n",
       "      <td>36.000000</td>\n",
       "    </tr>\n",
       "    <tr>\n",
       "      <th>50%</th>\n",
       "      <td>36.000000</td>\n",
       "    </tr>\n",
       "    <tr>\n",
       "      <th>75%</th>\n",
       "      <td>48.000000</td>\n",
       "    </tr>\n",
       "    <tr>\n",
       "      <th>max</th>\n",
       "      <td>72.000000</td>\n",
       "    </tr>\n",
       "  </tbody>\n",
       "</table>\n",
       "</div>"
      ],
      "text/plain": [
       "                0\n",
       "count  347.000000\n",
       "mean    42.622478\n",
       "std      9.044774\n",
       "min     24.000000\n",
       "25%     36.000000\n",
       "50%     36.000000\n",
       "75%     48.000000\n",
       "max     72.000000"
      ]
     },
     "execution_count": 36,
     "metadata": {},
     "output_type": "execute_result"
    }
   ],
   "source": [
    "df_male_aggregated.describe()"
   ]
  },
  {
   "cell_type": "markdown",
   "metadata": {},
   "source": [
    "Ploting the data so we can apprehend what would be the distribution and to get better understanding of the data such as uncovering the presence of outliers etc..."
   ]
  },
  {
   "cell_type": "code",
   "execution_count": 37,
   "metadata": {
    "collapsed": false
   },
   "outputs": [
    {
     "data": {
      "text/plain": [
       "(array([   1.,    0.,    0.,    0.,    0.,    0.,    0.,    0.,    0.,\n",
       "           0.,    0.,    0.,  192.,    0.,    0.,    0.,    0.,    0.,\n",
       "          28.,    0.,    0.,    0.,    0.,    0.,    0.,   74.,    0.,\n",
       "           0.,    0.,    0.,    0.,   14.,    0.,    0.,    0.,    0.,\n",
       "           0.,   29.,    0.,    0.,    0.,    0.,    0.,    3.,    0.,\n",
       "           0.,    0.,    0.,    0.,    6.]),\n",
       " array([ 24.  ,  24.96,  25.92,  26.88,  27.84,  28.8 ,  29.76,  30.72,\n",
       "         31.68,  32.64,  33.6 ,  34.56,  35.52,  36.48,  37.44,  38.4 ,\n",
       "         39.36,  40.32,  41.28,  42.24,  43.2 ,  44.16,  45.12,  46.08,\n",
       "         47.04,  48.  ,  48.96,  49.92,  50.88,  51.84,  52.8 ,  53.76,\n",
       "         54.72,  55.68,  56.64,  57.6 ,  58.56,  59.52,  60.48,  61.44,\n",
       "         62.4 ,  63.36,  64.32,  65.28,  66.24,  67.2 ,  68.16,  69.12,\n",
       "         70.08,  71.04,  72.  ]),\n",
       " <a list of 50 Patch objects>)"
      ]
     },
     "execution_count": 37,
     "metadata": {},
     "output_type": "execute_result"
    },
    {
     "data": {
      "image/png": "[encoded data removed]",
      "text/plain": [
       "<matplotlib.figure.Figure at 0x1191c4668>"
      ]
     },
     "metadata": {},
     "output_type": "display_data"
    }
   ],
   "source": [
    "plt.hist(df_male_aggregated.values, bins = 50)"
   ]
  },
  {
   "cell_type": "markdown",
   "metadata": {},
   "source": [
    "We try to suppress outliers and look at the results."
   ]
  },
  {
   "cell_type": "code",
   "execution_count": 38,
   "metadata": {
    "collapsed": false
   },
   "outputs": [
    {
     "data": {
      "text/html": [
       "<div>\n",
       "<table border=\"1\" class=\"dataframe\">\n",
       "  <thead>\n",
       "    <tr style=\"text-align: right;\">\n",
       "      <th></th>\n",
       "      <th>0</th>\n",
       "    </tr>\n",
       "  </thead>\n",
       "  <tbody>\n",
       "    <tr>\n",
       "      <th>count</th>\n",
       "      <td>338.000000</td>\n",
       "    </tr>\n",
       "    <tr>\n",
       "      <th>mean</th>\n",
       "      <td>41.893491</td>\n",
       "    </tr>\n",
       "    <tr>\n",
       "      <th>std</th>\n",
       "      <td>7.951665</td>\n",
       "    </tr>\n",
       "    <tr>\n",
       "      <th>min</th>\n",
       "      <td>24.000000</td>\n",
       "    </tr>\n",
       "    <tr>\n",
       "      <th>25%</th>\n",
       "      <td>36.000000</td>\n",
       "    </tr>\n",
       "    <tr>\n",
       "      <th>50%</th>\n",
       "      <td>36.000000</td>\n",
       "    </tr>\n",
       "    <tr>\n",
       "      <th>75%</th>\n",
       "      <td>48.000000</td>\n",
       "    </tr>\n",
       "    <tr>\n",
       "      <th>max</th>\n",
       "      <td>60.000000</td>\n",
       "    </tr>\n",
       "  </tbody>\n",
       "</table>\n",
       "</div>"
      ],
      "text/plain": [
       "                0\n",
       "count  338.000000\n",
       "mean    41.893491\n",
       "std      7.951665\n",
       "min     24.000000\n",
       "25%     36.000000\n",
       "50%     36.000000\n",
       "75%     48.000000\n",
       "max     60.000000"
      ]
     },
     "execution_count": 38,
     "metadata": {},
     "output_type": "execute_result"
    }
   ],
   "source": [
    "df_male_aggregated[df_male_aggregated[0] <= 65].describe()"
   ]
  },
  {
   "cell_type": "markdown",
   "metadata": {},
   "source": [
    "We perform the exact same operations for female students."
   ]
  },
  {
   "cell_type": "code",
   "execution_count": 39,
   "metadata": {
    "collapsed": false
   },
   "outputs": [],
   "source": [
    "df_female_aggregated = pd.DataFrame(df_students[df_students['Civilité'] == 'Madame'].groupby('Nom Prénom').size()*6)"
   ]
  },
  {
   "cell_type": "code",
   "execution_count": 40,
   "metadata": {
    "collapsed": false
   },
   "outputs": [
    {
     "data": {
      "text/html": [
       "<div>\n",
       "<table border=\"1\" class=\"dataframe\">\n",
       "  <thead>\n",
       "    <tr style=\"text-align: right;\">\n",
       "      <th></th>\n",
       "      <th>0</th>\n",
       "    </tr>\n",
       "  </thead>\n",
       "  <tbody>\n",
       "    <tr>\n",
       "      <th>count</th>\n",
       "      <td>28.000000</td>\n",
       "    </tr>\n",
       "    <tr>\n",
       "      <th>mean</th>\n",
       "      <td>39.857143</td>\n",
       "    </tr>\n",
       "    <tr>\n",
       "      <th>std</th>\n",
       "      <td>6.775305</td>\n",
       "    </tr>\n",
       "    <tr>\n",
       "      <th>min</th>\n",
       "      <td>36.000000</td>\n",
       "    </tr>\n",
       "    <tr>\n",
       "      <th>25%</th>\n",
       "      <td>36.000000</td>\n",
       "    </tr>\n",
       "    <tr>\n",
       "      <th>50%</th>\n",
       "      <td>36.000000</td>\n",
       "    </tr>\n",
       "    <tr>\n",
       "      <th>75%</th>\n",
       "      <td>43.500000</td>\n",
       "    </tr>\n",
       "    <tr>\n",
       "      <th>max</th>\n",
       "      <td>60.000000</td>\n",
       "    </tr>\n",
       "  </tbody>\n",
       "</table>\n",
       "</div>"
      ],
      "text/plain": [
       "               0\n",
       "count  28.000000\n",
       "mean   39.857143\n",
       "std     6.775305\n",
       "min    36.000000\n",
       "25%    36.000000\n",
       "50%    36.000000\n",
       "75%    43.500000\n",
       "max    60.000000"
      ]
     },
     "execution_count": 40,
     "metadata": {},
     "output_type": "execute_result"
    }
   ],
   "source": [
    "df_female_aggregated.describe()"
   ]
  },
  {
   "cell_type": "code",
   "execution_count": 41,
   "metadata": {
    "collapsed": false
   },
   "outputs": [
    {
     "data": {
      "text/plain": [
       "(array([ 20.,   0.,   0.,   0.,   0.,   0.,   0.,   0.,   0.,   0.,   0.,\n",
       "          0.,   1.,   0.,   0.,   0.,   0.,   0.,   0.,   0.,   0.,   0.,\n",
       "          0.,   0.,   0.,   5.,   0.,   0.,   0.,   0.,   0.,   0.,   0.,\n",
       "          0.,   0.,   0.,   0.,   1.,   0.,   0.,   0.,   0.,   0.,   0.,\n",
       "          0.,   0.,   0.,   0.,   0.,   1.]),\n",
       " array([ 36.  ,  36.48,  36.96,  37.44,  37.92,  38.4 ,  38.88,  39.36,\n",
       "         39.84,  40.32,  40.8 ,  41.28,  41.76,  42.24,  42.72,  43.2 ,\n",
       "         43.68,  44.16,  44.64,  45.12,  45.6 ,  46.08,  46.56,  47.04,\n",
       "         47.52,  48.  ,  48.48,  48.96,  49.44,  49.92,  50.4 ,  50.88,\n",
       "         51.36,  51.84,  52.32,  52.8 ,  53.28,  53.76,  54.24,  54.72,\n",
       "         55.2 ,  55.68,  56.16,  56.64,  57.12,  57.6 ,  58.08,  58.56,\n",
       "         59.04,  59.52,  60.  ]),\n",
       " <a list of 50 Patch objects>)"
      ]
     },
     "execution_count": 41,
     "metadata": {},
     "output_type": "execute_result"
    },
    {
     "data": {
      "image/png": "[encoded data removed]",
      "text/plain": [
       "<matplotlib.figure.Figure at 0x118e04dd8>"
      ]
     },
     "metadata": {},
     "output_type": "display_data"
    }
   ],
   "source": [
    "plt.hist(df_female_aggregated.values, bins = 50)"
   ]
  },
  {
   "cell_type": "markdown",
   "metadata": {},
   "source": [
    "Based on our observations of the data, we choose a standard t-test  @TODO EXPLAIN MORE"
   ]
  },
  {
   "cell_type": "code",
   "execution_count": 42,
   "metadata": {
    "collapsed": false
   },
   "outputs": [
    {
     "data": {
      "text/plain": [
       "Ttest_indResult(statistic=array([ 2.01940056]), pvalue=array([ 0.05109616]))"
      ]
     },
     "execution_count": 42,
     "metadata": {},
     "output_type": "execute_result"
    }
   ],
   "source": [
    "stats.ttest_ind(df_male_aggregated, df_female_aggregated, equal_var=False)"
   ]
  },
  {
   "cell_type": "markdown",
   "metadata": {
    "collapsed": true
   },
   "source": [
    "### Master"
   ]
  },
  {
   "cell_type": "markdown",
   "metadata": {},
   "source": [
    "For the master exercise, we will use code and pipelines from the Bachelor study as we used modular and reusable code. We use the same procedure to craft urls and select the data needed, namely data with *ww_x_PERIODE_PEDAGO* having *master* included or *projet*.\n",
    "*IMPORTANT* We made strong assumptions facing the imprecise nature of the data :\n",
    "- A Master's without *Spécialisation* or *Mineur* takes two semesters.\n",
    "- A Master's with *Spécialisation* or *Mineur* takes three semesters.\n",
    "- The duration of the *Master's thesis* is not included because it's not corresponding with the *Projet Prin* or *Projet Autu*, the data being too scarse compared to the number of registered in *Master Semester X*. The thesis is mandatory and can be done at EPFL but also in the industry, for this reason, we choose not to include it in our estimation for the *stay at EPFL* duration, because for the majority of the students, the thesis will be done outside EPFL walls.\n",
    "- The *Projet* semester is considered as an optional semester project done at EPFL, its duration will be simply added to the time student spent at EPFL."
   ]
  },
  {
   "cell_type": "code",
   "execution_count": 43,
   "metadata": {
    "collapsed": true
   },
   "outputs": [],
   "source": [
    "# Create the list of the URLs we are making the request to\n",
    "urls = []\n",
    "\n",
    "# For each possible semester, \n",
    "for semester in dic_par['ww_x_PERIODE_PEDAGO']:\n",
    "    # Except for those known as semester 5b and 6b that DON'T contain data\n",
    "    if semester.startswith('Master') or semester.startswith('Projet'):  \n",
    "        # We define the link to append to our list\n",
    "        url_data = 'http://isa.epfl.ch/imoniteur_ISAP/!GEDPUBLICREPORTS.html?ww_x_GPS=-1&ww_i_reportModel=133685247&ww_i_reportModelXsl=' + dic_par['ww_i_reportModelXsl']['html'] + '&ww_x_UNITE_ACAD=' + dic_par['ww_x_UNITE_ACAD']['Informatique'] + '&ww_x_PERIODE_PEDAGO=' + dic_par['ww_x_PERIODE_PEDAGO'][semester]\n",
    "        urls.append(url_data)"
   ]
  },
  {
   "cell_type": "markdown",
   "metadata": {},
   "source": [
    "Once urls are created we will load and store the data into *Data_master* folder, the procedure is exactly identical than the one used in the previous exercise, we again use `save_data` defined as a helper in a separate file consultable on the GitHub."
   ]
  },
  {
   "cell_type": "code",
   "execution_count": 44,
   "metadata": {
    "collapsed": false
   },
   "outputs": [
    {
     "name": "stdout",
     "output_type": "stream",
     "text": [
      "1  request sent.\n",
      "Data collected from the  1  request.\n",
      "**************************************************\n",
      "2  request sent.\n",
      "Data collected from the  2  request.\n",
      "**************************************************\n",
      "3  request sent.\n",
      "Data collected from the  3  request.\n",
      "**************************************************\n",
      "4  request sent.\n",
      "Data collected from the  4  request.\n",
      "**************************************************\n",
      "5  request sent.\n",
      "Data collected from the  5  request.\n",
      "**************************************************\n",
      "6  request sent.\n",
      "Data collected from the  6  request.\n",
      "**************************************************\n",
      "Done\n"
     ]
    }
   ],
   "source": [
    "# Creating an empty directory if it doesn't exist\n",
    "try:\n",
    "    os.mkdir('Data_master')\n",
    "except:\n",
    "    pass\n",
    "\n",
    "# Changing the permissions in order to avoid problems\n",
    "os.chmod('Data_master', 0o777)\n",
    "\n",
    "# Remove old files from this directory\n",
    "files = glob.glob('Data_master/*')\n",
    "for f in files:\n",
    "    os.remove(f)\n",
    "\n",
    "# Downloading the data into the 'Data_master' directory\n",
    "k = 0\n",
    "for ur in urls:\n",
    "    k += 1\n",
    "    print ( k, ' request sent.')\n",
    "    save_data(ur, 'Data_master/') # funtion defined in separate file\n",
    "    print ('Data collected from the ', k, ' request.')\n",
    "    print ('*****'*10)\n",
    "print('Done')"
   ]
  },
  {
   "cell_type": "markdown",
   "metadata": {},
   "source": [
    "Import the data previously downloaded."
   ]
  },
  {
   "cell_type": "code",
   "execution_count": 45,
   "metadata": {
    "collapsed": true
   },
   "outputs": [],
   "source": [
    "data = import_data('Data_master/')"
   ]
  },
  {
   "cell_type": "markdown",
   "metadata": {},
   "source": [
    "We verify that the data we retrieved is the one we were targeting."
   ]
  },
  {
   "cell_type": "code",
   "execution_count": 46,
   "metadata": {
    "collapsed": false
   },
   "outputs": [
    {
     "data": {
      "text/plain": [
       "array([' Master semestre 1 \\xa0', ' Master semestre 2 \\xa0',\n",
       "       ' Master semestre 3 \\xa0', ' Projet Master autom',\n",
       "       ' Projet Master print'], dtype=object)"
      ]
     },
     "execution_count": 46,
     "metadata": {},
     "output_type": "execute_result"
    }
   ],
   "source": [
    "data['Pedagogic period'].unique()"
   ]
  },
  {
   "cell_type": "markdown",
   "metadata": {},
   "source": [
    "Here we are interested by the time it took students to get their first 60 credits, as it is mandatory for everyone. In this first step we pre-select the data."
   ]
  },
  {
   "cell_type": "code",
   "execution_count": 47,
   "metadata": {
    "collapsed": true
   },
   "outputs": [],
   "source": [
    "# Data to compute the time for 60 credits\n",
    "data_time = data[(data['Pedagogic period'] == ' Master semestre 1 \\xa0') | (data['Pedagogic period'] == ' Master semestre 2 \\xa0')]"
   ]
  },
  {
   "cell_type": "markdown",
   "metadata": {},
   "source": [
    "Second step : we prepare a filter to isolate the data needed. We first `groupby` *No_Sciper* and to get an aggregate on the *Pedagogic Period*."
   ]
  },
  {
   "cell_type": "code",
   "execution_count": 48,
   "metadata": {
    "collapsed": true
   },
   "outputs": [],
   "source": [
    "# Select students that starts and ends master's first 60 credits at EPFL ---> master 1 and master 2\n",
    "# Group by the identification number of the students\n",
    "grouped_data = data_time.groupby('No_Sciper')\n",
    "    \n",
    "    \n",
    "# Define the semesters we want the students have been enrolled in.\n",
    "master_sem = pd.Series([' Master semestre 1 \\xa0', ' Master semestre 2 \\xa0'])\n",
    "    \n",
    "# Get the list of the students (we are interested in) No_Sciper\n",
    "students = []\n",
    "    \n",
    "# For each group\n",
    "for g in grouped_data.groups:\n",
    "        # We extract the Pedagocic periods \n",
    "    period_attended = grouped_data.get_group(g)['Pedagogic period']\n",
    "        # Whether both Semester 1 and semester 2 are included we select the student\n",
    "    if sum(master_sem.isin(period_attended)) == 2:\n",
    "        students.append(g)"
   ]
  },
  {
   "cell_type": "markdown",
   "metadata": {},
   "source": [
    "Apply the selection prepared previously to our data"
   ]
  },
  {
   "cell_type": "code",
   "execution_count": 49,
   "metadata": {
    "collapsed": true
   },
   "outputs": [],
   "source": [
    "pr = data_time.query('No_Sciper in @students')"
   ]
  },
  {
   "cell_type": "markdown",
   "metadata": {},
   "source": [
    "Verify that our processing is correct."
   ]
  },
  {
   "cell_type": "code",
   "execution_count": 50,
   "metadata": {
    "collapsed": false
   },
   "outputs": [
    {
     "data": {
      "text/plain": [
       "array([' Master semestre 1 \\xa0', ' Master semestre 2 \\xa0'], dtype=object)"
      ]
     },
     "execution_count": 50,
     "metadata": {},
     "output_type": "execute_result"
    }
   ],
   "source": [
    "pr['Pedagogic period'].unique()"
   ]
  },
  {
   "cell_type": "markdown",
   "metadata": {},
   "source": [
    "Apply aggregate to get the time spent in months."
   ]
  },
  {
   "cell_type": "code",
   "execution_count": 51,
   "metadata": {
    "collapsed": true
   },
   "outputs": [],
   "source": [
    "# time from ma1 to ma2\n",
    "t = pr.groupby('No_Sciper').size()*6"
   ]
  },
  {
   "cell_type": "code",
   "execution_count": 52,
   "metadata": {
    "collapsed": false
   },
   "outputs": [
    {
     "data": {
      "text/plain": [
       "12.0"
      ]
     },
     "execution_count": 52,
     "metadata": {},
     "output_type": "execute_result"
    }
   ],
   "source": [
    "# Average time spent at epfl for mter students. just counting semester 1 and 2\n",
    "t.mean()\n",
    "t.median()"
   ]
  },
  {
   "cell_type": "markdown",
   "metadata": {},
   "source": [
    "We will additively compute the data relative to Minor and Specialization students, as they had to do their first two Master Semester. For such students we will just add the time of their Minor/Spec which corresponds to Master Semester 3. We look at the students having a semester 3 and that already did their first two semesters (we won't count the students having a specialization having only done semester 1 and 2 and not registered in semester 3 as they may have failed or have to redo one semester)."
   ]
  },
  {
   "cell_type": "code",
   "execution_count": 53,
   "metadata": {
    "collapsed": true
   },
   "outputs": [],
   "source": [
    "# Minor/ spec\n",
    "df_minor = data[data['Pedagogic period'] == ' Master semestre 3 \\xa0']\n",
    "\n",
    "\n",
    "# In minor keep those that already do two semesters\n",
    "minor = df_minor.query('No_Sciper in @students')"
   ]
  },
  {
   "cell_type": "markdown",
   "metadata": {},
   "source": [
    "Apply aggregate to get the time spent in months."
   ]
  },
  {
   "cell_type": "code",
   "execution_count": 54,
   "metadata": {
    "collapsed": true
   },
   "outputs": [],
   "source": [
    "# time to do minor or specialization\n",
    "m = minor.groupby('No_Sciper').size()*6"
   ]
  },
  {
   "cell_type": "markdown",
   "metadata": {},
   "source": [
    "Add the optional project duration according to the assumption mentioned at the begining of the exercise."
   ]
  },
  {
   "cell_type": "code",
   "execution_count": 55,
   "metadata": {
    "collapsed": true
   },
   "outputs": [],
   "source": [
    "df_project = data[(data['Pedagogic period'] == ' Projet Master autom') |\n",
    "                  (data['Pedagogic period'] == ' Projet Master print')]\n",
    "project = df_project.query('No_Sciper in @students')"
   ]
  },
  {
   "cell_type": "markdown",
   "metadata": {},
   "source": [
    "Apply aggregate to get the time spent in months."
   ]
  },
  {
   "cell_type": "code",
   "execution_count": 56,
   "metadata": {
    "collapsed": true
   },
   "outputs": [],
   "source": [
    "p = project.groupby('No_Sciper').size()*6"
   ]
  },
  {
   "cell_type": "code",
   "execution_count": 57,
   "metadata": {
    "collapsed": false
   },
   "outputs": [
    {
     "data": {
      "text/plain": [
       "count    754.000000\n",
       "mean      19.002653\n",
       "std        6.180335\n",
       "min       12.000000\n",
       "25%       12.000000\n",
       "50%       18.000000\n",
       "75%       24.000000\n",
       "max       48.000000\n",
       "dtype: float64"
      ]
     },
     "execution_count": 57,
     "metadata": {},
     "output_type": "execute_result"
    }
   ],
   "source": [
    "#Add these size to the t vector\n",
    "tot = (t.add(p, fill_value = 0)).add(m, fill_value = 0)\n",
    "tot.describe()"
   ]
  },
  {
   "cell_type": "code",
   "execution_count": 58,
   "metadata": {
    "collapsed": true
   },
   "outputs": [],
   "source": [
    "df_special = minor[minor['Spécialisation'].notnull()]\n",
    "special = df_special.query('No_Sciper in @students')"
   ]
  },
  {
   "cell_type": "code",
   "execution_count": 59,
   "metadata": {
    "collapsed": false
   },
   "outputs": [
    {
     "data": {
      "text/html": [
       "<div>\n",
       "<table border=\"1\" class=\"dataframe\">\n",
       "  <thead>\n",
       "    <tr style=\"text-align: right;\">\n",
       "      <th></th>\n",
       "      <th>Pedagogic period</th>\n",
       "    </tr>\n",
       "    <tr>\n",
       "      <th>Spécialisation</th>\n",
       "      <th></th>\n",
       "    </tr>\n",
       "  </thead>\n",
       "  <tbody>\n",
       "    <tr>\n",
       "      <th>Biocomputing</th>\n",
       "      <td>10.000000</td>\n",
       "    </tr>\n",
       "    <tr>\n",
       "      <th>Computer Engineering - SP</th>\n",
       "      <td>6.000000</td>\n",
       "    </tr>\n",
       "    <tr>\n",
       "      <th>Foundations of Software</th>\n",
       "      <td>6.888889</td>\n",
       "    </tr>\n",
       "    <tr>\n",
       "      <th>Information Security - SP</th>\n",
       "      <td>6.000000</td>\n",
       "    </tr>\n",
       "    <tr>\n",
       "      <th>Internet computing</th>\n",
       "      <td>7.040000</td>\n",
       "    </tr>\n",
       "    <tr>\n",
       "      <th>Service science</th>\n",
       "      <td>6.000000</td>\n",
       "    </tr>\n",
       "    <tr>\n",
       "      <th>Signals, Images and Interfaces</th>\n",
       "      <td>7.714286</td>\n",
       "    </tr>\n",
       "    <tr>\n",
       "      <th>Software Systems</th>\n",
       "      <td>6.000000</td>\n",
       "    </tr>\n",
       "  </tbody>\n",
       "</table>\n",
       "</div>"
      ],
      "text/plain": [
       "                                Pedagogic period\n",
       "Spécialisation                                  \n",
       "Biocomputing                           10.000000\n",
       "Computer Engineering - SP               6.000000\n",
       "Foundations of Software                 6.888889\n",
       "Information Security - SP               6.000000\n",
       "Internet computing                      7.040000\n",
       "Service science                         6.000000\n",
       "Signals, Images and Interfaces          7.714286\n",
       "Software Systems                        6.000000"
      ]
     },
     "execution_count": 59,
     "metadata": {},
     "output_type": "execute_result"
    }
   ],
   "source": [
    "# Average stay\n",
    "special.groupby('No_Sciper').agg({'Spécialisation' : 'first', 'Pedagogic period' : 'size'}).groupby('Spécialisation').mean()*6"
   ]
  },
  {
   "cell_type": "markdown",
   "metadata": {},
   "source": [
    "### Bonus"
   ]
  },
  {
   "cell_type": "code",
   "execution_count": 65,
   "metadata": {
    "collapsed": true
   },
   "outputs": [],
   "source": [
    "df_male_aggregated = pd.DataFrame(pr[pr['Civilité'] == 'Monsieur'].groupby('No_Sciper').size()*6)"
   ]
  },
  {
   "cell_type": "code",
   "execution_count": 66,
   "metadata": {
    "collapsed": false
   },
   "outputs": [
    {
     "data": {
      "text/html": [
       "<div>\n",
       "<table border=\"1\" class=\"dataframe\">\n",
       "  <thead>\n",
       "    <tr style=\"text-align: right;\">\n",
       "      <th></th>\n",
       "      <th>0</th>\n",
       "    </tr>\n",
       "  </thead>\n",
       "  <tbody>\n",
       "    <tr>\n",
       "      <th>count</th>\n",
       "      <td>653.000000</td>\n",
       "    </tr>\n",
       "    <tr>\n",
       "      <th>mean</th>\n",
       "      <td>14.453292</td>\n",
       "    </tr>\n",
       "    <tr>\n",
       "      <th>std</th>\n",
       "      <td>3.714056</td>\n",
       "    </tr>\n",
       "    <tr>\n",
       "      <th>min</th>\n",
       "      <td>12.000000</td>\n",
       "    </tr>\n",
       "    <tr>\n",
       "      <th>25%</th>\n",
       "      <td>12.000000</td>\n",
       "    </tr>\n",
       "    <tr>\n",
       "      <th>50%</th>\n",
       "      <td>12.000000</td>\n",
       "    </tr>\n",
       "    <tr>\n",
       "      <th>75%</th>\n",
       "      <td>18.000000</td>\n",
       "    </tr>\n",
       "    <tr>\n",
       "      <th>max</th>\n",
       "      <td>36.000000</td>\n",
       "    </tr>\n",
       "  </tbody>\n",
       "</table>\n",
       "</div>"
      ],
      "text/plain": [
       "                0\n",
       "count  653.000000\n",
       "mean    14.453292\n",
       "std      3.714056\n",
       "min     12.000000\n",
       "25%     12.000000\n",
       "50%     12.000000\n",
       "75%     18.000000\n",
       "max     36.000000"
      ]
     },
     "execution_count": 66,
     "metadata": {},
     "output_type": "execute_result"
    }
   ],
   "source": [
    "df_male_aggregated.describe()"
   ]
  },
  {
   "cell_type": "code",
   "execution_count": 67,
   "metadata": {
    "collapsed": true
   },
   "outputs": [],
   "source": [
    "df_female_aggregated = pd.DataFrame(pr[pr['Civilité'] == 'Madame'].groupby('No_Sciper').size()*6)"
   ]
  },
  {
   "cell_type": "code",
   "execution_count": 68,
   "metadata": {
    "collapsed": false
   },
   "outputs": [
    {
     "data": {
      "text/html": [
       "<div>\n",
       "<table border=\"1\" class=\"dataframe\">\n",
       "  <thead>\n",
       "    <tr style=\"text-align: right;\">\n",
       "      <th></th>\n",
       "      <th>0</th>\n",
       "    </tr>\n",
       "  </thead>\n",
       "  <tbody>\n",
       "    <tr>\n",
       "      <th>count</th>\n",
       "      <td>101.000000</td>\n",
       "    </tr>\n",
       "    <tr>\n",
       "      <th>mean</th>\n",
       "      <td>14.376238</td>\n",
       "    </tr>\n",
       "    <tr>\n",
       "      <th>std</th>\n",
       "      <td>3.987108</td>\n",
       "    </tr>\n",
       "    <tr>\n",
       "      <th>min</th>\n",
       "      <td>12.000000</td>\n",
       "    </tr>\n",
       "    <tr>\n",
       "      <th>25%</th>\n",
       "      <td>12.000000</td>\n",
       "    </tr>\n",
       "    <tr>\n",
       "      <th>50%</th>\n",
       "      <td>12.000000</td>\n",
       "    </tr>\n",
       "    <tr>\n",
       "      <th>75%</th>\n",
       "      <td>18.000000</td>\n",
       "    </tr>\n",
       "    <tr>\n",
       "      <th>max</th>\n",
       "      <td>36.000000</td>\n",
       "    </tr>\n",
       "  </tbody>\n",
       "</table>\n",
       "</div>"
      ],
      "text/plain": [
       "                0\n",
       "count  101.000000\n",
       "mean    14.376238\n",
       "std      3.987108\n",
       "min     12.000000\n",
       "25%     12.000000\n",
       "50%     12.000000\n",
       "75%     18.000000\n",
       "max     36.000000"
      ]
     },
     "execution_count": 68,
     "metadata": {},
     "output_type": "execute_result"
    }
   ],
   "source": [
    "df_female_aggregated.describe()"
   ]
  },
  {
   "cell_type": "code",
   "execution_count": 70,
   "metadata": {
    "collapsed": true
   },
   "outputs": [],
   "source": [
    "tot_sorted = tot.sort_index(sort_remaining=False)"
   ]
  },
  {
   "cell_type": "code",
   "execution_count": 100,
   "metadata": {
    "collapsed": true
   },
   "outputs": [],
   "source": [
    "# We filter for first semester of master studies in order to find the starting year of each student.\n",
    "# As it may happen that students have repeated the semesters we want to drop the other entries.\n",
    "# Since the data is sorted by date we drop following occurences of the master semester 1\n",
    "prova = pr[pr['Pedagogic period'] == ' Master semestre 1 \\xa0'].drop_duplicates(subset = ['No_Sciper']).sort_values(by = 'No_Sciper')"
   ]
  },
  {
   "cell_type": "code",
   "execution_count": 101,
   "metadata": {
    "collapsed": false
   },
   "outputs": [
    {
     "data": {
      "text/html": [
       "<div>\n",
       "<table border=\"1\" class=\"dataframe\">\n",
       "  <thead>\n",
       "    <tr style=\"text-align: right;\">\n",
       "      <th></th>\n",
       "      <th>Civilité</th>\n",
       "      <th>Nom Prénom</th>\n",
       "      <th>Orientation Bachelor</th>\n",
       "      <th>Orientation Master</th>\n",
       "      <th>Spécialisation</th>\n",
       "      <th>Filière opt.</th>\n",
       "      <th>Mineur</th>\n",
       "      <th>Statut</th>\n",
       "      <th>Type Echange</th>\n",
       "      <th>Ecole Echange</th>\n",
       "      <th>No_Sciper</th>\n",
       "      <th>Academic year</th>\n",
       "      <th>Pedagogic period</th>\n",
       "    </tr>\n",
       "  </thead>\n",
       "  <tbody>\n",
       "    <tr>\n",
       "      <th>14</th>\n",
       "      <td>Monsieur</td>\n",
       "      <td>Cardinaux Damien</td>\n",
       "      <td>NaN</td>\n",
       "      <td>NaN</td>\n",
       "      <td>NaN</td>\n",
       "      <td>NaN</td>\n",
       "      <td>NaN</td>\n",
       "      <td>Présent</td>\n",
       "      <td>NaN</td>\n",
       "      <td>NaN</td>\n",
       "      <td>146330</td>\n",
       "      <td>2007-2008</td>\n",
       "      <td>Master semestre 1</td>\n",
       "    </tr>\n",
       "    <tr>\n",
       "      <th>37</th>\n",
       "      <td>Monsieur</td>\n",
       "      <td>Marx Clément</td>\n",
       "      <td>NaN</td>\n",
       "      <td>NaN</td>\n",
       "      <td>Signals, Images and Interfaces</td>\n",
       "      <td>NaN</td>\n",
       "      <td>NaN</td>\n",
       "      <td>Présent</td>\n",
       "      <td>NaN</td>\n",
       "      <td>NaN</td>\n",
       "      <td>146742</td>\n",
       "      <td>2008-2009</td>\n",
       "      <td>Master semestre 1</td>\n",
       "    </tr>\n",
       "    <tr>\n",
       "      <th>37</th>\n",
       "      <td>Monsieur</td>\n",
       "      <td>Junod Antoine</td>\n",
       "      <td>NaN</td>\n",
       "      <td>NaN</td>\n",
       "      <td>NaN</td>\n",
       "      <td>NaN</td>\n",
       "      <td>NaN</td>\n",
       "      <td>Présent</td>\n",
       "      <td>NaN</td>\n",
       "      <td>NaN</td>\n",
       "      <td>146929</td>\n",
       "      <td>2007-2008</td>\n",
       "      <td>Master semestre 1</td>\n",
       "    </tr>\n",
       "    <tr>\n",
       "      <th>28</th>\n",
       "      <td>Monsieur</td>\n",
       "      <td>Good Xavier</td>\n",
       "      <td>NaN</td>\n",
       "      <td>NaN</td>\n",
       "      <td>Signals, Images and Interfaces</td>\n",
       "      <td>NaN</td>\n",
       "      <td>NaN</td>\n",
       "      <td>Présent</td>\n",
       "      <td>NaN</td>\n",
       "      <td>NaN</td>\n",
       "      <td>147008</td>\n",
       "      <td>2011-2012</td>\n",
       "      <td>Master semestre 1</td>\n",
       "    </tr>\n",
       "    <tr>\n",
       "      <th>2</th>\n",
       "      <td>Monsieur</td>\n",
       "      <td>Anagnostaras David</td>\n",
       "      <td>NaN</td>\n",
       "      <td>NaN</td>\n",
       "      <td>NaN</td>\n",
       "      <td>NaN</td>\n",
       "      <td>NaN</td>\n",
       "      <td>Présent</td>\n",
       "      <td>NaN</td>\n",
       "      <td>NaN</td>\n",
       "      <td>152232</td>\n",
       "      <td>2007-2008</td>\n",
       "      <td>Master semestre 1</td>\n",
       "    </tr>\n",
       "  </tbody>\n",
       "</table>\n",
       "</div>"
      ],
      "text/plain": [
       "    Civilité          Nom Prénom  Orientation Bachelor  Orientation Master  \\\n",
       "14  Monsieur    Cardinaux Damien                   NaN                 NaN   \n",
       "37  Monsieur        Marx Clément                   NaN                 NaN   \n",
       "37  Monsieur       Junod Antoine                   NaN                 NaN   \n",
       "28  Monsieur         Good Xavier                   NaN                 NaN   \n",
       "2   Monsieur  Anagnostaras David                   NaN                 NaN   \n",
       "\n",
       "                    Spécialisation  Filière opt. Mineur   Statut Type Echange  \\\n",
       "14                             NaN           NaN    NaN  Présent          NaN   \n",
       "37  Signals, Images and Interfaces           NaN    NaN  Présent          NaN   \n",
       "37                             NaN           NaN    NaN  Présent          NaN   \n",
       "28  Signals, Images and Interfaces           NaN    NaN  Présent          NaN   \n",
       "2                              NaN           NaN    NaN  Présent          NaN   \n",
       "\n",
       "   Ecole Echange  No_Sciper Academic year      Pedagogic period  \n",
       "14           NaN     146330     2007-2008   Master semestre 1    \n",
       "37           NaN     146742     2008-2009   Master semestre 1    \n",
       "37           NaN     146929     2007-2008   Master semestre 1    \n",
       "28           NaN     147008     2011-2012   Master semestre 1    \n",
       "2            NaN     152232     2007-2008   Master semestre 1    "
      ]
     },
     "execution_count": 101,
     "metadata": {},
     "output_type": "execute_result"
    }
   ],
   "source": [
    "prova.head()"
   ]
  },
  {
   "cell_type": "code",
   "execution_count": 102,
   "metadata": {
    "collapsed": true
   },
   "outputs": [],
   "source": [
    "prova['Length_study'] = tot_sorted.values"
   ]
  },
  {
   "cell_type": "code",
   "execution_count": 103,
   "metadata": {
    "collapsed": true
   },
   "outputs": [],
   "source": [
    "prova_grouped = prova.groupby(['Civilité', 'Academic year'])"
   ]
  },
  {
   "cell_type": "code",
   "execution_count": 104,
   "metadata": {
    "collapsed": false
   },
   "outputs": [],
   "source": [
    "# Monsieur - Try with agg fun and apply\n",
    "avg_men = {}\n",
    "avg_women = {}\n",
    "for g in prova_grouped.groups:\n",
    "    if g[0] == 'Madame':\n",
    "        avg_women[g[1]] = prova_grouped.get_group(g)['Length_study'].mean()\n",
    "    else:\n",
    "        avg_men[g[1]] = prova_grouped.get_group(g)['Length_study'].mean()"
   ]
  },
  {
   "cell_type": "code",
   "execution_count": 105,
   "metadata": {
    "collapsed": false
   },
   "outputs": [
    {
     "data": {
      "text/plain": [
       "{' 2007-2008': 19.11864406779661,\n",
       " ' 2008-2009': 18.5,\n",
       " ' 2009-2010': 20.372093023255815,\n",
       " ' 2010-2011': 20.582278481012658,\n",
       " ' 2011-2012': 20.337662337662337,\n",
       " ' 2012-2013': 21.04225352112676,\n",
       " ' 2013-2014': 20.810126582278482,\n",
       " ' 2014-2015': 20.790697674418606,\n",
       " ' 2015-2016': 12.54054054054054}"
      ]
     },
     "execution_count": 105,
     "metadata": {},
     "output_type": "execute_result"
    }
   ],
   "source": [
    "avg_men"
   ]
  },
  {
   "cell_type": "code",
   "execution_count": 106,
   "metadata": {
    "collapsed": false
   },
   "outputs": [
    {
     "data": {
      "text/plain": [
       "{' 2007-2008': 16.2,\n",
       " ' 2008-2009': 21.0,\n",
       " ' 2009-2010': 20.0,\n",
       " ' 2010-2011': 22.153846153846153,\n",
       " ' 2011-2012': 19.875,\n",
       " ' 2012-2013': 21.5,\n",
       " ' 2013-2014': 20.142857142857142,\n",
       " ' 2014-2015': 20.5,\n",
       " ' 2015-2016': 12.4}"
      ]
     },
     "execution_count": 106,
     "metadata": {},
     "output_type": "execute_result"
    }
   ],
   "source": [
    "avg_women"
   ]
  },
  {
   "cell_type": "code",
   "execution_count": 107,
   "metadata": {
    "collapsed": true
   },
   "outputs": [],
   "source": [
    "od = collections.OrderedDict(sorted(avg_men.items()))\n",
    "ood = collections.OrderedDict(sorted(avg_women.items()))"
   ]
  },
  {
   "cell_type": "code",
   "execution_count": 108,
   "metadata": {
    "collapsed": false
   },
   "outputs": [
    {
     "data": {
      "text/plain": [
       "[<matplotlib.lines.Line2D at 0x11c590240>,\n",
       " <matplotlib.lines.Line2D at 0x11c590518>]"
      ]
     },
     "execution_count": 108,
     "metadata": {},
     "output_type": "execute_result"
    },
    {
     "data": {
      "image/png": "[encoded data removed]",
      "text/plain": [
       "<matplotlib.figure.Figure at 0x118a539b0>"
      ]
     },
     "metadata": {},
     "output_type": "display_data"
    }
   ],
   "source": [
    "# Add title and axis lables. Y axis between 12 and 24 for better visualisation of data\n",
    "# Since we have already dropped the data for 2016/2017 in the beginning,\n",
    "# we cannot consider the results for mean in the academic year 2015/2016 because the data related to the second year\n",
    "# of their studies aren't present in the data set. So we drop them in the charts.\n",
    "plt.plot(list(od.values())[:-1], '-ro', list(ood.values())[:-1], '-bo')"
   ]
  },
  {
   "cell_type": "code",
   "execution_count": 126,
   "metadata": {
    "collapsed": false
   },
   "outputs": [
    {
     "data": {
      "text/plain": [
       "{' 2007-2008': {'p-value': 0.26973510980478499,\n",
       "  't-statistic': 1.1606735191713484},\n",
       " ' 2008-2009': {'p-value': 0.16409999141725079,\n",
       "  't-statistic': -1.4814252746016634},\n",
       " ' 2009-2010': {'p-value': 0.87640732498105889,\n",
       "  't-statistic': 0.16978508123863287},\n",
       " ' 2010-2011': {'p-value': 0.55277508913670004,\n",
       "  't-statistic': -0.60822846978978617},\n",
       " ' 2011-2012': {'p-value': 0.71590252207995941,\n",
       "  't-statistic': 0.36748469325126054},\n",
       " ' 2012-2013': {'p-value': 0.80735785766037849,\n",
       "  't-statistic': -0.24841024002181383},\n",
       " ' 2013-2014': {'p-value': 0.66677939047671553,\n",
       "  't-statistic': 0.43669297697266996},\n",
       " ' 2014-2015': {'p-value': 0.86043367876065613,\n",
       "  't-statistic': 0.17939411201869551}}"
      ]
     },
     "execution_count": 126,
     "metadata": {},
     "output_type": "execute_result"
    }
   ],
   "source": [
    "test_results = {}\n",
    "for year in sorted(prova['Academic year'].unique())[:-1]:\n",
    "    df_female = prova[(prova['Civilité'] == 'Madame') & (prova['Academic year'] == year) ]['Length_study']\n",
    "    df_male = prova[(prova['Civilité'] == 'Monsieur') & (prova['Academic year'] == year) ]['Length_study']\n",
    "    \n",
    "    t_test = stats.ttest_ind(df_male, df_female, equal_var=False)\n",
    "    test_results[year] = {'t-statistic' : t_test[0], 'p-value' : t_test[1]}\n",
    "test_results"
   ]
  },
  {
   "cell_type": "code",
   "execution_count": null,
   "metadata": {
    "collapsed": true
   },
   "outputs": [],
   "source": []
  }
 ],
 "metadata": {
  "anaconda-cloud": {},
  "kernelspec": {
   "display_name": "Python [Root]",
   "language": "python",
   "name": "Python [Root]"
  },
  "language_info": {
   "codemirror_mode": {
    "name": "ipython",
    "version": 3
   },
   "file_extension": ".py",
   "mimetype": "text/x-python",
   "name": "python",
   "nbconvert_exporter": "python",
   "pygments_lexer": "ipython3",
   "version": "3.5.2"
  }
 },
 "nbformat": 4,
 "nbformat_minor": 0
}
