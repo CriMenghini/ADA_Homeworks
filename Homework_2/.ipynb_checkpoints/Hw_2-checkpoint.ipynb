{
 "cells": [
  {
   "cell_type": "markdown",
   "metadata": {},
   "source": [
    "## Homework 02 - Data from the Web\n",
    "\n",
    "*Remark:* whether you are interested in running all the cells (including the scraping) do that, otherwise, if you want just run the analysis, in the folder `Data_bachelor/` or `Data_master/` you find all the data used in the further analysis. For the tidiness of the notebook the functions used in the script are stored in the file `scraping_function.py`, `analysis_bachelor`."
   ]
  },
  {
   "cell_type": "code",
   "execution_count": 1,
   "metadata": {
    "collapsed": false
   },
   "outputs": [],
   "source": [
    "import pandas as pd\n",
    "import requests\n",
    "from bs4 import BeautifulSoup\n",
    "import time\n",
    "import glob\n",
    "from scraping_function import *\n",
    "from analysis_bachelor import *"
   ]
  },
  {
   "cell_type": "markdown",
   "metadata": {},
   "source": [
    "### Assignment 1\n",
    "\n",
    "The final goal of the task is to verify whether the difference between the number of months that girls took from the first to the sixth semester and the number of months taken by boys, in average, is statistically significant.\n",
    "\n",
    "Before accomplishing the task we need to pass through the following steps:\n",
    "\n",
    "1. Obtain all the data for the Bachelor students, starting from 2007.\n",
    "2. Keep only the students for which you have an entry for both Bachelor semestre 1 and Bachelor semestre 6.\n",
    "3. Compute how many months it took each student to go from the first to the sixth semester.\n",
    "\n",
    "\n"
   ]
  },
  {
   "cell_type": "markdown",
   "metadata": {},
   "source": [
    "#### Step 1"
   ]
  },
  {
   "cell_type": "markdown",
   "metadata": {},
   "source": [
    "The first thing we do, in order to retrieve the data of interest, is to parse the `html` source related to the `IS-Academia` web page (the one where you have to fill in the form to get the enrolled students). "
   ]
  },
  {
   "cell_type": "code",
   "execution_count": 2,
   "metadata": {
    "collapsed": true
   },
   "outputs": [],
   "source": [
    "# Request the html source for the URL\n",
    "r = requests.get('http://isa.epfl.ch/imoniteur_ISAP/!GEDPUBLICREPORTS.filter?ww_i_reportModel=133685247')\n",
    "html = r.content\n",
    "soup = BeautifulSoup(html, 'html.parser')"
   ]
  },
  {
   "cell_type": "markdown",
   "metadata": {},
   "source": [
    "With the help of *Postman* we identify the *parameters* useful to get the data. They result to be the following:\n",
    "\n",
    "* `ww_x_GPS`\n",
    "* `ww_i_reportmodel`\n",
    "* `ww_i_reportModelXsl`\n",
    "* `ww_x_UNITE_ACAD`\n",
    "* `ww_x_PERIODE_ACAD`\n",
    "* `ww_x_PERIODE_PEDAGO`\n",
    "* `ww_x_HIVERETE`"
   ]
  },
  {
   "cell_type": "markdown",
   "metadata": {},
   "source": [
    "We gather them into a dictionary of the following form:\n",
    "\n",
    "                 {'parameter_1' : {'name_1' : value_1, ..., 'name_n' : value_n},\n",
    "                  'parameter_2' : {'name_1' : value_1, ..., 'name_n' : value_n},\n",
    "                   ...........,\n",
    "                  'parameter_k' : {'name_1' : value_1, ..., 'name_n' : value_n}}\n",
    " \n",
    "Where `parameter_X` is the name the relavant parameter to retrieve, `name_X` and `value_X` are two possible expressions of the parameter (string and numerical respectively). The function to do that is `create_parameter_dict` and it's stored in the [file](Applied data analysis - ADA/scaping_function.py) aforementioned."
   ]
  },
  {
   "cell_type": "code",
   "execution_count": 3,
   "metadata": {
    "collapsed": false
   },
   "outputs": [],
   "source": [
    "# Create the dictionary of parameters\n",
    "par = [\"ww_x_UNITE_ACAD\", \"ww_x_PERIODE_ACAD\", 'ww_x_PERIODE_PEDAGO', 'ww_x_HIVERETE']\n",
    "dic_par = create_parameter_dict(par, soup)"
   ]
  },
  {
   "cell_type": "markdown",
   "metadata": {},
   "source": [
    "Thus, we choose and define the procedure to retrieve the information. After analyzing various `URLs`, with the help of *Postman*, we decide that we are going to make in total six requests, each of those consists of asking the list of the students for all the years related to a specific *pedagogic period*. The `URLs` have the following form:\n",
    "* `ww_x_GPS = -1` : in this way we gather all the data of the page\n",
    "* `ww_i_reportmodel = 133685247` : standard value of the parameter\n",
    "* `ww_i_reportModelXsl = dic_par['ww_i_reportModelXsl']['html']` : that specify the form of the data (`html`)\n",
    "* `ww_x_UNITE_ACAD = dic_par['ww_x_UNITE_ACAD']['Informatique']` : the value that corresponds to the students of Informatique\n",
    "* `ww_x_PERIODE_PEDAGO: dic_par['ww_x_PERIODE_PEDAGO'][semester]` : the code relative to a specific semester\n",
    "We don't specify anything about the season and the year beacause we decide to retrive everything related to a particular semester."
   ]
  },
  {
   "cell_type": "code",
   "execution_count": 4,
   "metadata": {
    "collapsed": false
   },
   "outputs": [],
   "source": [
    "# Create the list of the URLs we are making the request to\n",
    "urls = []\n",
    "\n",
    "# For each possible semester, \n",
    "for semester in dic_par['ww_x_PERIODE_PEDAGO']:\n",
    "    # Except for those known as semester 5b and 6b that DON'T contain data\n",
    "    if semester.startswith('Bachelor') and semester[-1] != 'b':  \n",
    "        # We define the link to append to our list\n",
    "        url_data = 'http://isa.epfl.ch/imoniteur_ISAP/!GEDPUBLICREPORTS.html?ww_x_GPS=-1&ww_i_reportModel=133685247&ww_i_reportModelXsl=' + dic_par['ww_i_reportModelXsl']['html'] + '&ww_x_UNITE_ACAD=' + dic_par['ww_x_UNITE_ACAD']['Informatique'] + '&ww_x_PERIODE_PEDAGO=' + dic_par['ww_x_PERIODE_PEDAGO'][semester]\n",
    "        urls.append(url_data)"
   ]
  },
  {
   "cell_type": "markdown",
   "metadata": {},
   "source": [
    "Once the list of links is ready, we proceed retrieving data. To do that we are going to use a function `retrieve_data` which does the following:\n",
    "- The gathered `html` source code is transformed in a `DataFrame`. \n",
    "Since the `html` contains more than one table..\n",
    "- We are going to split the frame (using the function `fun_rec`) \n",
    "Below an image which tries to explain the procedure used to split the big `DataFrame`."
   ]
  },
  {
   "cell_type": "code",
   "execution_count": 5,
   "metadata": {
    "collapsed": false
   },
   "outputs": [
    {
     "data": {
      "text/html": [
       "\n",
       "        <iframe\n",
       "            width=\"980\"\n",
       "            height=\"500\"\n",
       "            src=\"disegno_pdf.pdf\"\n",
       "            frameborder=\"0\"\n",
       "            allowfullscreen\n",
       "        ></iframe>\n",
       "        "
      ],
      "text/plain": [
       "<IPython.lib.display.IFrame at 0x7f8eea643b70>"
      ]
     },
     "execution_count": 5,
     "metadata": {},
     "output_type": "execute_result"
    }
   ],
   "source": [
    "from IPython.display import IFrame\n",
    "IFrame('disegno_pdf.pdf', width=980, height=500)"
   ]
  },
  {
   "cell_type": "markdown",
   "metadata": {},
   "source": [
    "- We clean the data using the `clean_df` function, in this step we keep the data of the years of interest \n",
    "- And finally save the cleaned `DFs` in `.csv` files (using the `save_data` function)"
   ]
  },
  {
   "cell_type": "code",
   "execution_count": 6,
   "metadata": {
    "collapsed": false
   },
   "outputs": [],
   "source": [
    "import os\n",
    "\n",
    "try:\n",
    "    os.mkdir('Data_bachelor', 777)\n",
    "    k = 0\n",
    "    for ur in urls:\n",
    "        k += 1\n",
    "        print ( k, ' request sent.')\n",
    "        save_data(ur, 'Data_bachelor/')\n",
    "        print ('Data collected from the ', k, ' request.')\n",
    "        print ('*****'*10)\n",
    "    print('Done')\n",
    "except:\n",
    "    pass # Data is already fetched"
   ]
  },
  {
   "cell_type": "markdown",
   "metadata": {},
   "source": [
    "#### Step 2\n",
    "Now that we have all the data stored, we import and start to analyze them!\n",
    "\n",
    "We read the `.csv` fies as `DataFrame`, thus we concatenate them on the axis 0. It's done by the `import_data` function."
   ]
  },
  {
   "cell_type": "code",
   "execution_count": 7,
   "metadata": {
    "collapsed": false
   },
   "outputs": [],
   "source": [
    "data = import_data('Data_bachelor/')"
   ]
  },
  {
   "cell_type": "markdown",
   "metadata": {},
   "source": [
    "Hence, we proceed accomplishing the task of this step, in fact we filter the df according to the required criteria. In particulare we `groupby` the frame according to the *Sciper number* that is unique for each enrolled student. Then we keep only the students (group) that have in the domain *Pedagogic period* at least one *Semester 1 & Semester 6*. A more technical procedure is explained inside the function `extract_students`."
   ]
  },
  {
   "cell_type": "code",
   "execution_count": 8,
   "metadata": {
    "collapsed": false
   },
   "outputs": [],
   "source": [
    "df_students = extract_students(data)"
   ]
  },
  {
   "cell_type": "code",
   "execution_count": 9,
   "metadata": {
    "collapsed": false
   },
   "outputs": [
    {
     "data": {
      "text/html": [
       "<div>\n",
       "<table border=\"1\" class=\"dataframe\">\n",
       "  <thead>\n",
       "    <tr style=\"text-align: right;\">\n",
       "      <th></th>\n",
       "      <th>Civilité</th>\n",
       "      <th>Nom Prénom</th>\n",
       "      <th>Orientation Bachelor</th>\n",
       "      <th>Orientation Master</th>\n",
       "      <th>Spécialisation</th>\n",
       "      <th>Filière opt.</th>\n",
       "      <th>Mineur</th>\n",
       "      <th>Statut</th>\n",
       "      <th>Type Echange</th>\n",
       "      <th>Ecole Echange</th>\n",
       "      <th>No_Sciper</th>\n",
       "      <th>Academic year</th>\n",
       "      <th>Pedagogic period</th>\n",
       "    </tr>\n",
       "  </thead>\n",
       "  <tbody>\n",
       "    <tr>\n",
       "      <th>0</th>\n",
       "      <td>Monsieur</td>\n",
       "      <td>Arévalo Christian</td>\n",
       "      <td>NaN</td>\n",
       "      <td>NaN</td>\n",
       "      <td>NaN</td>\n",
       "      <td>NaN</td>\n",
       "      <td>NaN</td>\n",
       "      <td>Présent</td>\n",
       "      <td>NaN</td>\n",
       "      <td>NaN</td>\n",
       "      <td>169569</td>\n",
       "      <td>2007-2008</td>\n",
       "      <td>Bachelor semestre 1</td>\n",
       "    </tr>\n",
       "    <tr>\n",
       "      <th>1</th>\n",
       "      <td>Monsieur</td>\n",
       "      <td>Aubelle Flavien</td>\n",
       "      <td>NaN</td>\n",
       "      <td>NaN</td>\n",
       "      <td>NaN</td>\n",
       "      <td>NaN</td>\n",
       "      <td>NaN</td>\n",
       "      <td>Présent</td>\n",
       "      <td>NaN</td>\n",
       "      <td>NaN</td>\n",
       "      <td>174905</td>\n",
       "      <td>2007-2008</td>\n",
       "      <td>Bachelor semestre 1</td>\n",
       "    </tr>\n",
       "    <tr>\n",
       "      <th>3</th>\n",
       "      <td>Monsieur</td>\n",
       "      <td>Baeriswyl Jonathan</td>\n",
       "      <td>NaN</td>\n",
       "      <td>NaN</td>\n",
       "      <td>NaN</td>\n",
       "      <td>NaN</td>\n",
       "      <td>NaN</td>\n",
       "      <td>Présent</td>\n",
       "      <td>NaN</td>\n",
       "      <td>NaN</td>\n",
       "      <td>179406</td>\n",
       "      <td>2007-2008</td>\n",
       "      <td>Bachelor semestre 1</td>\n",
       "    </tr>\n",
       "    <tr>\n",
       "      <th>4</th>\n",
       "      <td>Monsieur</td>\n",
       "      <td>Barroco Michael</td>\n",
       "      <td>NaN</td>\n",
       "      <td>NaN</td>\n",
       "      <td>NaN</td>\n",
       "      <td>NaN</td>\n",
       "      <td>NaN</td>\n",
       "      <td>Présent</td>\n",
       "      <td>NaN</td>\n",
       "      <td>NaN</td>\n",
       "      <td>179428</td>\n",
       "      <td>2007-2008</td>\n",
       "      <td>Bachelor semestre 1</td>\n",
       "    </tr>\n",
       "    <tr>\n",
       "      <th>7</th>\n",
       "      <td>Monsieur</td>\n",
       "      <td>Bindschaedler Vincent</td>\n",
       "      <td>NaN</td>\n",
       "      <td>NaN</td>\n",
       "      <td>NaN</td>\n",
       "      <td>NaN</td>\n",
       "      <td>NaN</td>\n",
       "      <td>Présent</td>\n",
       "      <td>NaN</td>\n",
       "      <td>NaN</td>\n",
       "      <td>179449</td>\n",
       "      <td>2007-2008</td>\n",
       "      <td>Bachelor semestre 1</td>\n",
       "    </tr>\n",
       "  </tbody>\n",
       "</table>\n",
       "</div>"
      ],
      "text/plain": [
       "   Civilité             Nom Prénom  Orientation Bachelor  Orientation Master  \\\n",
       "0  Monsieur      Arévalo Christian                   NaN                 NaN   \n",
       "1  Monsieur        Aubelle Flavien                   NaN                 NaN   \n",
       "3  Monsieur     Baeriswyl Jonathan                   NaN                 NaN   \n",
       "4  Monsieur        Barroco Michael                   NaN                 NaN   \n",
       "7  Monsieur  Bindschaedler Vincent                   NaN                 NaN   \n",
       "\n",
       "   Spécialisation Filière opt.  Mineur   Statut Type Echange Ecole Echange  \\\n",
       "0             NaN          NaN     NaN  Présent          NaN           NaN   \n",
       "1             NaN          NaN     NaN  Présent          NaN           NaN   \n",
       "3             NaN          NaN     NaN  Présent          NaN           NaN   \n",
       "4             NaN          NaN     NaN  Présent          NaN           NaN   \n",
       "7             NaN          NaN     NaN  Présent          NaN           NaN   \n",
       "\n",
       "   No_Sciper Academic year      Pedagogic period  \n",
       "0     169569     2007-2008   Bachelor semestre 1  \n",
       "1     174905     2007-2008   Bachelor semestre 1  \n",
       "3     179406     2007-2008   Bachelor semestre 1  \n",
       "4     179428     2007-2008   Bachelor semestre 1  \n",
       "7     179449     2007-2008   Bachelor semestre 1  "
      ]
     },
     "execution_count": 9,
     "metadata": {},
     "output_type": "execute_result"
    }
   ],
   "source": [
    "df_students.head()"
   ]
  },
  {
   "cell_type": "markdown",
   "metadata": {},
   "source": [
    "#### Step 3\n",
    "\n",
    "In this step we compute how many months each student spent to get from the 1st to the 6th semester. The assumptions we rely on are the following:\n",
    "- A student reach the *Semester 6* whether he doesn't have to sit again any other semester. We make this assumption because we think that the choice of the 6th semester is useful to compute the time an epfl student need to graduated at bachelor\n",
    "- Each semester lasts 6 months"
   ]
  },
  {
   "cell_type": "markdown",
   "metadata": {},
   "source": [
    "Before getting the duration of studies for each student, since we want to get their names, we check whether the name could be considered as an index. The way we do that is that the number of *names* should be equal to the number of *Scipers*."
   ]
  },
  {
   "cell_type": "code",
   "execution_count": 10,
   "metadata": {
    "collapsed": false
   },
   "outputs": [
    {
     "data": {
      "text/plain": [
       "True"
      ]
     },
     "execution_count": 10,
     "metadata": {},
     "output_type": "execute_result"
    }
   ],
   "source": [
    "len(df_students['Nom Prénom']) == len(df_students['No_Sciper'])"
   ]
  },
  {
   "cell_type": "markdown",
   "metadata": {},
   "source": [
    "Thus, we `groupby` the *name* of the student and then we get the number of rows (`size`) of the group. It corresponds exactly to months needed by the student to reach the 6th semester."
   ]
  },
  {
   "cell_type": "code",
   "execution_count": 11,
   "metadata": {
    "collapsed": false
   },
   "outputs": [],
   "source": [
    "df_grouped = df_students.groupby('Nom Prénom')"
   ]
  },
  {
   "cell_type": "markdown",
   "metadata": {},
   "source": [
    "The number of semester which the student resulted to have been enrolled is multiplied by 6 that is the duration of a semester according to our assumption."
   ]
  },
  {
   "cell_type": "code",
   "execution_count": 12,
   "metadata": {
    "collapsed": false
   },
   "outputs": [
    {
     "data": {
      "text/plain": [
       "Nom Prénom\n",
       "Abate Bryan Jeremy                             36\n",
       "Aiulfi Loris Sandro                            72\n",
       "Alami-Idrissi Ali                              36\n",
       "Alfonso Peterssen Alfonso                      36\n",
       "Alonso Seisdedos Florian                       66\n",
       "Amorim Afonso Caldeira Da Silva Pedro Maria    48\n",
       "Andreina Sébastien Laurent                     48\n",
       "Angel Axel                                     36\n",
       "Angerand Grégoire Georges Jacques              60\n",
       "Antognini Marco                                48\n",
       "Aoun Leonardo                                  36\n",
       "Arnfred Jonas                                  36\n",
       "Arévalo Christian                              36\n",
       "Aubelle Flavien                                60\n",
       "Augsburger Damien                              36\n",
       "Babst Timo Philip                              36\n",
       "Bachmann Roman Christian                       36\n",
       "Baeriswyl Jonathan                             48\n",
       "Balle Daniel                                   42\n",
       "Balmau Oana Maria                              36\n",
       "Baraschi Zoé                                   54\n",
       "Barben Loïc                                    36\n",
       "Barroco Michael                                48\n",
       "Barthe Sidney                                  54\n",
       "Bastin Cédric                                  36\n",
       "Beaud Guillaume François Paul                  48\n",
       "Beau Joris                                     36\n",
       "Beck Johannes Magnus                           36\n",
       "Beguet Eric                                    36\n",
       "Beguet Romain Michel                           36\n",
       "                                               ..\n",
       "Vaucher Timoté Pascal                          36\n",
       "Vautherin Jonas                                36\n",
       "Verstegen Noortje                              36\n",
       "Vessaz Florian                                 42\n",
       "Vessaz Yannick                                 36\n",
       "Veuthey Alexandre Bernard Robert               36\n",
       "Viaccoz Thierry                                36\n",
       "Vion Roger                                     60\n",
       "Voirol Nicolas Charles Yves                    36\n",
       "Von Aarburg Raphaël Richard                    36\n",
       "Vostriakov Alexander                           60\n",
       "Walch Pierre                                   36\n",
       "Watrin Thibaut                                 42\n",
       "Weber Martin Takeya                            66\n",
       "Weier Philippe                                 36\n",
       "Weiskopf Robin                                 48\n",
       "Wenger Amos                                    48\n",
       "Widmer Florian                                 36\n",
       "Willemin Xavier                                66\n",
       "Wirz Leonardo Enrique                          48\n",
       "Zablotchi Mihail Igor                          36\n",
       "Zbinden Boris Adrien                           42\n",
       "Zellweger Fabien André                         54\n",
       "Zellweger Vincent                              48\n",
       "Zenhäusern Joey Kevin                          54\n",
       "Zhou Yunpeng                                   36\n",
       "Zimmermann Marc                                36\n",
       "Zoller Roman                                   36\n",
       "Zommerfelds Christian Georges                  36\n",
       "Zürn Christophe                                36\n",
       "dtype: int64"
      ]
     },
     "execution_count": 12,
     "metadata": {},
     "output_type": "execute_result"
    }
   ],
   "source": [
    "df_grouped.size()*6"
   ]
  },
  {
   "cell_type": "code",
   "execution_count": null,
   "metadata": {
    "collapsed": true
   },
   "outputs": [],
   "source": []
  }
 ],
 "metadata": {
  "anaconda-cloud": {},
  "kernelspec": {
   "display_name": "Python [Root]",
   "language": "python",
   "name": "Python [Root]"
  },
  "language_info": {
   "codemirror_mode": {
    "name": "ipython",
    "version": 3
   },
   "file_extension": ".py",
   "mimetype": "text/x-python",
   "name": "python",
   "nbconvert_exporter": "python",
   "pygments_lexer": "ipython3",
   "version": "3.5.2"
  }
 },
 "nbformat": 4,
 "nbformat_minor": 0
}
