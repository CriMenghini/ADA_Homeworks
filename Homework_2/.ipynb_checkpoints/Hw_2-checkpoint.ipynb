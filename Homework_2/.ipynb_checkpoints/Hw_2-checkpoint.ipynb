{
 "cells": [
  {
   "cell_type": "markdown",
   "metadata": {},
   "source": [
    "## Homework 02 - Data from the Web\n",
    "\n",
    "*Remark:* whether you are interested in running all the cells (including the scraping) do that, otherwise, if you want just run the analysis, in the folder `Data_bachelor/` or `Data_master/` you find all the data used in the further analysis. For the tidiness of the notebook the functions used in the script are stored in the file `scraping_function.py`, `analysis_bachelor.py`."
   ]
  },
  {
   "cell_type": "code",
   "execution_count": 1,
   "metadata": {
    "collapsed": false
   },
   "outputs": [],
   "source": [
    "import requests\n",
    "import collections\n",
    "import pandas as pd\n",
    "import scipy.stats as stats\n",
    "import matplotlib.pyplot as plt\n",
    "%matplotlib inline\n",
    "from bs4 import BeautifulSoup\n",
    "from scraping_function import *\n",
    "from analysis_bachelor import *\n",
    "from IPython.display import IFrame"
   ]
  },
  {
   "cell_type": "markdown",
   "metadata": {},
   "source": [
    "### 1) Bachelor Analysis\n",
    "\n",
    "The final goal of the task is to verify whether the difference between the number of months that girls took from the first to the sixth semester and the number of months taken by boys, in average, is statistically significant.\n",
    "\n",
    "Before accomplishing the task we need to pass through the following steps:\n",
    "\n",
    "1. Obtain all the data for the Bachelor students, starting from 2007\n",
    "2. Keep only the students for which you have an entry for both Bachelor semestre 1 and Bachelor semestre 6\n",
    "3. Compute how many months it took each student to go from the first to the sixth semester\n",
    "4. Run the statistical test\n"
   ]
  },
  {
   "cell_type": "markdown",
   "metadata": {},
   "source": [
    "#### Step 1: Obtain all the data for the Bachelor students, starting from 2007"
   ]
  },
  {
   "cell_type": "markdown",
   "metadata": {},
   "source": [
    "The first thing we do, in order to retrieve the data of interest, is to parse the `html` source related to the `IS-Academia` web page (the one where you have to fill in the form to get the enrolled students). "
   ]
  },
  {
   "cell_type": "code",
   "execution_count": 2,
   "metadata": {
    "collapsed": false
   },
   "outputs": [],
   "source": [
    "# Request the html source for the URL\n",
    "r = requests.get('http://isa.epfl.ch/imoniteur_ISAP/!GEDPUBLICREPORTS.filter?ww_i_reportModel=133685247')\n",
    "html = r.content\n",
    "soup = BeautifulSoup(html, 'html.parser')"
   ]
  },
  {
   "cell_type": "markdown",
   "metadata": {},
   "source": [
    "With the help of *Postman* we identify the *parameters* useful to get the data. They result to be the following:\n",
    "\n",
    "* `ww_x_GPS`\n",
    "* `ww_i_reportmodel`\n",
    "* `ww_i_reportModelXsl`\n",
    "* `ww_x_UNITE_ACAD`\n",
    "* `ww_x_PERIODE_ACAD`\n",
    "* `ww_x_PERIODE_PEDAGO`\n",
    "* `ww_x_HIVERETE`"
   ]
  },
  {
   "cell_type": "markdown",
   "metadata": {},
   "source": [
    "We gather them into a dictionary of the following form:\n",
    "\n",
    "                 {'parameter_1' : {'name_1' : value_1, ..., 'name_p1' : value_p1},\n",
    "                  'parameter_2' : {'name_1' : value_1, ..., 'name_p2' : value_p2},\n",
    "                   ...........,\n",
    "                  'parameter_k' : {'name_1' : value_1, ..., 'name_pk' : value_pk}}\n",
    " \n",
    "Where `parameter_X` is the name the relavant parameter to retrieve, `name_X` and `value_X` are two possible expressions of the parameter (string and numerical respectively). The function to do that is `create_parameter_dict` and it's stored in the [file](scraping_function.py) aforementioned."
   ]
  },
  {
   "cell_type": "code",
   "execution_count": 3,
   "metadata": {
    "collapsed": false
   },
   "outputs": [],
   "source": [
    "# Create the dictionary of parameters\n",
    "par = [\"ww_x_UNITE_ACAD\", \"ww_x_PERIODE_ACAD\", 'ww_x_PERIODE_PEDAGO', 'ww_x_HIVERETE']\n",
    "dic_par = create_parameter_dict(par, soup)"
   ]
  },
  {
   "cell_type": "markdown",
   "metadata": {},
   "source": [
    "Thus, we choose and define the procedure to retrieve the information. After analyzing various `URLs`, with the help of *Postman*, we decide that we are going to make in total six requests, each of those consists of asking the list of the students for all the years related to a specific `Pedagogic period`. The `URLs` have the following form:\n",
    "* `ww_x_GPS = -1` : in this way we gather all the data of the page\n",
    "* `ww_i_reportModel = 133685247` : standard value of the parameter\n",
    "* `ww_i_reportModelXsl = dic_par['ww_i_reportModelXsl']['html']` : that specify the form of the data (`html`)\n",
    "* `ww_x_UNITE_ACAD = dic_par['ww_x_UNITE_ACAD']['Informatique']` : the value that corresponds to the students of Informatique\n",
    "* `ww_x_PERIODE_PEDAGO: dic_par['ww_x_PERIODE_PEDAGO'][semester]` : the code relative to a specific semester\n",
    "We don't specify anything about the season and the year beacause we decide to retrive everything related to a particular semester.\n",
    "\n",
    "To create the urls we use the function `compose_url` imported from the [library](scraping_function.py)."
   ]
  },
  {
   "cell_type": "code",
   "execution_count": 4,
   "metadata": {
    "collapsed": false
   },
   "outputs": [],
   "source": [
    "# Create the list of the URLs we are making the request to\n",
    "urls = []\n",
    "\n",
    "# For each possible semester, \n",
    "for semester in dic_par['ww_x_PERIODE_PEDAGO']:\n",
    "    # Except for those known as semester 5b and 6b that DON'T contain data\n",
    "    if semester.startswith('Bachelor') and semester[-1] != 'b':  \n",
    "        # We define the link to append to our list\n",
    "        url_data = compose_url(dic_par, semester)\n",
    "        urls.append(url_data)"
   ]
  },
  {
   "cell_type": "markdown",
   "metadata": {},
   "source": [
    "Once the list of links is ready, we proceed retrieving data. To do that we are going to use a function `retrieve_data` which does the following:\n",
    "- The gathered `html` source code is transformed in a `DataFrame`. \n",
    "Since the `html` contains more than one table..\n",
    "- We are going to split the frame (using the function `fun_rec`) \n",
    "Below an image which tries to explain the procedure used to split the big `DataFrame`."
   ]
  },
  {
   "cell_type": "code",
   "execution_count": 5,
   "metadata": {
    "collapsed": false
   },
   "outputs": [
    {
     "data": {
      "text/html": [
       "\n",
       "        <iframe\n",
       "            width=\"980\"\n",
       "            height=\"500\"\n",
       "            src=\"disegno_pdf.pdf\"\n",
       "            frameborder=\"0\"\n",
       "            allowfullscreen\n",
       "        ></iframe>\n",
       "        "
      ],
      "text/plain": [
       "<IPython.lib.display.IFrame at 0x1177abac8>"
      ]
     },
     "execution_count": 5,
     "metadata": {},
     "output_type": "execute_result"
    }
   ],
   "source": [
    "IFrame('disegno_pdf.pdf', width=980, height=500)"
   ]
  },
  {
   "cell_type": "markdown",
   "metadata": {},
   "source": [
    "- We clean the data using the [`clean_df`](scraping_function.py) function, in this step we keep the data of the years of interest \n",
    "- And finally save the cleaned `DFs` in `.csv` files (using the  [`save_data`](scraping_function.py) function)\n",
    "- The file Data_bachelor is emptied and the csv files are loaded each time we execute the cell, this was done for modularity and flexibility reasons, in order for example to further select the year, or the pedagogic period.\n",
    "- An Important note here is that we do not take in account the ongoing academic year (2016-2017) for the simple reason that we cannot know if a student will really finish the year."
   ]
  },
  {
   "cell_type": "code",
   "execution_count": 6,
   "metadata": {
    "collapsed": false
   },
   "outputs": [
    {
     "name": "stdout",
     "output_type": "stream",
     "text": [
      "1  request sent.\n",
      "Data collected from the  1  request.\n",
      "**************************************************\n",
      "2  request sent.\n",
      "Data collected from the  2  request.\n",
      "**************************************************\n",
      "3  request sent.\n",
      "Data collected from the  3  request.\n",
      "**************************************************\n",
      "4  request sent.\n",
      "Data collected from the  4  request.\n",
      "**************************************************\n",
      "5  request sent.\n",
      "Data collected from the  5  request.\n",
      "**************************************************\n",
      "6  request sent.\n",
      "Data collected from the  6  request.\n",
      "**************************************************\n",
      "Done\n"
     ]
    }
   ],
   "source": [
    "fetch_files('Data_bachelor', urls)"
   ]
  },
  {
   "cell_type": "markdown",
   "metadata": {},
   "source": [
    "#### Step 2: Keep only the students for which you have an entry for both Bachelor semestre 1 and Bachelor semestre 6\n",
    "Now that we have all the data stored, we import and start to analyze them!\n",
    "\n",
    "We read the `.csv` fies as `DataFrame`, thus we concatenate them on the axis 0. It's done by the `import_data` function."
   ]
  },
  {
   "cell_type": "code",
   "execution_count": 7,
   "metadata": {
    "collapsed": false
   },
   "outputs": [],
   "source": [
    "data = import_data('Data_bachelor/')"
   ]
  },
  {
   "cell_type": "markdown",
   "metadata": {},
   "source": [
    "Hence, we proceed accomplishing the task of this step, in fact we filter the df according to the required criteria. In particular we `groupby` the frame according to the *Sciper number* that is unique for each enrolled student. Then we keep only the students (group) that have in the domain *Pedagogic period* at least one *Semester 1 & Semester 6*. A more technical procedure is explained inside the function `extract_students` found in the library provided with the notebook."
   ]
  },
  {
   "cell_type": "code",
   "execution_count": 8,
   "metadata": {
    "collapsed": false
   },
   "outputs": [],
   "source": [
    "df_students = extract_students(data)"
   ]
  },
  {
   "cell_type": "code",
   "execution_count": 9,
   "metadata": {
    "collapsed": false
   },
   "outputs": [
    {
     "data": {
      "text/html": [
       "<div>\n",
       "<table border=\"1\" class=\"dataframe\">\n",
       "  <thead>\n",
       "    <tr style=\"text-align: right;\">\n",
       "      <th></th>\n",
       "      <th>Civilité</th>\n",
       "      <th>Nom Prénom</th>\n",
       "      <th>Orientation Bachelor</th>\n",
       "      <th>Orientation Master</th>\n",
       "      <th>Spécialisation</th>\n",
       "      <th>Filière opt.</th>\n",
       "      <th>Mineur</th>\n",
       "      <th>Statut</th>\n",
       "      <th>Type Echange</th>\n",
       "      <th>Ecole Echange</th>\n",
       "      <th>No_Sciper</th>\n",
       "      <th>Academic year</th>\n",
       "      <th>Pedagogic period</th>\n",
       "    </tr>\n",
       "  </thead>\n",
       "  <tbody>\n",
       "    <tr>\n",
       "      <th>0</th>\n",
       "      <td>Monsieur</td>\n",
       "      <td>Arévalo Christian</td>\n",
       "      <td>NaN</td>\n",
       "      <td>NaN</td>\n",
       "      <td>NaN</td>\n",
       "      <td>NaN</td>\n",
       "      <td>NaN</td>\n",
       "      <td>Présent</td>\n",
       "      <td>NaN</td>\n",
       "      <td>NaN</td>\n",
       "      <td>169569</td>\n",
       "      <td>2007-2008</td>\n",
       "      <td>Bachelor semestre 1</td>\n",
       "    </tr>\n",
       "    <tr>\n",
       "      <th>1</th>\n",
       "      <td>Monsieur</td>\n",
       "      <td>Aubelle Flavien</td>\n",
       "      <td>NaN</td>\n",
       "      <td>NaN</td>\n",
       "      <td>NaN</td>\n",
       "      <td>NaN</td>\n",
       "      <td>NaN</td>\n",
       "      <td>Présent</td>\n",
       "      <td>NaN</td>\n",
       "      <td>NaN</td>\n",
       "      <td>174905</td>\n",
       "      <td>2007-2008</td>\n",
       "      <td>Bachelor semestre 1</td>\n",
       "    </tr>\n",
       "    <tr>\n",
       "      <th>3</th>\n",
       "      <td>Monsieur</td>\n",
       "      <td>Baeriswyl Jonathan</td>\n",
       "      <td>NaN</td>\n",
       "      <td>NaN</td>\n",
       "      <td>NaN</td>\n",
       "      <td>NaN</td>\n",
       "      <td>NaN</td>\n",
       "      <td>Présent</td>\n",
       "      <td>NaN</td>\n",
       "      <td>NaN</td>\n",
       "      <td>179406</td>\n",
       "      <td>2007-2008</td>\n",
       "      <td>Bachelor semestre 1</td>\n",
       "    </tr>\n",
       "    <tr>\n",
       "      <th>4</th>\n",
       "      <td>Monsieur</td>\n",
       "      <td>Barroco Michael</td>\n",
       "      <td>NaN</td>\n",
       "      <td>NaN</td>\n",
       "      <td>NaN</td>\n",
       "      <td>NaN</td>\n",
       "      <td>NaN</td>\n",
       "      <td>Présent</td>\n",
       "      <td>NaN</td>\n",
       "      <td>NaN</td>\n",
       "      <td>179428</td>\n",
       "      <td>2007-2008</td>\n",
       "      <td>Bachelor semestre 1</td>\n",
       "    </tr>\n",
       "    <tr>\n",
       "      <th>7</th>\n",
       "      <td>Monsieur</td>\n",
       "      <td>Bindschaedler Vincent</td>\n",
       "      <td>NaN</td>\n",
       "      <td>NaN</td>\n",
       "      <td>NaN</td>\n",
       "      <td>NaN</td>\n",
       "      <td>NaN</td>\n",
       "      <td>Présent</td>\n",
       "      <td>NaN</td>\n",
       "      <td>NaN</td>\n",
       "      <td>179449</td>\n",
       "      <td>2007-2008</td>\n",
       "      <td>Bachelor semestre 1</td>\n",
       "    </tr>\n",
       "  </tbody>\n",
       "</table>\n",
       "</div>"
      ],
      "text/plain": [
       "   Civilité             Nom Prénom  Orientation Bachelor  Orientation Master  \\\n",
       "0  Monsieur      Arévalo Christian                   NaN                 NaN   \n",
       "1  Monsieur        Aubelle Flavien                   NaN                 NaN   \n",
       "3  Monsieur     Baeriswyl Jonathan                   NaN                 NaN   \n",
       "4  Monsieur        Barroco Michael                   NaN                 NaN   \n",
       "7  Monsieur  Bindschaedler Vincent                   NaN                 NaN   \n",
       "\n",
       "   Spécialisation Filière opt.  Mineur   Statut Type Echange Ecole Echange  \\\n",
       "0             NaN          NaN     NaN  Présent          NaN           NaN   \n",
       "1             NaN          NaN     NaN  Présent          NaN           NaN   \n",
       "3             NaN          NaN     NaN  Présent          NaN           NaN   \n",
       "4             NaN          NaN     NaN  Présent          NaN           NaN   \n",
       "7             NaN          NaN     NaN  Présent          NaN           NaN   \n",
       "\n",
       "   No_Sciper Academic year      Pedagogic period  \n",
       "0     169569     2007-2008   Bachelor semestre 1  \n",
       "1     174905     2007-2008   Bachelor semestre 1  \n",
       "3     179406     2007-2008   Bachelor semestre 1  \n",
       "4     179428     2007-2008   Bachelor semestre 1  \n",
       "7     179449     2007-2008   Bachelor semestre 1  "
      ]
     },
     "execution_count": 9,
     "metadata": {},
     "output_type": "execute_result"
    }
   ],
   "source": [
    "df_students.head()"
   ]
  },
  {
   "cell_type": "markdown",
   "metadata": {},
   "source": [
    "#### Step 3: Compute how many months it took each student to go from the first to the sixth semester\n",
    "\n",
    "In this step we compute how many months each student spent to get from the 1st to the 6th semester. The assumptions we rely on are the following:\n",
    "- A student reach the *Semester 6* whether he doesn't have to sit again any other semester. We make this assumption because we think that the choice of the 6th semester is useful to compute the time an epfl student need to graduated at bachelor\n",
    "- Each semester lasts 6 months"
   ]
  },
  {
   "cell_type": "markdown",
   "metadata": {},
   "source": [
    "Before getting the duration of studies for each student, since we want to get their names, we check whether the name could be considered as an index. The way we do that is that the number of *names* should be equal to the number of *Scipers*."
   ]
  },
  {
   "cell_type": "code",
   "execution_count": 10,
   "metadata": {
    "collapsed": false
   },
   "outputs": [
    {
     "data": {
      "text/plain": [
       "True"
      ]
     },
     "execution_count": 10,
     "metadata": {},
     "output_type": "execute_result"
    }
   ],
   "source": [
    "len(df_students['Nom Prénom'].unique()) == len(df_students['No_Sciper'].unique())"
   ]
  },
  {
   "cell_type": "markdown",
   "metadata": {},
   "source": [
    "First, we're going to extract the male features. Thus, we `select` the *Civilité* to be *Monsieur* (male) and then `groupby` *Nom Prénom* which is an index, the last operation we operate is an aggregate function `size()*6` in order to get the number of pedagogic period attached to a person and multiply it by 6 in order to get the correspondant time duration in months to get from the first to the sixth semester."
   ]
  },
  {
   "cell_type": "code",
   "execution_count": 11,
   "metadata": {
    "collapsed": false,
    "scrolled": true
   },
   "outputs": [],
   "source": [
    "df_male_aggregated = pd.DataFrame(df_students[df_students['Civilité'] == 'Monsieur'].groupby('Nom Prénom').size()*6)"
   ]
  },
  {
   "cell_type": "markdown",
   "metadata": {},
   "source": [
    "We print some aggregated information to get a feeling of the data that may be useful later, and especially for choosing the right statistical test."
   ]
  },
  {
   "cell_type": "code",
   "execution_count": 12,
   "metadata": {
    "collapsed": false
   },
   "outputs": [
    {
     "data": {
      "text/html": [
       "<div>\n",
       "<table border=\"1\" class=\"dataframe\">\n",
       "  <thead>\n",
       "    <tr style=\"text-align: right;\">\n",
       "      <th></th>\n",
       "      <th>0</th>\n",
       "    </tr>\n",
       "  </thead>\n",
       "  <tbody>\n",
       "    <tr>\n",
       "      <th>count</th>\n",
       "      <td>347.000000</td>\n",
       "    </tr>\n",
       "    <tr>\n",
       "      <th>mean</th>\n",
       "      <td>42.622478</td>\n",
       "    </tr>\n",
       "    <tr>\n",
       "      <th>std</th>\n",
       "      <td>9.044774</td>\n",
       "    </tr>\n",
       "    <tr>\n",
       "      <th>min</th>\n",
       "      <td>24.000000</td>\n",
       "    </tr>\n",
       "    <tr>\n",
       "      <th>25%</th>\n",
       "      <td>36.000000</td>\n",
       "    </tr>\n",
       "    <tr>\n",
       "      <th>50%</th>\n",
       "      <td>36.000000</td>\n",
       "    </tr>\n",
       "    <tr>\n",
       "      <th>75%</th>\n",
       "      <td>48.000000</td>\n",
       "    </tr>\n",
       "    <tr>\n",
       "      <th>max</th>\n",
       "      <td>72.000000</td>\n",
       "    </tr>\n",
       "  </tbody>\n",
       "</table>\n",
       "</div>"
      ],
      "text/plain": [
       "                0\n",
       "count  347.000000\n",
       "mean    42.622478\n",
       "std      9.044774\n",
       "min     24.000000\n",
       "25%     36.000000\n",
       "50%     36.000000\n",
       "75%     48.000000\n",
       "max     72.000000"
      ]
     },
     "execution_count": 12,
     "metadata": {},
     "output_type": "execute_result"
    }
   ],
   "source": [
    "df_male_aggregated.describe()"
   ]
  },
  {
   "cell_type": "markdown",
   "metadata": {},
   "source": [
    "Plotting the data so we can apprehend what would be the distribution and to get better understanding of the data such as uncovering the presence of outliers etc..."
   ]
  },
  {
   "cell_type": "code",
   "execution_count": 13,
   "metadata": {
    "collapsed": false
   },
   "outputs": [
    {
     "data": {
      "text/plain": [
       "(array([   1.,    0.,    0.,    0.,    0.,    0.,    0.,    0.,    0.,\n",
       "           0.,    0.,    0.,  192.,    0.,    0.,    0.,    0.,    0.,\n",
       "          28.,    0.,    0.,    0.,    0.,    0.,    0.,   74.,    0.,\n",
       "           0.,    0.,    0.,    0.,   14.,    0.,    0.,    0.,    0.,\n",
       "           0.,   29.,    0.,    0.,    0.,    0.,    0.,    3.,    0.,\n",
       "           0.,    0.,    0.,    0.,    6.]),\n",
       " array([ 24.  ,  24.96,  25.92,  26.88,  27.84,  28.8 ,  29.76,  30.72,\n",
       "         31.68,  32.64,  33.6 ,  34.56,  35.52,  36.48,  37.44,  38.4 ,\n",
       "         39.36,  40.32,  41.28,  42.24,  43.2 ,  44.16,  45.12,  46.08,\n",
       "         47.04,  48.  ,  48.96,  49.92,  50.88,  51.84,  52.8 ,  53.76,\n",
       "         54.72,  55.68,  56.64,  57.6 ,  58.56,  59.52,  60.48,  61.44,\n",
       "         62.4 ,  63.36,  64.32,  65.28,  66.24,  67.2 ,  68.16,  69.12,\n",
       "         70.08,  71.04,  72.  ]),\n",
       " <a list of 50 Patch objects>)"
      ]
     },
     "execution_count": 13,
     "metadata": {},
     "output_type": "execute_result"
    },
    {
     "data": {
      "image/png": "[encoded data removed]",
      "text/plain": [
       "<matplotlib.figure.Figure at 0x1179f7eb8>"
      ]
     },
     "metadata": {},
     "output_type": "display_data"
    }
   ],
   "source": [
    "plt.hist(df_male_aggregated.values, bins = 50)"
   ]
  },
  {
   "cell_type": "markdown",
   "metadata": {},
   "source": [
    "We try to suppress outliers and look at the results."
   ]
  },
  {
   "cell_type": "code",
   "execution_count": 14,
   "metadata": {
    "collapsed": false
   },
   "outputs": [],
   "source": [
    "# Remove outliers\n",
    "df_male_aggregated = df_male_aggregated[df_male_aggregated[0] <= 65].describe()"
   ]
  },
  {
   "cell_type": "markdown",
   "metadata": {},
   "source": [
    "We perform the exact same operations for female students."
   ]
  },
  {
   "cell_type": "code",
   "execution_count": 15,
   "metadata": {
    "collapsed": false
   },
   "outputs": [],
   "source": [
    "df_female_aggregated = pd.DataFrame(df_students[df_students['Civilité'] == 'Madame'].groupby('Nom Prénom').size()*6)"
   ]
  },
  {
   "cell_type": "code",
   "execution_count": 16,
   "metadata": {
    "collapsed": false
   },
   "outputs": [
    {
     "data": {
      "text/html": [
       "<div>\n",
       "<table border=\"1\" class=\"dataframe\">\n",
       "  <thead>\n",
       "    <tr style=\"text-align: right;\">\n",
       "      <th></th>\n",
       "      <th>0</th>\n",
       "    </tr>\n",
       "  </thead>\n",
       "  <tbody>\n",
       "    <tr>\n",
       "      <th>count</th>\n",
       "      <td>28.000000</td>\n",
       "    </tr>\n",
       "    <tr>\n",
       "      <th>mean</th>\n",
       "      <td>39.857143</td>\n",
       "    </tr>\n",
       "    <tr>\n",
       "      <th>std</th>\n",
       "      <td>6.775305</td>\n",
       "    </tr>\n",
       "    <tr>\n",
       "      <th>min</th>\n",
       "      <td>36.000000</td>\n",
       "    </tr>\n",
       "    <tr>\n",
       "      <th>25%</th>\n",
       "      <td>36.000000</td>\n",
       "    </tr>\n",
       "    <tr>\n",
       "      <th>50%</th>\n",
       "      <td>36.000000</td>\n",
       "    </tr>\n",
       "    <tr>\n",
       "      <th>75%</th>\n",
       "      <td>43.500000</td>\n",
       "    </tr>\n",
       "    <tr>\n",
       "      <th>max</th>\n",
       "      <td>60.000000</td>\n",
       "    </tr>\n",
       "  </tbody>\n",
       "</table>\n",
       "</div>"
      ],
      "text/plain": [
       "               0\n",
       "count  28.000000\n",
       "mean   39.857143\n",
       "std     6.775305\n",
       "min    36.000000\n",
       "25%    36.000000\n",
       "50%    36.000000\n",
       "75%    43.500000\n",
       "max    60.000000"
      ]
     },
     "execution_count": 16,
     "metadata": {},
     "output_type": "execute_result"
    }
   ],
   "source": [
    "df_female_aggregated.describe()"
   ]
  },
  {
   "cell_type": "code",
   "execution_count": 17,
   "metadata": {
    "collapsed": false
   },
   "outputs": [
    {
     "data": {
      "text/plain": [
       "(array([ 20.,   0.,   0.,   0.,   0.,   0.,   0.,   0.,   0.,   0.,   0.,\n",
       "          0.,   1.,   0.,   0.,   0.,   0.,   0.,   0.,   0.,   0.,   0.,\n",
       "          0.,   0.,   0.,   5.,   0.,   0.,   0.,   0.,   0.,   0.,   0.,\n",
       "          0.,   0.,   0.,   0.,   1.,   0.,   0.,   0.,   0.,   0.,   0.,\n",
       "          0.,   0.,   0.,   0.,   0.,   1.]),\n",
       " array([ 36.  ,  36.48,  36.96,  37.44,  37.92,  38.4 ,  38.88,  39.36,\n",
       "         39.84,  40.32,  40.8 ,  41.28,  41.76,  42.24,  42.72,  43.2 ,\n",
       "         43.68,  44.16,  44.64,  45.12,  45.6 ,  46.08,  46.56,  47.04,\n",
       "         47.52,  48.  ,  48.48,  48.96,  49.44,  49.92,  50.4 ,  50.88,\n",
       "         51.36,  51.84,  52.32,  52.8 ,  53.28,  53.76,  54.24,  54.72,\n",
       "         55.2 ,  55.68,  56.16,  56.64,  57.12,  57.6 ,  58.08,  58.56,\n",
       "         59.04,  59.52,  60.  ]),\n",
       " <a list of 50 Patch objects>)"
      ]
     },
     "execution_count": 17,
     "metadata": {},
     "output_type": "execute_result"
    },
    {
     "data": {
      "image/png": "[encoded data removed]",
      "text/plain": [
       "<matplotlib.figure.Figure at 0x1179283c8>"
      ]
     },
     "metadata": {},
     "output_type": "display_data"
    }
   ],
   "source": [
    "plt.hist(df_female_aggregated.values, bins = 50)"
   ]
  },
  {
   "cell_type": "code",
   "execution_count": 18,
   "metadata": {
    "collapsed": true
   },
   "outputs": [],
   "source": [
    "# Remove outlier\n",
    "df_female_aggregated = df_female_aggregated[df_female_aggregated[0] < 60].describe()"
   ]
  },
  {
   "cell_type": "markdown",
   "metadata": {},
   "source": [
    "#### Step 4:  Run the statistical test"
   ]
  },
  {
   "cell_type": "markdown",
   "metadata": {},
   "source": [
    "In order to test whether there is a statistically significant difference between the average stay at EPFL of female and male students, we are going to compute a *two-sample t-test*.\n",
    "The assumptions behind the latter are:\n",
    "1. The independence of the samples we are referring to \n",
    "2. The normality of the distribution observation\n",
    "\n",
    "Assumption `1` is verified, the number `2` is not fulfilled. But since the *test* works well even if the second assumption doesn't hold when *n* is big, we decide to use it."
   ]
  },
  {
   "cell_type": "markdown",
   "metadata": {},
   "source": [
    "Test setup:\n",
    "\n",
    "$$H_0: \\mu_{M} - \\mu_{F} = 0$$\n",
    "\n",
    "$$H_1: \\mu_{M} - \\mu_{F} \\neq 0$$"
   ]
  },
  {
   "cell_type": "code",
   "execution_count": 19,
   "metadata": {
    "collapsed": false
   },
   "outputs": [
    {
     "data": {
      "text/plain": [
       "Ttest_indResult(statistic=array([ 1.03823379]), pvalue=array([ 0.33264637]))"
      ]
     },
     "execution_count": 19,
     "metadata": {},
     "output_type": "execute_result"
    }
   ],
   "source": [
    "# Run the test\n",
    "stats.ttest_ind(df_male_aggregated, df_female_aggregated, equal_var=False)"
   ]
  },
  {
   "cell_type": "markdown",
   "metadata": {},
   "source": [
    "According to the *p-value* (> $\\alpha = 0.05$) we do not reject the null hypotesis. So we claim that there is not statistically significant difference between the averages of the two samples."
   ]
  },
  {
   "cell_type": "markdown",
   "metadata": {
    "collapsed": true
   },
   "source": [
    "### 2) Master Analysis"
   ]
  },
  {
   "cell_type": "markdown",
   "metadata": {},
   "source": [
    "The goal of the exercise is to find any specialization for which the difference in average is statistically significant with the one of the entire population of master students. In order to accomplish this task we perform similar operation to the one described above, this time for Master students. In particular:\n",
    "1. We try to guess how much time a master student spent at EPFL  and we compute the \"average stay at EPFL\" for master students\n",
    "2. We extract all the students with a Spécialisation, then compute the \"average stay\" per each category of that attribute.\n",
    "3. We run statistical tests "
   ]
  },
  {
   "cell_type": "markdown",
   "metadata": {},
   "source": [
    "We will use code and pipelines from the Bachelor study as we used modular and reusable code. We use the same procedure to craft urls and select the data needed, namely data with *ww_x_PERIODE_PEDAGO* having *master* included or *projet*.\n",
    "\n",
    "*IMPORTANT:* We made strong assumptions facing the imprecise nature of the data :\n",
    "- A Master's without *Spécialisation* or *Mineur* takes two semesters.\n",
    "- A Master's with *Spécialisation* or *Mineur* takes three semesters.\n",
    "- The duration of the *Master's thesis* is not included because it's not corresponding with the *Projet Prin* or *Projet Autu*, the data being too scarse compared to the number of registered in *Master Semester X*. The thesis is mandatory and can be done at EPFL but also in the industry, for this reason, we choose not to include it in our estimation for the *stay at EPFL* duration, because for the majority of the students, the thesis will be done outside EPFL walls.\n",
    "- The *Projet* semester is considered as an optional semester project done at EPFL, its duration will be simply added to the time student spent at EPFL."
   ]
  },
  {
   "cell_type": "code",
   "execution_count": 20,
   "metadata": {
    "collapsed": false,
    "scrolled": false
   },
   "outputs": [
    {
     "data": {
      "text/html": [
       "\n",
       "        <iframe\n",
       "            width=\"980\"\n",
       "            height=\"500\"\n",
       "            src=\"master_pdf.pdf\"\n",
       "            frameborder=\"0\"\n",
       "            allowfullscreen\n",
       "        ></iframe>\n",
       "        "
      ],
      "text/plain": [
       "<IPython.lib.display.IFrame at 0x11831ce80>"
      ]
     },
     "execution_count": 20,
     "metadata": {},
     "output_type": "execute_result"
    }
   ],
   "source": [
    "IFrame('master_pdf.pdf', width=980, height=500)"
   ]
  },
  {
   "cell_type": "markdown",
   "metadata": {},
   "source": [
    "#### Step 1: Guess how much time a master student spent at EPFL  computing the \"average stay\""
   ]
  },
  {
   "cell_type": "code",
   "execution_count": 21,
   "metadata": {
    "collapsed": true
   },
   "outputs": [],
   "source": [
    "# Create the list of the URLs we are making the request to\n",
    "urls = []\n",
    "\n",
    "# For each possible semester, \n",
    "for semester in dic_par['ww_x_PERIODE_PEDAGO']:\n",
    "    # Except for those known as semester 5b and 6b that DON'T contain data\n",
    "    if semester.startswith('Master') or semester.startswith('Projet'):  \n",
    "        # We define the link to append to our list\n",
    "        url_data = compose_url(dic_par, semester)\n",
    "        urls.append(url_data)"
   ]
  },
  {
   "cell_type": "markdown",
   "metadata": {},
   "source": [
    "Once urls are created we will load and store the data into *Data_master* folder, the procedure is exactly identical than the one used in the previous exercise, we again use [`fetch_files`](scraping_function.py) defined as a helper in a separate file consultable on the GitHub."
   ]
  },
  {
   "cell_type": "code",
   "execution_count": 22,
   "metadata": {
    "collapsed": false
   },
   "outputs": [
    {
     "name": "stdout",
     "output_type": "stream",
     "text": [
      "1  request sent.\n",
      "Data collected from the  1  request.\n",
      "**************************************************\n",
      "2  request sent.\n",
      "Data collected from the  2  request.\n",
      "**************************************************\n",
      "3  request sent.\n",
      "Data collected from the  3  request.\n",
      "**************************************************\n",
      "4  request sent.\n",
      "Data collected from the  4  request.\n",
      "**************************************************\n",
      "5  request sent.\n",
      "Data collected from the  5  request.\n",
      "**************************************************\n",
      "6  request sent.\n",
      "Data collected from the  6  request.\n",
      "**************************************************\n",
      "Done\n"
     ]
    }
   ],
   "source": [
    "fetch_files('Data_master', urls)"
   ]
  },
  {
   "cell_type": "markdown",
   "metadata": {},
   "source": [
    "Import the data previously downloaded."
   ]
  },
  {
   "cell_type": "code",
   "execution_count": 23,
   "metadata": {
    "collapsed": true
   },
   "outputs": [],
   "source": [
    "data = import_data('Data_master/')"
   ]
  },
  {
   "cell_type": "markdown",
   "metadata": {},
   "source": [
    "We verify that the data we retrieved is the one we were targeting."
   ]
  },
  {
   "cell_type": "code",
   "execution_count": 24,
   "metadata": {
    "collapsed": false
   },
   "outputs": [
    {
     "data": {
      "text/plain": [
       "array([' Master semestre 1 \\xa0', ' Master semestre 2 \\xa0',\n",
       "       ' Master semestre 3 \\xa0', ' Projet Master autom',\n",
       "       ' Projet Master print'], dtype=object)"
      ]
     },
     "execution_count": 24,
     "metadata": {},
     "output_type": "execute_result"
    }
   ],
   "source": [
    "data['Pedagogic period'].unique()"
   ]
  },
  {
   "cell_type": "markdown",
   "metadata": {},
   "source": [
    "Here we are interested by the time it took students to get their first 60 credits, as it is mandatory for everyone. In this first step we pre-select the data."
   ]
  },
  {
   "cell_type": "code",
   "execution_count": 25,
   "metadata": {
    "collapsed": true
   },
   "outputs": [],
   "source": [
    "# Data to compute the time for 60 credits\n",
    "data_time = data[(data['Pedagogic period'] == ' Master semestre 1 \\xa0') \n",
    "                 | (data['Pedagogic period'] == ' Master semestre 2 \\xa0')]"
   ]
  },
  {
   "cell_type": "markdown",
   "metadata": {},
   "source": [
    "Second step : we prepare a filter to isolate the data needed. We first `groupby` *No_Sciper* and to get an aggregate on the *Pedagogic Period*."
   ]
  },
  {
   "cell_type": "code",
   "execution_count": 26,
   "metadata": {
    "collapsed": true
   },
   "outputs": [],
   "source": [
    "# Select students that starts and ends master's first 60 credits at EPFL ---> master 1 and master 2\n",
    "# Group by the identification number of the students\n",
    "grouped_data = data_time.groupby('No_Sciper')\n",
    "    \n",
    "    \n",
    "# Define the semesters we want the students have been enrolled in.\n",
    "master_sem = pd.Series([' Master semestre 1 \\xa0', ' Master semestre 2 \\xa0'])\n",
    "    \n",
    "# Get the list of the students (we are interested in) No_Sciper\n",
    "students = []\n",
    "    \n",
    "# For each group\n",
    "for g in grouped_data.groups:\n",
    "    # We extract the Pedagocic periods \n",
    "    period_attended = grouped_data.get_group(g)['Pedagogic period']\n",
    "    # Whether both Semester 1 and semester 2 are included we select the student (@ISSUE: Are we sure we don't want it >= 2?)\n",
    "    # Otherwise we just count those who have never repeat a semester\n",
    "    if sum(master_sem.isin(period_attended)) >= 2:\n",
    "        students.append(g)"
   ]
  },
  {
   "cell_type": "markdown",
   "metadata": {},
   "source": [
    "Apply the selection prepared previously to our data"
   ]
  },
  {
   "cell_type": "code",
   "execution_count": 27,
   "metadata": {
    "collapsed": true
   },
   "outputs": [],
   "source": [
    "selected_students = data_time.query('No_Sciper in @students')"
   ]
  },
  {
   "cell_type": "markdown",
   "metadata": {},
   "source": [
    "Verify that our processing is correct."
   ]
  },
  {
   "cell_type": "code",
   "execution_count": 28,
   "metadata": {
    "collapsed": false
   },
   "outputs": [
    {
     "data": {
      "text/plain": [
       "array([' Master semestre 1 \\xa0', ' Master semestre 2 \\xa0'], dtype=object)"
      ]
     },
     "execution_count": 28,
     "metadata": {},
     "output_type": "execute_result"
    }
   ],
   "source": [
    "selected_students['Pedagogic period'].unique()"
   ]
  },
  {
   "cell_type": "markdown",
   "metadata": {},
   "source": [
    "Apply aggregate to get the time spent in months."
   ]
  },
  {
   "cell_type": "code",
   "execution_count": 29,
   "metadata": {
    "collapsed": true
   },
   "outputs": [],
   "source": [
    "# time from ma1 to ma2\n",
    "time_ma1_ma2 = selected_students.groupby('No_Sciper').size()*6"
   ]
  },
  {
   "cell_type": "code",
   "execution_count": 30,
   "metadata": {
    "collapsed": false
   },
   "outputs": [
    {
     "name": "stdout",
     "output_type": "stream",
     "text": [
      "14.442970822281167 12.0\n",
      "count    754.000000\n",
      "mean      14.442971\n",
      "std        3.749112\n",
      "min       12.000000\n",
      "25%       12.000000\n",
      "50%       12.000000\n",
      "75%       18.000000\n",
      "max       36.000000\n",
      "dtype: float64\n"
     ]
    }
   ],
   "source": [
    "# Average time spent at epfl for master students. just counting semester 1 and 2\n",
    "print (time_ma1_ma2.mean(), time_ma1_ma2.median())\n",
    "print (time_ma1_ma2.describe())"
   ]
  },
  {
   "cell_type": "markdown",
   "metadata": {},
   "source": [
    "We will additively compute the data relative to Minor and Specialization students, as they had to do their first two Master Semester. For such students we will just add the time of their Minor/Spec which corresponds to Master Semester 3. We look at the students having a semester 3 and that already did their first two semesters (we won't count the students having a specialization having only done semester 1 and 2 and not registered in semester 3 as they may have failed or have to redo one semester)."
   ]
  },
  {
   "cell_type": "code",
   "execution_count": 31,
   "metadata": {
    "collapsed": true
   },
   "outputs": [],
   "source": [
    "# Minor/Spec\n",
    "df_minor_spec = data[data['Pedagogic period'] == ' Master semestre 3 \\xa0']\n",
    "\n",
    "# In minor keep those that already do two semesters\n",
    "minor_spec = df_minor_spec.query('No_Sciper in @students')"
   ]
  },
  {
   "cell_type": "markdown",
   "metadata": {},
   "source": [
    "Apply aggregate to get the time spent in months."
   ]
  },
  {
   "cell_type": "code",
   "execution_count": 32,
   "metadata": {
    "collapsed": true
   },
   "outputs": [],
   "source": [
    "# time to do minor or specialization\n",
    "minor_spec_time = minor_spec.groupby('No_Sciper').size()*6"
   ]
  },
  {
   "cell_type": "markdown",
   "metadata": {},
   "source": [
    "Add the optional project duration according to the assumption mentioned at the begining of the exercise."
   ]
  },
  {
   "cell_type": "code",
   "execution_count": 33,
   "metadata": {
    "collapsed": true
   },
   "outputs": [],
   "source": [
    "df_project = data[(data['Pedagogic period'] == ' Projet Master autom') \n",
    "                | (data['Pedagogic period'] == ' Projet Master print')]\n",
    "project = df_project.query('No_Sciper in @students')"
   ]
  },
  {
   "cell_type": "markdown",
   "metadata": {},
   "source": [
    "Apply aggregate to get the time spent in months."
   ]
  },
  {
   "cell_type": "code",
   "execution_count": 34,
   "metadata": {
    "collapsed": true
   },
   "outputs": [],
   "source": [
    "project_time = project.groupby('No_Sciper').size()*6"
   ]
  },
  {
   "cell_type": "markdown",
   "metadata": {},
   "source": [
    "Thus, we sum up the time each student takes."
   ]
  },
  {
   "cell_type": "code",
   "execution_count": 35,
   "metadata": {
    "collapsed": false
   },
   "outputs": [
    {
     "data": {
      "text/plain": [
       "count    754.000000\n",
       "mean      19.002653\n",
       "std        6.180335\n",
       "min       12.000000\n",
       "25%       12.000000\n",
       "50%       18.000000\n",
       "75%       24.000000\n",
       "max       48.000000\n",
       "dtype: float64"
      ]
     },
     "execution_count": 35,
     "metadata": {},
     "output_type": "execute_result"
    }
   ],
   "source": [
    "total_time = (time_ma1_ma2.add(project_time, fill_value = 0)).add(minor_spec_time, fill_value = 0)\n",
    "total_time.describe()"
   ]
  },
  {
   "cell_type": "markdown",
   "metadata": {},
   "source": [
    "#### Step 2: Extract all the students with a Spécialisation, then compute the \"average stay\" per each category of that attribute"
   ]
  },
  {
   "cell_type": "markdown",
   "metadata": {},
   "source": [
    "Here, we filter all the students who did the Specialisation."
   ]
  },
  {
   "cell_type": "code",
   "execution_count": 36,
   "metadata": {
    "collapsed": true
   },
   "outputs": [],
   "source": [
    "df_special = minor_spec[minor_spec['Spécialisation'].notnull()]\n",
    "special = df_special.query('No_Sciper in @students')"
   ]
  },
  {
   "cell_type": "markdown",
   "metadata": {},
   "source": [
    "And then compute the average stay."
   ]
  },
  {
   "cell_type": "code",
   "execution_count": 37,
   "metadata": {
    "collapsed": false
   },
   "outputs": [],
   "source": [
    "df_special_ = special.groupby('No_Sciper').agg({'Spécialisation' : 'first', 'Pedagogic period' : 'size'})\n",
    "length_stud = df_special_['Pedagogic period']*6\n",
    "length_stud_number = length_stud.index\n",
    "df_special_['Pedagogic period'] = time_ma1_ma2[length_stud_number].add(length_stud, fill_value = 0).values"
   ]
  },
  {
   "cell_type": "code",
   "execution_count": 38,
   "metadata": {
    "collapsed": false
   },
   "outputs": [
    {
     "data": {
      "text/html": [
       "<div>\n",
       "<table border=\"1\" class=\"dataframe\">\n",
       "  <thead>\n",
       "    <tr style=\"text-align: right;\">\n",
       "      <th></th>\n",
       "      <th>Pedagogic period</th>\n",
       "    </tr>\n",
       "    <tr>\n",
       "      <th>Spécialisation</th>\n",
       "      <th></th>\n",
       "    </tr>\n",
       "  </thead>\n",
       "  <tbody>\n",
       "    <tr>\n",
       "      <th>Biocomputing</th>\n",
       "      <td>26.000000</td>\n",
       "    </tr>\n",
       "    <tr>\n",
       "      <th>Computer Engineering - SP</th>\n",
       "      <td>21.200000</td>\n",
       "    </tr>\n",
       "    <tr>\n",
       "      <th>Foundations of Software</th>\n",
       "      <td>23.222222</td>\n",
       "    </tr>\n",
       "    <tr>\n",
       "      <th>Information Security - SP</th>\n",
       "      <td>24.000000</td>\n",
       "    </tr>\n",
       "    <tr>\n",
       "      <th>Internet computing</th>\n",
       "      <td>22.640000</td>\n",
       "    </tr>\n",
       "    <tr>\n",
       "      <th>Service science</th>\n",
       "      <td>20.000000</td>\n",
       "    </tr>\n",
       "    <tr>\n",
       "      <th>Signals, Images and Interfaces</th>\n",
       "      <td>25.428571</td>\n",
       "    </tr>\n",
       "    <tr>\n",
       "      <th>Software Systems</th>\n",
       "      <td>21.333333</td>\n",
       "    </tr>\n",
       "  </tbody>\n",
       "</table>\n",
       "</div>"
      ],
      "text/plain": [
       "                                Pedagogic period\n",
       "Spécialisation                                  \n",
       "Biocomputing                           26.000000\n",
       "Computer Engineering - SP              21.200000\n",
       "Foundations of Software                23.222222\n",
       "Information Security - SP              24.000000\n",
       "Internet computing                     22.640000\n",
       "Service science                        20.000000\n",
       "Signals, Images and Interfaces         25.428571\n",
       "Software Systems                       21.333333"
      ]
     },
     "execution_count": 38,
     "metadata": {},
     "output_type": "execute_result"
    }
   ],
   "source": [
    "df_special_.groupby('Spécialisation').mean()"
   ]
  },
  {
   "cell_type": "markdown",
   "metadata": {},
   "source": [
    "#### Step 3: Run statistical tests "
   ]
  },
  {
   "cell_type": "markdown",
   "metadata": {},
   "source": [
    "In order to test whether there is a statistically significant difference between the average stay at EPFL of students from a Specialisation and the entire population of students who did the Specialisation, we are going to compute a *one-sample t-test*. That's why the sample we are going to make the comparison with are just subsamples of the other (Specialisation_x $\\subset$ Specialisation_population)."
   ]
  },
  {
   "cell_type": "code",
   "execution_count": 39,
   "metadata": {
    "collapsed": false
   },
   "outputs": [],
   "source": [
    "# Compute the mean of the population\n",
    "special_pop = df_special.groupby('No_Sciper').size()*6\n",
    "students_spec = special_pop.index\n",
    "mean_pop = (time_ma1_ma2[students_spec].add(special_pop, fill_value = 0)).mean()"
   ]
  },
  {
   "cell_type": "code",
   "execution_count": 40,
   "metadata": {
    "collapsed": false
   },
   "outputs": [],
   "source": [
    "# Compute samples related to each Specialisation\n",
    "specialisations = df_special['Spécialisation'].unique()"
   ]
  },
  {
   "cell_type": "markdown",
   "metadata": {},
   "source": [
    "*Remark:* due to the possibility that the length of the subsample of the population could be 1 (hence, the variance of the sample can't be computed, therefore neither the test)."
   ]
  },
  {
   "cell_type": "code",
   "execution_count": 41,
   "metadata": {
    "collapsed": false
   },
   "outputs": [],
   "source": [
    "# Run the test for each Specialisation\n",
    "test = {}\n",
    "for spec in specialisations:\n",
    "    # Get the df of spec\n",
    "    df_spec_x = df_special[df_special['Spécialisation'] == spec].groupby('No_Sciper').size()*6\n",
    "    students_spec_x = df_spec_x.index\n",
    "    # Compute the length of stay for each student of the spec\n",
    "    length_stud_spec_x = time_ma1_ma2[students_spec_x].add(df_spec_x, fill_value = 0)\n",
    "    # Check the length of the subsample\n",
    "    if len(length_stud_spec_x) > 1:\n",
    "        test[spec] = stats.ttest_1samp(a= length_stud_spec_x, popmean= mean_pop) "
   ]
  },
  {
   "cell_type": "code",
   "execution_count": 42,
   "metadata": {
    "collapsed": false
   },
   "outputs": [
    {
     "data": {
      "text/html": [
       "<div>\n",
       "<table border=\"1\" class=\"dataframe\">\n",
       "  <thead>\n",
       "    <tr style=\"text-align: right;\">\n",
       "      <th></th>\n",
       "      <th>statistic</th>\n",
       "      <th>pvalue</th>\n",
       "    </tr>\n",
       "  </thead>\n",
       "  <tbody>\n",
       "    <tr>\n",
       "      <th>Software Systems</th>\n",
       "      <td>-1.554932</td>\n",
       "      <td>0.158571</td>\n",
       "    </tr>\n",
       "    <tr>\n",
       "      <th>Service science</th>\n",
       "      <td>-1.486188</td>\n",
       "      <td>0.275569</td>\n",
       "    </tr>\n",
       "    <tr>\n",
       "      <th>Signals, Images and Interfaces</th>\n",
       "      <td>1.884948</td>\n",
       "      <td>0.074052</td>\n",
       "    </tr>\n",
       "    <tr>\n",
       "      <th>Foundations of Software</th>\n",
       "      <td>0.351823</td>\n",
       "      <td>0.726366</td>\n",
       "    </tr>\n",
       "    <tr>\n",
       "      <th>Internet computing</th>\n",
       "      <td>-0.555731</td>\n",
       "      <td>0.580071</td>\n",
       "    </tr>\n",
       "    <tr>\n",
       "      <th>Biocomputing</th>\n",
       "      <td>0.756906</td>\n",
       "      <td>0.528122</td>\n",
       "    </tr>\n",
       "    <tr>\n",
       "      <th>Computer Engineering - SP</th>\n",
       "      <td>-2.215470</td>\n",
       "      <td>0.043810</td>\n",
       "    </tr>\n",
       "  </tbody>\n",
       "</table>\n",
       "</div>"
      ],
      "text/plain": [
       "                                statistic    pvalue\n",
       "Software Systems                -1.554932  0.158571\n",
       "Service science                 -1.486188  0.275569\n",
       "Signals, Images and Interfaces   1.884948  0.074052\n",
       "Foundations of Software          0.351823  0.726366\n",
       "Internet computing              -0.555731  0.580071\n",
       "Biocomputing                     0.756906  0.528122\n",
       "Computer Engineering - SP       -2.215470  0.043810"
      ]
     },
     "execution_count": 42,
     "metadata": {},
     "output_type": "execute_result"
    }
   ],
   "source": [
    "df_test = pd.DataFrame.from_dict(test, orient = 'index')\n",
    "df_test"
   ]
  },
  {
   "cell_type": "markdown",
   "metadata": {},
   "source": [
    "We don't reject the null hypotesis for any `Spécialisation` except from the `Computer Engeneering - SP`. Thus the only `Spécialisation` that register an average of stay at EPFL statistically significant different from the average of the population is the aformentioned. "
   ]
  },
  {
   "cell_type": "markdown",
   "metadata": {},
   "source": [
    "### 3) Bonus"
   ]
  },
  {
   "cell_type": "markdown",
   "metadata": {},
   "source": [
    "1. We perform the gender-based study on the Master students, as we did for the Bachelor ones \n",
    "2. We use scatterplots to visually identify changes over time\n",
    "3. Run statistical tests and match them to the observed trends"
   ]
  },
  {
   "cell_type": "markdown",
   "metadata": {},
   "source": [
    "#### Step 1:  Perform the gender-based study on the Master students, as we did for the Bachelor ones"
   ]
  },
  {
   "cell_type": "code",
   "execution_count": 43,
   "metadata": {
    "collapsed": true
   },
   "outputs": [],
   "source": [
    "# Define male students\n",
    "df_male_aggregated = pd.DataFrame(selected_students[selected_students['Civilité'] == 'Monsieur'].groupby('No_Sciper').size()*6)"
   ]
  },
  {
   "cell_type": "code",
   "execution_count": 44,
   "metadata": {
    "collapsed": false
   },
   "outputs": [
    {
     "data": {
      "text/html": [
       "<div>\n",
       "<table border=\"1\" class=\"dataframe\">\n",
       "  <thead>\n",
       "    <tr style=\"text-align: right;\">\n",
       "      <th></th>\n",
       "      <th>0</th>\n",
       "    </tr>\n",
       "  </thead>\n",
       "  <tbody>\n",
       "    <tr>\n",
       "      <th>count</th>\n",
       "      <td>653.000000</td>\n",
       "    </tr>\n",
       "    <tr>\n",
       "      <th>mean</th>\n",
       "      <td>14.453292</td>\n",
       "    </tr>\n",
       "    <tr>\n",
       "      <th>std</th>\n",
       "      <td>3.714056</td>\n",
       "    </tr>\n",
       "    <tr>\n",
       "      <th>min</th>\n",
       "      <td>12.000000</td>\n",
       "    </tr>\n",
       "    <tr>\n",
       "      <th>25%</th>\n",
       "      <td>12.000000</td>\n",
       "    </tr>\n",
       "    <tr>\n",
       "      <th>50%</th>\n",
       "      <td>12.000000</td>\n",
       "    </tr>\n",
       "    <tr>\n",
       "      <th>75%</th>\n",
       "      <td>18.000000</td>\n",
       "    </tr>\n",
       "    <tr>\n",
       "      <th>max</th>\n",
       "      <td>36.000000</td>\n",
       "    </tr>\n",
       "  </tbody>\n",
       "</table>\n",
       "</div>"
      ],
      "text/plain": [
       "                0\n",
       "count  653.000000\n",
       "mean    14.453292\n",
       "std      3.714056\n",
       "min     12.000000\n",
       "25%     12.000000\n",
       "50%     12.000000\n",
       "75%     18.000000\n",
       "max     36.000000"
      ]
     },
     "execution_count": 44,
     "metadata": {},
     "output_type": "execute_result"
    }
   ],
   "source": [
    "df_male_aggregated.describe()"
   ]
  },
  {
   "cell_type": "code",
   "execution_count": 45,
   "metadata": {
    "collapsed": true
   },
   "outputs": [],
   "source": [
    "# Define female students\n",
    "df_female_aggregated = pd.DataFrame(selected_students[selected_students['Civilité'] == 'Madame'].groupby('No_Sciper').size()*6)"
   ]
  },
  {
   "cell_type": "code",
   "execution_count": 46,
   "metadata": {
    "collapsed": false
   },
   "outputs": [
    {
     "data": {
      "text/html": [
       "<div>\n",
       "<table border=\"1\" class=\"dataframe\">\n",
       "  <thead>\n",
       "    <tr style=\"text-align: right;\">\n",
       "      <th></th>\n",
       "      <th>0</th>\n",
       "    </tr>\n",
       "  </thead>\n",
       "  <tbody>\n",
       "    <tr>\n",
       "      <th>count</th>\n",
       "      <td>101.000000</td>\n",
       "    </tr>\n",
       "    <tr>\n",
       "      <th>mean</th>\n",
       "      <td>14.376238</td>\n",
       "    </tr>\n",
       "    <tr>\n",
       "      <th>std</th>\n",
       "      <td>3.987108</td>\n",
       "    </tr>\n",
       "    <tr>\n",
       "      <th>min</th>\n",
       "      <td>12.000000</td>\n",
       "    </tr>\n",
       "    <tr>\n",
       "      <th>25%</th>\n",
       "      <td>12.000000</td>\n",
       "    </tr>\n",
       "    <tr>\n",
       "      <th>50%</th>\n",
       "      <td>12.000000</td>\n",
       "    </tr>\n",
       "    <tr>\n",
       "      <th>75%</th>\n",
       "      <td>18.000000</td>\n",
       "    </tr>\n",
       "    <tr>\n",
       "      <th>max</th>\n",
       "      <td>36.000000</td>\n",
       "    </tr>\n",
       "  </tbody>\n",
       "</table>\n",
       "</div>"
      ],
      "text/plain": [
       "                0\n",
       "count  101.000000\n",
       "mean    14.376238\n",
       "std      3.987108\n",
       "min     12.000000\n",
       "25%     12.000000\n",
       "50%     12.000000\n",
       "75%     18.000000\n",
       "max     36.000000"
      ]
     },
     "execution_count": 46,
     "metadata": {},
     "output_type": "execute_result"
    }
   ],
   "source": [
    "df_female_aggregated.describe()"
   ]
  },
  {
   "cell_type": "markdown",
   "metadata": {},
   "source": [
    "The statistics result to be pretty similar between the two samples. We run the test to check the presence of a statistically significant difference between the samples. The test we use is the same aforementioned."
   ]
  },
  {
   "cell_type": "code",
   "execution_count": 47,
   "metadata": {
    "collapsed": false
   },
   "outputs": [
    {
     "data": {
      "text/plain": [
       "Ttest_indResult(statistic=array([ 0.18237102]), pvalue=array([ 0.85557944]))"
      ]
     },
     "execution_count": 47,
     "metadata": {},
     "output_type": "execute_result"
    }
   ],
   "source": [
    "stats.ttest_ind(df_male_aggregated, df_female_aggregated, equal_var=False)"
   ]
  },
  {
   "cell_type": "markdown",
   "metadata": {},
   "source": [
    "According to the *p-value* (> $\\alpha = 0.05$) we do not reject the null hypotesis. So we claim that there is no statistically significant difference between the averages of the two samples."
   ]
  },
  {
   "cell_type": "markdown",
   "metadata": {},
   "source": [
    "#### Step 2: Use scatterplots to visually identify changes over time"
   ]
  },
  {
   "cell_type": "markdown",
   "metadata": {},
   "source": [
    "The data we are going to plot are the following:\n",
    "* X-axis: academic year\n",
    "* Y-axis: average stay of male and female students\n",
    "\n",
    "In order to get these data to plot we first filter for first semester of master studies in order to find the starting year of each student, as it may happen that students have repeated the semesters we want to drop the other entries. Moreover since the data is sorted by date we drop following occurences of the master semester 1."
   ]
  },
  {
   "cell_type": "code",
   "execution_count": 48,
   "metadata": {
    "collapsed": true
   },
   "outputs": [],
   "source": [
    "clean_df = selected_students[selected_students['Pedagogic period'] == ' Master semestre 1 \\xa0'].drop_duplicates(subset = ['No_Sciper']).sort_values(by = 'No_Sciper')"
   ]
  },
  {
   "cell_type": "markdown",
   "metadata": {},
   "source": [
    "Whether the process is correct, each student should be appear in only one row of the `DataFrame`. We test it as follows:"
   ]
  },
  {
   "cell_type": "code",
   "execution_count": 49,
   "metadata": {
    "collapsed": false
   },
   "outputs": [
    {
     "data": {
      "text/plain": [
       "True"
      ]
     },
     "execution_count": 49,
     "metadata": {},
     "output_type": "execute_result"
    }
   ],
   "source": [
    "len(clean_df['No_Sciper']) == len(clean_df['No_Sciper'].unique())"
   ]
  },
  {
   "cell_type": "markdown",
   "metadata": {},
   "source": [
    "Then we define a new column that contain the length of stay at EPFL for each student."
   ]
  },
  {
   "cell_type": "code",
   "execution_count": 50,
   "metadata": {
    "collapsed": false
   },
   "outputs": [],
   "source": [
    "total_time_sorted = total_time.sort_index(sort_remaining=False)\n",
    "clean_df['Length_study'] = total_time_sorted.values"
   ]
  },
  {
   "cell_type": "markdown",
   "metadata": {
    "collapsed": true
   },
   "source": [
    "Hence, we make a hierarchical `groupby`."
   ]
  },
  {
   "cell_type": "code",
   "execution_count": 51,
   "metadata": {
    "collapsed": true
   },
   "outputs": [],
   "source": [
    "clean_df_grouped = clean_df.groupby(['Civilité', 'Academic year'])"
   ]
  },
  {
   "cell_type": "markdown",
   "metadata": {},
   "source": [
    "And we compute the average stay for each year distinguish between male and famale students."
   ]
  },
  {
   "cell_type": "code",
   "execution_count": 52,
   "metadata": {
    "collapsed": false
   },
   "outputs": [],
   "source": [
    "# Monsieur - Try with agg fun and apply\n",
    "avg_men = {}\n",
    "avg_women = {}\n",
    "for g in clean_df_grouped.groups:\n",
    "    if g[0] == 'Madame':\n",
    "        avg_women[g[1]] = clean_df_grouped.get_group(g)['Length_study'].mean()\n",
    "    else:\n",
    "        avg_men[g[1]] = clean_df_grouped.get_group(g)['Length_study'].mean()"
   ]
  },
  {
   "cell_type": "code",
   "execution_count": 53,
   "metadata": {
    "collapsed": false
   },
   "outputs": [
    {
     "data": {
      "text/plain": [
       "{' 2007-2008': 19.11864406779661,\n",
       " ' 2008-2009': 18.5,\n",
       " ' 2009-2010': 20.372093023255815,\n",
       " ' 2010-2011': 20.582278481012658,\n",
       " ' 2011-2012': 20.337662337662337,\n",
       " ' 2012-2013': 21.04225352112676,\n",
       " ' 2013-2014': 20.810126582278482,\n",
       " ' 2014-2015': 20.790697674418606,\n",
       " ' 2015-2016': 12.54054054054054}"
      ]
     },
     "execution_count": 53,
     "metadata": {},
     "output_type": "execute_result"
    }
   ],
   "source": [
    "avg_men"
   ]
  },
  {
   "cell_type": "code",
   "execution_count": 54,
   "metadata": {
    "collapsed": false
   },
   "outputs": [
    {
     "data": {
      "text/plain": [
       "{' 2007-2008': 16.2,\n",
       " ' 2008-2009': 21.0,\n",
       " ' 2009-2010': 20.0,\n",
       " ' 2010-2011': 22.153846153846153,\n",
       " ' 2011-2012': 19.875,\n",
       " ' 2012-2013': 21.5,\n",
       " ' 2013-2014': 20.142857142857142,\n",
       " ' 2014-2015': 20.5,\n",
       " ' 2015-2016': 12.4}"
      ]
     },
     "execution_count": 54,
     "metadata": {},
     "output_type": "execute_result"
    }
   ],
   "source": [
    "avg_women"
   ]
  },
  {
   "cell_type": "markdown",
   "metadata": {},
   "source": [
    "Thus, we clean data to plot them."
   ]
  },
  {
   "cell_type": "code",
   "execution_count": 55,
   "metadata": {
    "collapsed": true
   },
   "outputs": [],
   "source": [
    "# Y-axis\n",
    "y_male = collections.OrderedDict(sorted(avg_men.items()))\n",
    "y_female = collections.OrderedDict(sorted(avg_women.items()))\n",
    "# X-axis\n",
    "year = sorted([int(y[:5]) for y in (avg_men.keys())])"
   ]
  },
  {
   "cell_type": "code",
   "execution_count": 56,
   "metadata": {
    "collapsed": false
   },
   "outputs": [
    {
     "data": {
      "image/png": "[encoded data removed]",
      "text/plain": [
       "<matplotlib.figure.Figure at 0x11be64a90>"
      ]
     },
     "metadata": {},
     "output_type": "display_data"
    }
   ],
   "source": [
    "# Plot\n",
    "my_xticks = year\n",
    "plt.xticks(year, my_xticks)\n",
    "plt.plot(year[:-1], list(y_male.values())[:-1], '-ro', label = 'Male')\n",
    "plt.plot(year[:-1], list(y_female.values())[:-1], '-b^', label = 'Female')\n",
    "plt.title('Average stay at EPFL')\n",
    "plt.legend(bbox_to_anchor=(1.05, 1), loc=2, borderaxespad=0.)\n",
    "plt.ylabel('Avg stay')\n",
    "plt.xlabel('Year')\n",
    "plt.show()"
   ]
  },
  {
   "cell_type": "markdown",
   "metadata": {},
   "source": [
    "*Remark:* in plotting data we cannot consider the results for mean in the academic year 2015/2016 because the data related to the second year of their studies aren't present in the data set. So we drop them in the charts."
   ]
  },
  {
   "cell_type": "markdown",
   "metadata": {},
   "source": [
    "#### Step 3: Run statistical tests and match them to the observed trends"
   ]
  },
  {
   "cell_type": "markdown",
   "metadata": {},
   "source": [
    "Then we run the test for each year comparing the male and female samples, the procedure is the same explained above for each test"
   ]
  },
  {
   "cell_type": "code",
   "execution_count": 57,
   "metadata": {
    "collapsed": false
   },
   "outputs": [
    {
     "data": {
      "text/html": [
       "<div>\n",
       "<table border=\"1\" class=\"dataframe\">\n",
       "  <thead>\n",
       "    <tr style=\"text-align: right;\">\n",
       "      <th></th>\n",
       "      <th>t-statistic</th>\n",
       "      <th>p-value</th>\n",
       "    </tr>\n",
       "  </thead>\n",
       "  <tbody>\n",
       "    <tr>\n",
       "      <th>2007-2008</th>\n",
       "      <td>1.160674</td>\n",
       "      <td>0.269735</td>\n",
       "    </tr>\n",
       "    <tr>\n",
       "      <th>2008-2009</th>\n",
       "      <td>-1.481425</td>\n",
       "      <td>0.164100</td>\n",
       "    </tr>\n",
       "    <tr>\n",
       "      <th>2009-2010</th>\n",
       "      <td>0.169785</td>\n",
       "      <td>0.876407</td>\n",
       "    </tr>\n",
       "    <tr>\n",
       "      <th>2010-2011</th>\n",
       "      <td>-0.608228</td>\n",
       "      <td>0.552775</td>\n",
       "    </tr>\n",
       "    <tr>\n",
       "      <th>2011-2012</th>\n",
       "      <td>0.367485</td>\n",
       "      <td>0.715903</td>\n",
       "    </tr>\n",
       "    <tr>\n",
       "      <th>2012-2013</th>\n",
       "      <td>-0.248410</td>\n",
       "      <td>0.807358</td>\n",
       "    </tr>\n",
       "    <tr>\n",
       "      <th>2013-2014</th>\n",
       "      <td>0.436693</td>\n",
       "      <td>0.666779</td>\n",
       "    </tr>\n",
       "    <tr>\n",
       "      <th>2014-2015</th>\n",
       "      <td>0.179394</td>\n",
       "      <td>0.860434</td>\n",
       "    </tr>\n",
       "  </tbody>\n",
       "</table>\n",
       "</div>"
      ],
      "text/plain": [
       "            t-statistic   p-value\n",
       " 2007-2008     1.160674  0.269735\n",
       " 2008-2009    -1.481425  0.164100\n",
       " 2009-2010     0.169785  0.876407\n",
       " 2010-2011    -0.608228  0.552775\n",
       " 2011-2012     0.367485  0.715903\n",
       " 2012-2013    -0.248410  0.807358\n",
       " 2013-2014     0.436693  0.666779\n",
       " 2014-2015     0.179394  0.860434"
      ]
     },
     "execution_count": 57,
     "metadata": {},
     "output_type": "execute_result"
    }
   ],
   "source": [
    "test_results = {}\n",
    "\n",
    "# For each year we define the df of female and male students \n",
    "for year in sorted(clean_df['Academic year'].unique())[:-1]:\n",
    "    df_female = clean_df[(clean_df['Civilité'] == 'Madame') & (clean_df['Academic year'] == year) ]['Length_study']\n",
    "    df_male = clean_df[(clean_df['Civilité'] == 'Monsieur') & (clean_df['Academic year'] == year) ]['Length_study']\n",
    "    \n",
    "    # We run the test\n",
    "    t_test = stats.ttest_ind(df_male, df_female, equal_var=False)\n",
    "    test_results[year] = {'t-statistic' : t_test[0], 'p-value' : t_test[1]}\n",
    "\n",
    "test_results = pd.DataFrame.from_dict(test_results, orient = 'index')\n",
    "test_results"
   ]
  },
  {
   "cell_type": "markdown",
   "metadata": {
    "collapsed": true
   },
   "source": [
    "Due to the fact that all the *p-values* resulted to be greater that then $\\alpha = 0.05$, we don't reject our null hypotesis so there is no statistically significant difference between the averages of the female and male samples over all the years taken into account."
   ]
  }
 ],
 "metadata": {
  "anaconda-cloud": {},
  "kernelspec": {
   "display_name": "Python [Root]",
   "language": "python",
   "name": "Python [Root]"
  },
  "language_info": {
   "codemirror_mode": {
    "name": "ipython",
    "version": 3
   },
   "file_extension": ".py",
   "mimetype": "text/x-python",
   "name": "python",
   "nbconvert_exporter": "python",
   "pygments_lexer": "ipython3",
   "version": "3.5.2"
  }
 },
 "nbformat": 4,
 "nbformat_minor": 0
}
