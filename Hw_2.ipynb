{
 "cells": [
  {
   "cell_type": "code",
   "execution_count": 12,
   "metadata": {
    "collapsed": true
   },
   "outputs": [],
   "source": [
    "import pandas as pd\n",
    "import requests\n",
    "from bs4 import BeautifulSoup\n",
    "import time"
   ]
  },
  {
   "cell_type": "code",
   "execution_count": 13,
   "metadata": {
    "collapsed": true
   },
   "outputs": [],
   "source": [
    "r = requests.get('http://isa.epfl.ch/imoniteur_ISAP/!GEDPUBLICREPORTS.filter?ww_i_reportModel=133685247')\n",
    "html = r.content\n",
    "soup = BeautifulSoup(html, 'html.parser')"
   ]
  },
  {
   "cell_type": "markdown",
   "metadata": {},
   "source": [
    "### Definition of useful functions"
   ]
  },
  {
   "cell_type": "code",
   "execution_count": 14,
   "metadata": {
    "collapsed": true
   },
   "outputs": [],
   "source": [
    "def create_parameter_dict(list_par, html_file):\n",
    "    \"\"\"This function returns a dictionary of that form\n",
    "    \n",
    "                {'parameter_1' : {'name_1' : value_1, ..., 'name_n' : value_n},\n",
    "                 'parameter_2' : {'name_1' : value_1, ..., 'name_n' : value_n},\n",
    "                  ...........,\n",
    "                 'parameter_k' : {'name_1' : value_1, ..., 'name_n' : value_n}}\n",
    "                  \n",
    "        It takes as input:\n",
    "        @list_par = the list of parameters (includes : Academic unit, Academic period, \n",
    "                                                       Pedagogique period, Semester type);\n",
    "        @html_file = the html to read.\"\"\"\n",
    "    \n",
    "    # Create the empty dictionary\n",
    "    format_field = {}\n",
    "    \n",
    "    # Insert two fixed values\n",
    "    format_field['ww_i_reportmodel'] = {'reportmodel' : html_file.input(attrs = {'name':\"ww_i_reportmodel\"})[0]['value']}\n",
    "    format_field[\"ww_i_reportModelXsl\"] = {i.string : i['value'] for i in html_file.input(attrs = {'name':\"ww_i_reportModelXsl\"})}\n",
    "    \n",
    "    for f in list_par:\n",
    "        # For each possible value of the parameter we create a disctionary {name : value}\n",
    "        format_field[f] = {i.string : i['value'] for i in html_file.input(attrs = {'name': f})[0] if i.string != None}\n",
    "    \n",
    "    return (format_field)"
   ]
  },
  {
   "cell_type": "code",
   "execution_count": 15,
   "metadata": {
    "collapsed": true
   },
   "outputs": [],
   "source": [
    "def fun_rec(indexes, df_init, df_new = []):\n",
    "    \"\"\"This is a recursive function that split a given df. It takes as input:\n",
    "    \n",
    "    @indexes : the list of indexes where the dataframe is going to be sliced\n",
    "    @df_init : the dataframe to split\n",
    "    @df_new : the list where the new frames are going to be added\n",
    "    \n",
    "    It returns the list of all the new frames\"\"\"\n",
    "    \n",
    "    # We recall the function until the list of indexes has length = 1\n",
    "    if len(indexes) > 1 :\n",
    "        \n",
    "        # Define the range of indexes to use in order to split\n",
    "        rng = (indexes[1]-indexes[0])\n",
    "        # Split into two parts the df, the head is saved in a list, the tail is used as input for the recalled function\n",
    "        df_head, df_tail = pd.DataFrame(df_init[:rng].values), df_init[rng:]\n",
    "        # Append the head\n",
    "        df_new.append(df_head)\n",
    "        \n",
    "        # Recall the function\n",
    "        return(fun_rec(indexes[1:], df_tail, df_new))\n",
    "        \n",
    "    else: \n",
    "        return (df_new)"
   ]
  },
  {
   "cell_type": "code",
   "execution_count": 16,
   "metadata": {
    "collapsed": false
   },
   "outputs": [
    {
     "data": {
      "text/html": [
       "\n",
       "        <iframe\n",
       "            width=\"980\"\n",
       "            height=\"500\"\n",
       "            src=\"disegno_pdf.pdf\"\n",
       "            frameborder=\"0\"\n",
       "            allowfullscreen\n",
       "        ></iframe>\n",
       "        "
      ],
      "text/plain": [
       "<IPython.lib.display.IFrame at 0x111d5e438>"
      ]
     },
     "execution_count": 16,
     "metadata": {},
     "output_type": "execute_result"
    }
   ],
   "source": [
    "from IPython.display import IFrame\n",
    "IFrame('disegno_pdf.pdf', width=980, height=500)"
   ]
  },
  {
   "cell_type": "code",
   "execution_count": 17,
   "metadata": {
    "collapsed": true
   },
   "outputs": [],
   "source": [
    "def clean_df(df):\n",
    "    \"\"\"This function take as input the dataframe retrieved from IS-Academia. It returns the cleaned df and \n",
    "    saves it in a .csv file.\n",
    "    \n",
    "    @df : dataframe to clean.\"\"\"\n",
    "    \n",
    "    # Get the info related to the df\n",
    "    info = list(df.ix[[0]][0].values)[0]\n",
    "    info_split = info.split(',')\n",
    "    \n",
    "    # Redefine the columns names, in particular they correspond to the 2nd row of the df\n",
    "    df.columns = df.iloc[1]\n",
    "    # Create new columns which describe the df\n",
    "    df['Academic year'] = info_split[1]\n",
    "    df['Pedagogic period'] = info_split[2]\n",
    "    \n",
    "    # Delete the useless columns\n",
    "    df = df.drop(df.columns[-3], axis = 1)\n",
    "    # Drop the useless rows\n",
    "    df = df.drop(df.index[[0,1]])\n",
    "    \n",
    "    # Copy the df on a .csv\n",
    "    df.to_csv(info + '.csv', sep = ',')\n",
    "    \n",
    "    return df"
   ]
  },
  {
   "cell_type": "code",
   "execution_count": 18,
   "metadata": {
    "collapsed": true
   },
   "outputs": [],
   "source": [
    "def retrieve_data(url):\n",
    "    \"\"\"This function takes in input:\n",
    "    \n",
    "    @url : the url we are going to do the request\n",
    "    \n",
    "    and returns all tha frames which contained the data of interest (still dirty)\"\"\"\n",
    "    \n",
    "    # Make the request\n",
    "    req = requests.get(url)\n",
    "    html = req.content\n",
    "    \n",
    "    # Create a dataframe from the html\n",
    "    entire_html = pd.read_html(html)[0]\n",
    "    # Define the indexes on which we are going to split the df\n",
    "    index_split = list(entire_html.loc[entire_html[0] == 'Civilité'].index - 1) + [len(entire_html)]\n",
    "    \n",
    "    # Get the frames\n",
    "    data_retrived = fun_rec(index_split, entire_html, [])\n",
    "    \n",
    "    return (data_retrived)"
   ]
  },
  {
   "cell_type": "code",
   "execution_count": 19,
   "metadata": {
    "collapsed": true
   },
   "outputs": [],
   "source": [
    "def save_data(u):\n",
    "    \"\"\"The fuction save the data from all data retrieved from one request. It takes as input\n",
    "    \n",
    "    @u : url of interest\"\"\"\n",
    "    \n",
    "    retrieved_data = retrieve_data(u)\n",
    "    \n",
    "    for frames in retrieved_data:\n",
    "        clean_df(frames)"
   ]
  },
  {
   "cell_type": "markdown",
   "metadata": {},
   "source": [
    "### Collect data"
   ]
  },
  {
   "cell_type": "code",
   "execution_count": 20,
   "metadata": {
    "collapsed": false
   },
   "outputs": [],
   "source": [
    "al = [\"ww_x_UNITE_ACAD\", \"ww_x_PERIODE_ACAD\", 'ww_x_PERIODE_PEDAGO', 'ww_x_HIVERETE']\n",
    "d = create_parameter_dict(al, soup)"
   ]
  },
  {
   "cell_type": "code",
   "execution_count": 21,
   "metadata": {
    "collapsed": false
   },
   "outputs": [],
   "source": [
    "urls = []\n",
    "for semester in d['ww_x_PERIODE_PEDAGO']:\n",
    "    if semester.startswith('Bachelor') and semester[-1] != 'b':        \n",
    "        url_data = 'http://isa.epfl.ch/imoniteur_ISAP/!GEDPUBLICREPORTS.html?ww_x_GPS=-1&ww_i_reportModel=133685247&ww_i_reportModelXsl=' + d['ww_i_reportModelXsl']['html'] + '&ww_x_UNITE_ACAD=' + d['ww_x_UNITE_ACAD']['Informatique'] + '&ww_x_PERIODE_PEDAGO=' + d['ww_x_PERIODE_PEDAGO'][semester]\n",
    "        urls.append(url_data)\n"
   ]
  },
  {
   "cell_type": "code",
   "execution_count": 22,
   "metadata": {
    "collapsed": false
   },
   "outputs": [
    {
     "name": "stdout",
     "output_type": "stream",
     "text": [
      "http://isa.epfl.ch/imoniteur_ISAP/!GEDPUBLICREPORTS.html?ww_x_GPS=-1&ww_i_reportModel=133685247&ww_i_reportModelXsl=133685270&ww_x_UNITE_ACAD=249847&ww_x_PERIODE_PEDAGO=942175\n",
      "http://isa.epfl.ch/imoniteur_ISAP/!GEDPUBLICREPORTS.html?ww_x_GPS=-1&ww_i_reportModel=133685247&ww_i_reportModelXsl=133685270&ww_x_UNITE_ACAD=249847&ww_x_PERIODE_PEDAGO=942120\n",
      "http://isa.epfl.ch/imoniteur_ISAP/!GEDPUBLICREPORTS.html?ww_x_GPS=-1&ww_i_reportModel=133685247&ww_i_reportModelXsl=133685270&ww_x_UNITE_ACAD=249847&ww_x_PERIODE_PEDAGO=942155\n",
      "http://isa.epfl.ch/imoniteur_ISAP/!GEDPUBLICREPORTS.html?ww_x_GPS=-1&ww_i_reportModel=133685247&ww_i_reportModelXsl=133685270&ww_x_UNITE_ACAD=249847&ww_x_PERIODE_PEDAGO=942163\n",
      "http://isa.epfl.ch/imoniteur_ISAP/!GEDPUBLICREPORTS.html?ww_x_GPS=-1&ww_i_reportModel=133685247&ww_i_reportModelXsl=133685270&ww_x_UNITE_ACAD=249847&ww_x_PERIODE_PEDAGO=249114\n",
      "http://isa.epfl.ch/imoniteur_ISAP/!GEDPUBLICREPORTS.html?ww_x_GPS=-1&ww_i_reportModel=133685247&ww_i_reportModelXsl=133685270&ww_x_UNITE_ACAD=249847&ww_x_PERIODE_PEDAGO=249108\n",
      "26.81602692604065\n"
     ]
    }
   ],
   "source": [
    "s = time.time()\n",
    "for ur in urls:\n",
    "    print (ur)\n",
    "    save_data(ur)\n",
    "print (time.time() - s)"
   ]
  },
  {
   "cell_type": "code",
   "execution_count": null,
   "metadata": {
    "collapsed": true
   },
   "outputs": [],
   "source": []
  },
  {
   "cell_type": "code",
   "execution_count": null,
   "metadata": {
    "collapsed": true
   },
   "outputs": [],
   "source": []
  }
 ],
 "metadata": {
  "anaconda-cloud": {},
  "kernelspec": {
   "display_name": "Python [Root]",
   "language": "python",
   "name": "Python [Root]"
  },
  "language_info": {
   "codemirror_mode": {
    "name": "ipython",
    "version": 3
   },
   "file_extension": ".py",
   "mimetype": "text/x-python",
   "name": "python",
   "nbconvert_exporter": "python",
   "pygments_lexer": "ipython3",
   "version": "3.5.2"
  }
 },
 "nbformat": 4,
 "nbformat_minor": 0
}
